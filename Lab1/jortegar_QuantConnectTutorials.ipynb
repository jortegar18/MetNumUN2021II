{
  "nbformat": 4,
  "nbformat_minor": 0,
  "metadata": {
    "colab": {
      "name": "jortegar_QuantConnectTutorials.ipynb",
      "provenance": [],
      "collapsed_sections": []
    },
    "kernelspec": {
      "display_name": "Python 3",
      "language": "python",
      "name": "python3"
    },
    "language_info": {
      "codemirror_mode": {
        "name": "ipython",
        "version": 3
      },
      "file_extension": ".py",
      "mimetype": "text/x-python",
      "name": "python",
      "nbconvert_exporter": "python",
      "pygments_lexer": "ipython3",
      "version": "3.6.4"
    }
  },
  "cells": [
    {
      "cell_type": "markdown",
      "metadata": {
        "id": "eQzBbvyKQymx"
      },
      "source": [
        "<div align=\"center\">\n",
        "<img style=\"display: block; margin: auto;\" alt=\"photo\" src=\"https://cdn.quantconnect.com/web/i/icon.png\">\n",
        "\n",
        "Quantconnect\n",
        "\n",
        "Introduction to Financial Python\n",
        "</div>\n",
        "\n",
        "# 01 Data Types and Data Structures\n",
        "\n",
        "# Introduction\n",
        "\n",
        "This tutorial provides a basic introduction to the Python programming language. If you are new to Python, you should run the code snippets while reading this tutorial. If you are an advanced Python user, please feel free to skip this chapter.\n",
        "\n",
        "# Basic Variable Types\n",
        "The basic types of variables in Python are: strings, integers, floating point numbers and booleans.\n",
        "\n",
        "Strings in python are identified as a contiguous set of characters represented in either single quotes (' ') or double quotes (\" \").\n"
      ]
    },
    {
      "cell_type": "code",
      "metadata": {
        "colab": {
          "base_uri": "https://localhost:8080/"
        },
        "id": "N5t-UrcfOqid",
        "outputId": "a9975bd1-f33c-41f1-8391-ff5e6611d6ee"
      },
      "source": [
        "#example\n",
        "my_string1 = 'Welcome to'\n",
        "my_string2 = \"QuantConnect\"\n",
        "print(my_string1 + ' ' + my_string2)"
      ],
      "execution_count": null,
      "outputs": [
        {
          "name": "stdout",
          "output_type": "stream",
          "text": [
            "Welcome to QuantConnect\n"
          ]
        }
      ]
    },
    {
      "cell_type": "markdown",
      "metadata": {
        "id": "bXHnxZyHSd1M"
      },
      "source": [
        "An integer is a round number with no values after the decimal point."
      ]
    },
    {
      "cell_type": "code",
      "metadata": {
        "colab": {
          "base_uri": "https://localhost:8080/"
        },
        "id": "pNjuz3toOqif",
        "outputId": "3b855911-6795-429d-c04e-434d0586db72"
      },
      "source": [
        "my_int = 10\n",
        "print(my_int)\n",
        "print(type(my_int))"
      ],
      "execution_count": null,
      "outputs": [
        {
          "name": "stdout",
          "output_type": "stream",
          "text": [
            "10\n",
            "<class 'int'>\n"
          ]
        }
      ]
    },
    {
      "cell_type": "code",
      "metadata": {
        "colab": {
          "base_uri": "https://localhost:8080/"
        },
        "id": "JWSLu4R7E5Lx",
        "outputId": "e2d7be35-2036-470f-c12e-0a968cebd69f"
      },
      "source": [
        "#example\n",
        "my_int = 2494341241\n",
        "\n",
        "print(my_int)\n",
        "print(type(my_int))"
      ],
      "execution_count": null,
      "outputs": [
        {
          "name": "stdout",
          "output_type": "stream",
          "text": [
            "90\n",
            "<class 'int'>\n"
          ]
        }
      ]
    },
    {
      "cell_type": "markdown",
      "metadata": {
        "id": "_1ZanWrYSnzF"
      },
      "source": [
        "The built-in function int() can convert a string into an integer."
      ]
    },
    {
      "cell_type": "code",
      "metadata": {
        "colab": {
          "base_uri": "https://localhost:8080/"
        },
        "id": "zPwGb20FOqif",
        "outputId": "f60e3a53-1ee6-4692-e793-7b7715b260da"
      },
      "source": [
        "my_string = \"100\"\n",
        "print(type(my_string))\n",
        "my_int = int(my_string)\n",
        "print(type(my_int))"
      ],
      "execution_count": null,
      "outputs": [
        {
          "name": "stdout",
          "output_type": "stream",
          "text": [
            "<class 'str'>\n",
            "<class 'int'>\n"
          ]
        }
      ]
    },
    {
      "cell_type": "code",
      "metadata": {
        "colab": {
          "base_uri": "https://localhost:8080/"
        },
        "id": "ZWxnKm_6ILb2",
        "outputId": "3440098e-dcb0-47a5-cedc-64771ec84474"
      },
      "source": [
        "#example\n",
        "my_string = \"929321\"\n",
        "print(type(my_string))\n",
        "my_int = int(my_string)\n",
        "print(type(my_int))"
      ],
      "execution_count": null,
      "outputs": [
        {
          "name": "stdout",
          "output_type": "stream",
          "text": [
            "<class 'str'>\n",
            "<class 'int'>\n"
          ]
        }
      ]
    },
    {
      "cell_type": "markdown",
      "metadata": {
        "id": "WqMDPDTHSrE9"
      },
      "source": [
        "A floating point number, or a float, is a real number in mathematics. In Python we need to include a value after a decimal point to define it as a float"
      ]
    },
    {
      "cell_type": "code",
      "metadata": {
        "colab": {
          "base_uri": "https://localhost:8080/"
        },
        "id": "otCzKKW9Oqig",
        "outputId": "730c3c58-87e9-4861-e792-7433bd59cdb9"
      },
      "source": [
        "my_string = \"100\"\n",
        "my_float = float(my_string)\n",
        "print(type(my_float))"
      ],
      "execution_count": null,
      "outputs": [
        {
          "name": "stdout",
          "output_type": "stream",
          "text": [
            "<class 'float'>\n"
          ]
        }
      ]
    },
    {
      "cell_type": "code",
      "metadata": {
        "colab": {
          "base_uri": "https://localhost:8080/"
        },
        "id": "u3fAcsK4MOaW",
        "outputId": "c2f8a71d-8a14-4ae8-bb9a-9d1ad86ab2c9"
      },
      "source": [
        "#example\n",
        "my_string = \"242141\"\n",
        "my_float = float(my_string)\n",
        "print(type(my_float))"
      ],
      "execution_count": null,
      "outputs": [
        {
          "name": "stdout",
          "output_type": "stream",
          "text": [
            "<class 'float'>\n"
          ]
        }
      ]
    },
    {
      "cell_type": "markdown",
      "metadata": {
        "id": "2iuyv8Q7StTJ"
      },
      "source": [
        "As you can see above, if we don't include a decimal value, the variable would be defined as an integer. The built-in function float() can convert a string or an integer into a float."
      ]
    },
    {
      "cell_type": "code",
      "metadata": {
        "colab": {
          "base_uri": "https://localhost:8080/"
        },
        "id": "wwLw5VthOqig",
        "outputId": "db2f1951-6290-402e-91b8-a9b62b9977b6"
      },
      "source": [
        "my_bool = False\n",
        "print(my_bool)\n",
        "print(type(my_bool))"
      ],
      "execution_count": null,
      "outputs": [
        {
          "name": "stdout",
          "output_type": "stream",
          "text": [
            "False\n",
            "<class 'bool'>\n"
          ]
        }
      ]
    },
    {
      "cell_type": "code",
      "metadata": {
        "id": "K-rrpeypMelx"
      },
      "source": [
        "#example\n",
        "my_bool = True\n",
        "print(my_bool)\n",
        "print(type(my_bool))"
      ],
      "execution_count": null,
      "outputs": []
    },
    {
      "cell_type": "markdown",
      "metadata": {
        "id": "bnGMwH21Szr_"
      },
      "source": [
        "A boolean, or bool, is a binary variable. Its value can only be True or False. It is useful when we do some logic operations, which would be covered in our next chapter."
      ]
    },
    {
      "cell_type": "code",
      "metadata": {
        "colab": {
          "base_uri": "https://localhost:8080/"
        },
        "id": "DMa6pDl5Oqig",
        "outputId": "0a14d682-6faa-4b4c-df8d-77d73b5082c4"
      },
      "source": [
        "print(\"Addition \", 1+1)\n",
        "print(\"Subtraction \", 5-2)\n",
        "print(\"Multiplication \", 2*3)\n",
        "print(\"Division \", 10/2)\n",
        "print('exponent', 2**3)"
      ],
      "execution_count": null,
      "outputs": [
        {
          "name": "stdout",
          "output_type": "stream",
          "text": [
            "Addition  2\n",
            "Subtraction  3\n",
            "Multiplication  6\n",
            "Division  5.0\n",
            "exponent 8\n"
          ]
        }
      ]
    },
    {
      "cell_type": "code",
      "metadata": {
        "colab": {
          "base_uri": "https://localhost:8080/"
        },
        "id": "shZv-NagMp_C",
        "outputId": "1dea3312-97ab-427f-e1e4-1726ba535639"
      },
      "source": [
        "#example\n",
        "print(\"Suma \", 3+3)\n",
        "print(\"Resta \", 6-4)\n",
        "print(\"Multiplicacion \", 4*8)\n",
        "print(\"Division \", 45/5)\n",
        "print('Potenica', 2**5)"
      ],
      "execution_count": null,
      "outputs": [
        {
          "name": "stdout",
          "output_type": "stream",
          "text": [
            "Suma  6\n",
            "Resta  2\n",
            "Multiplicacion  32\n",
            "Division  9.0\n",
            "Potenica 32\n"
          ]
        }
      ]
    },
    {
      "cell_type": "markdown",
      "metadata": {
        "id": "1Xc9G9_sS2ju"
      },
      "source": [
        "# Basic Math Operations\n",
        "\n",
        "The basic math operators in python are demonstrated below:"
      ]
    },
    {
      "cell_type": "code",
      "metadata": {
        "colab": {
          "base_uri": "https://localhost:8080/"
        },
        "id": "KE9gUryAOqig",
        "outputId": "6726fc74-d6e8-40fa-ce7e-ae595a29bd8c"
      },
      "source": [
        "print(1/3)\n",
        "print(1.0/3)"
      ],
      "execution_count": null,
      "outputs": [
        {
          "name": "stdout",
          "output_type": "stream",
          "text": [
            "0.3333333333333333\n",
            "0.3333333333333333\n"
          ]
        }
      ]
    },
    {
      "cell_type": "code",
      "metadata": {
        "colab": {
          "base_uri": "https://localhost:8080/"
        },
        "id": "ZzMs71zxNGop",
        "outputId": "d96ac011-1434-4bbd-a97d-9b4e4d4210b7"
      },
      "source": [
        "#example\n",
        "print(532/2)\n",
        "print(3.141/2)"
      ],
      "execution_count": null,
      "outputs": [
        {
          "name": "stdout",
          "output_type": "stream",
          "text": [
            "266.0\n",
            "1.5705\n"
          ]
        }
      ]
    },
    {
      "cell_type": "markdown",
      "metadata": {
        "id": "AN5Oa3DoS_Nf"
      },
      "source": [
        "# Data Collections\n",
        "\n",
        "## List\n",
        "A list is an ordered collection of values. A list is mutable, which means you can change a list's value without changing the list itself. Creating a list is simply putting different comma-separated values between square brackets."
      ]
    },
    {
      "cell_type": "code",
      "metadata": {
        "colab": {
          "base_uri": "https://localhost:8080/"
        },
        "id": "-tQdNqCvOqig",
        "outputId": "bd2845ce-c82c-4a97-d351-3c63ee66d162"
      },
      "source": [
        "my_list = ['Quant', 'Connect', 1,2,3]\n",
        "print(my_list)"
      ],
      "execution_count": null,
      "outputs": [
        {
          "name": "stdout",
          "output_type": "stream",
          "text": [
            "['Quant', 'Connect', 1, 2, 3]\n"
          ]
        }
      ]
    },
    {
      "cell_type": "code",
      "metadata": {
        "colab": {
          "base_uri": "https://localhost:8080/"
        },
        "id": "k0QSdH9-NX16",
        "outputId": "484adffa-4015-4629-9b85-928b8e569b86"
      },
      "source": [
        "#example\n",
        "my_list = ['I', 'love', 'Python', 3,2,1]\n",
        "print(my_list)"
      ],
      "execution_count": null,
      "outputs": [
        {
          "name": "stdout",
          "output_type": "stream",
          "text": [
            "['I', 'love', 'Python', 3, 2, 1]\n"
          ]
        }
      ]
    },
    {
      "cell_type": "markdown",
      "metadata": {
        "id": "1O0TsgZCTHrM"
      },
      "source": [
        "The values in a list are called \"elements\". We can access list elements by indexing. Python index starts from 0. So if you have a list of length n, the index of the first element will be 0, and that of the last element will be n − 1. By the way, the length of a list can be obtained by the built-in function len()."
      ]
    },
    {
      "cell_type": "code",
      "metadata": {
        "colab": {
          "base_uri": "https://localhost:8080/"
        },
        "id": "QhuVhRR5Oqih",
        "outputId": "ff02f8ba-80cf-40f6-ad21-64e23ee35621"
      },
      "source": [
        "my_list = ['Quant', 'Connect', 1,2,3]\n",
        "print(len(my_list))\n",
        "print(my_list[0])\n",
        "print(my_list[len(my_list) -1])"
      ],
      "execution_count": null,
      "outputs": [
        {
          "name": "stdout",
          "output_type": "stream",
          "text": [
            "5\n",
            "Quant\n",
            "3\n"
          ]
        }
      ]
    },
    {
      "cell_type": "code",
      "metadata": {
        "colab": {
          "base_uri": "https://localhost:8080/"
        },
        "id": "FEC0uf_iHrLl",
        "outputId": "6edd1d8a-5722-46a5-9b25-e2fbcab119be"
      },
      "source": [
        "#example\n",
        "my_list = ['I', 'love', 'Python', 3,2,1]\n",
        "print(len(my_list))\n",
        "print(my_list[0])\n",
        "print(my_list[len(my_list) -1])"
      ],
      "execution_count": null,
      "outputs": [
        {
          "name": "stdout",
          "output_type": "stream",
          "text": [
            "6\n",
            "I\n",
            "1\n"
          ]
        }
      ]
    },
    {
      "cell_type": "markdown",
      "metadata": {
        "id": "jgSZy1VGTKSc"
      },
      "source": [
        "You can also change the elements in the list by accessing an index and assigning a new value."
      ]
    },
    {
      "cell_type": "code",
      "metadata": {
        "colab": {
          "base_uri": "https://localhost:8080/"
        },
        "id": "NQBNLjAvOqih",
        "outputId": "d01b4e05-05ca-4dd7-cf47-8e8e45b60613"
      },
      "source": [
        "my_list = ['Quant','Connect',1,2,3]\n",
        "my_list[2] = 'go'\n",
        "print(my_list)"
      ],
      "execution_count": null,
      "outputs": [
        {
          "name": "stdout",
          "output_type": "stream",
          "text": [
            "['Quant', 'Connect', 'go', 2, 3]\n"
          ]
        }
      ]
    },
    {
      "cell_type": "code",
      "metadata": {
        "colab": {
          "base_uri": "https://localhost:8080/"
        },
        "id": "0DLt1rg1H_5v",
        "outputId": "5517118a-8f43-4743-d5e3-4879c1a7e180"
      },
      "source": [
        "#example\n",
        "my_list = ['I', 'love', 'Python', 3,2,1]\n",
        "my_list[2] = 'C++'\n",
        "print(my_list)"
      ],
      "execution_count": null,
      "outputs": [
        {
          "name": "stdout",
          "output_type": "stream",
          "text": [
            "['I', 'love', 'C++', 3, 2, 1]\n"
          ]
        }
      ]
    },
    {
      "cell_type": "markdown",
      "metadata": {
        "id": "EQPs5ojoTVrk"
      },
      "source": [
        "A list can also be sliced with a colon:"
      ]
    },
    {
      "cell_type": "code",
      "metadata": {
        "colab": {
          "base_uri": "https://localhost:8080/"
        },
        "id": "keNX2RbtOqii",
        "outputId": "6f708735-0ce8-4882-fda2-cad2a2adbf69"
      },
      "source": [
        "my_list = ['Quant','Connect',1,2,3]\n",
        "print(my_list[1:3])"
      ],
      "execution_count": null,
      "outputs": [
        {
          "name": "stdout",
          "output_type": "stream",
          "text": [
            "['Connect', 1]\n"
          ]
        }
      ]
    },
    {
      "cell_type": "code",
      "metadata": {
        "colab": {
          "base_uri": "https://localhost:8080/"
        },
        "id": "l9kyvdLpIHJ7",
        "outputId": "5a783889-4732-4b8a-bd08-ec0c39dfad99"
      },
      "source": [
        "#example\n",
        "my_list = ['Love', 'Python', 3,2,1]\n",
        "print(my_list[1:3])"
      ],
      "execution_count": null,
      "outputs": [
        {
          "name": "stdout",
          "output_type": "stream",
          "text": [
            "['Python', 3]\n"
          ]
        }
      ]
    },
    {
      "cell_type": "markdown",
      "metadata": {
        "id": "AZqQd0K8TYul"
      },
      "source": [
        "The slice starts from the first element indicated, but excludes the last element indicated. Here we select all elements starting from index 1, which refers to the second element:"
      ]
    },
    {
      "cell_type": "code",
      "metadata": {
        "colab": {
          "base_uri": "https://localhost:8080/"
        },
        "id": "0-76sLfkOqii",
        "outputId": "66bcb811-d929-4281-862a-83fe4a2bcecd"
      },
      "source": [
        "print(my_list[1:])"
      ],
      "execution_count": null,
      "outputs": [
        {
          "name": "stdout",
          "output_type": "stream",
          "text": [
            "['Python', 3, 2, 1]\n"
          ]
        }
      ]
    },
    {
      "cell_type": "code",
      "metadata": {
        "colab": {
          "base_uri": "https://localhost:8080/"
        },
        "id": "0PfuEiRmIzQS",
        "outputId": "32a13e9d-6aae-473e-c9be-69de2f7cf70d"
      },
      "source": [
        "#example\n",
        "print(my_list[2:])"
      ],
      "execution_count": null,
      "outputs": [
        {
          "name": "stdout",
          "output_type": "stream",
          "text": [
            "[3, 2, 1]\n"
          ]
        }
      ]
    },
    {
      "cell_type": "markdown",
      "metadata": {
        "id": "XBqvhUdZVKWs"
      },
      "source": [
        "And all elements up to but excluding index 3:"
      ]
    },
    {
      "cell_type": "code",
      "metadata": {
        "colab": {
          "base_uri": "https://localhost:8080/"
        },
        "id": "5NWr75L9Oqii",
        "outputId": "20d425fc-5c62-4f05-bc78-ef222e1546c6"
      },
      "source": [
        "print(my_list[:3])"
      ],
      "execution_count": null,
      "outputs": [
        {
          "name": "stdout",
          "output_type": "stream",
          "text": [
            "['Love', 'Python', 3, 2]\n"
          ]
        }
      ]
    },
    {
      "cell_type": "code",
      "metadata": {
        "colab": {
          "base_uri": "https://localhost:8080/"
        },
        "id": "YBE-UmzWI3R0",
        "outputId": "c34795a0-a813-441d-b96f-ffd2d01854b2"
      },
      "source": [
        "#example\n",
        "print(my_list[:4])"
      ],
      "execution_count": null,
      "outputs": [
        {
          "name": "stdout",
          "output_type": "stream",
          "text": [
            "['Love', 'Python', 3, 2]\n"
          ]
        }
      ]
    },
    {
      "cell_type": "markdown",
      "metadata": {
        "id": "eAFmM6bkTZz9"
      },
      "source": [
        "If you wish to add or remove an element from a list, you can use the append() and remove() methods for lists as follows:"
      ]
    },
    {
      "cell_type": "code",
      "metadata": {
        "colab": {
          "base_uri": "https://localhost:8080/"
        },
        "id": "pHmgTPElTo19",
        "outputId": "03f8dae4-c8e2-478c-f5ba-a8d3a5da67f0"
      },
      "source": [
        "my_list = ['Hello', 'Quant']\n",
        "my_list.append('Hello')\n",
        "print(my_list)\n",
        "\n"
      ],
      "execution_count": null,
      "outputs": [
        {
          "name": "stdout",
          "output_type": "stream",
          "text": [
            "['Hello', 'Quant', 'Hello']\n"
          ]
        }
      ]
    },
    {
      "cell_type": "code",
      "metadata": {
        "colab": {
          "base_uri": "https://localhost:8080/"
        },
        "id": "zUpovGsFJJqm",
        "outputId": "2dcd8b41-aa15-4c17-b3ed-4dcdcb8c16b2"
      },
      "source": [
        "#example\n",
        "my_list = ['Python', 'C++']\n",
        "my_list.append('Java')\n",
        "print(my_list)"
      ],
      "execution_count": null,
      "outputs": [
        {
          "name": "stdout",
          "output_type": "stream",
          "text": [
            "['Python', 'C++', 'Java']\n"
          ]
        }
      ]
    },
    {
      "cell_type": "code",
      "metadata": {
        "colab": {
          "base_uri": "https://localhost:8080/"
        },
        "id": "4C4U1Yf0Tr8l",
        "outputId": "331d5cce-c640-4192-a1df-e05bf8ad51b3"
      },
      "source": [
        "my_list.remove('Hello')\n",
        "print(my_list)"
      ],
      "execution_count": null,
      "outputs": [
        {
          "name": "stdout",
          "output_type": "stream",
          "text": [
            "['Quant', 'Hello']\n"
          ]
        }
      ]
    },
    {
      "cell_type": "code",
      "metadata": {
        "colab": {
          "base_uri": "https://localhost:8080/"
        },
        "id": "eT-WW8lzJXWJ",
        "outputId": "631ea77d-2357-43b4-e750-4b0ee57df622"
      },
      "source": [
        "#example\n",
        "my_list.remove('C++')\n",
        "print(my_list)"
      ],
      "execution_count": null,
      "outputs": [
        {
          "name": "stdout",
          "output_type": "stream",
          "text": [
            "['Python', 'Java']\n"
          ]
        }
      ]
    },
    {
      "cell_type": "markdown",
      "metadata": {
        "id": "11W1gG-cVmOU"
      },
      "source": [
        "When there are repeated instances of \"Hello\", the first one is removed.\n",
        "\n",
        "## Tuple\n",
        "A tuple is a data structure type similar to a list. The difference is that a tuple is immutable, which means you can't change the elements in it once it's defined. We create a tuple by putting comma-separated values between parentheses."
      ]
    },
    {
      "cell_type": "code",
      "metadata": {
        "collapsed": true,
        "id": "vPmn6BAaOqii"
      },
      "source": [
        "my_tuple = ('Welcome','to','QuantConnect')"
      ],
      "execution_count": null,
      "outputs": []
    },
    {
      "cell_type": "code",
      "metadata": {
        "id": "glu1fpzPJfv3"
      },
      "source": [
        "#example\n",
        "my_tuple = ('Java', 'Python', 'C++')"
      ],
      "execution_count": null,
      "outputs": []
    },
    {
      "cell_type": "markdown",
      "metadata": {
        "id": "zMIme4dDV0Wz"
      },
      "source": [
        "Just like a list, a tuple can be sliced by using index."
      ]
    },
    {
      "cell_type": "code",
      "metadata": {
        "colab": {
          "base_uri": "https://localhost:8080/"
        },
        "id": "8P-ddO0sOqii",
        "outputId": "1d7af2e2-5ffd-47fa-9a64-2962dc9b37db"
      },
      "source": [
        "my_tuple = ('Welcome','to','QuantConnect')\n",
        "print(my_tuple[1:])"
      ],
      "execution_count": null,
      "outputs": [
        {
          "name": "stdout",
          "output_type": "stream",
          "text": [
            "('to', 'QuantConnect')\n"
          ]
        }
      ]
    },
    {
      "cell_type": "code",
      "metadata": {
        "colab": {
          "base_uri": "https://localhost:8080/"
        },
        "id": "_lX5cCy-Jre8",
        "outputId": "3f5d099c-1d5b-4c98-aa7c-c43af5dbba48"
      },
      "source": [
        "#example\n",
        "my_tuple = ('Java', 'Python', 'C++', 'C#', 'Javascript')\n",
        "print(my_tuple[2:])"
      ],
      "execution_count": null,
      "outputs": [
        {
          "name": "stdout",
          "output_type": "stream",
          "text": [
            "('C++', 'C#', 'Javascript')\n"
          ]
        }
      ]
    },
    {
      "cell_type": "markdown",
      "metadata": {
        "id": "l2JqbusAV1Y2"
      },
      "source": [
        "## Set\n",
        "A set is an **unordered**  collection with **no duplicate** elements. The built-in function **set()** can be used to create sets."
      ]
    },
    {
      "cell_type": "code",
      "metadata": {
        "colab": {
          "base_uri": "https://localhost:8080/"
        },
        "id": "Plau8r-UOqij",
        "outputId": "a3e630da-76ae-40e7-88a3-c719a8711f06"
      },
      "source": [
        "stock_list = ['AAPL','GOOG','IBM','AAPL','IBM','FB','F','GOOG']\n",
        "stock_set = set(stock_list)\n",
        "print(stock_set)"
      ],
      "execution_count": null,
      "outputs": [
        {
          "name": "stdout",
          "output_type": "stream",
          "text": [
            "{'FB', 'F', 'GOOG', 'IBM', 'AAPL'}\n"
          ]
        }
      ]
    },
    {
      "cell_type": "code",
      "metadata": {
        "colab": {
          "base_uri": "https://localhost:8080/"
        },
        "id": "E2zOhV84J3-_",
        "outputId": "36e0c197-1803-4fbf-bfa7-50197ae241d4"
      },
      "source": [
        "#example\n",
        "language_list = ['Java', 'Python', 'C++', 'C#', 'Javascript', 'Java', 'Python', 'C++']\n",
        "language_set = set(language_list)\n",
        "print(language_set)"
      ],
      "execution_count": null,
      "outputs": [
        {
          "name": "stdout",
          "output_type": "stream",
          "text": [
            "{'Java', 'Javascript', 'C++', 'Python', 'C#'}\n"
          ]
        }
      ]
    },
    {
      "cell_type": "markdown",
      "metadata": {
        "id": "Jyb4GGIoWIHk"
      },
      "source": [
        "Set is an easy way to remove duplicate elements from a list.\n",
        "\n",
        "##Dictionary\n",
        "A dictionary is one of the most important data structures in Python. Unlike sequences which are indexed by integers, dictionaries are indexed by keys which can be either strings or floats.\n",
        "\n",
        "A dictionary is an **unordered** collection of key : value pairs, with the requirement that the keys are unique. We create a dictionary by placing a comma-separated list of key : value pairs within the braces."
      ]
    },
    {
      "cell_type": "code",
      "metadata": {
        "collapsed": true,
        "id": "36mTe5BaOqij"
      },
      "source": [
        "my_dic = {'AAPL':'AAPLE', 'FB':'FaceBook', 'GOOG':'Alphabet'}"
      ],
      "execution_count": null,
      "outputs": []
    },
    {
      "cell_type": "code",
      "metadata": {
        "colab": {
          "base_uri": "https://localhost:8080/"
        },
        "id": "KUfdVf43Oqij",
        "outputId": "99d6d9f9-90af-42ab-8917-46603dcb1ba2"
      },
      "source": [
        "print(my_dic['GOOG'])"
      ],
      "execution_count": null,
      "outputs": [
        {
          "name": "stdout",
          "output_type": "stream",
          "text": [
            "Alphabet\n"
          ]
        }
      ]
    },
    {
      "cell_type": "code",
      "metadata": {
        "id": "-QzvI0pjKUEn"
      },
      "source": [
        "#example\n",
        "my_dic = {'UNAL':'Universidad Nacional', 'USTA':'Universidad Santo Tomas', 'UPTC':'Universidad Pedagogica y Tecnologica'}"
      ],
      "execution_count": null,
      "outputs": []
    },
    {
      "cell_type": "code",
      "metadata": {
        "colab": {
          "base_uri": "https://localhost:8080/"
        },
        "id": "oSIOTNBrK3RU",
        "outputId": "f4205738-9e30-46f4-b0c8-d4ff61df0a73"
      },
      "source": [
        "#example\n",
        "print(my_dic['UNAL'])"
      ],
      "execution_count": null,
      "outputs": [
        {
          "name": "stdout",
          "output_type": "stream",
          "text": [
            "Universidad Nacional\n"
          ]
        }
      ]
    },
    {
      "cell_type": "markdown",
      "metadata": {
        "id": "gSicoNqDWP4c"
      },
      "source": [
        "After defining a dictionary, we can access any value by indicating its key in brackets."
      ]
    },
    {
      "cell_type": "code",
      "metadata": {
        "colab": {
          "base_uri": "https://localhost:8080/"
        },
        "id": "IrTZdq9FOqij",
        "outputId": "dc070f66-9cff-4379-f020-71cd0de097b6"
      },
      "source": [
        "my_dic['GOOG'] = 'Alphabet Company'\n",
        "print(my_dic['GOOG'])"
      ],
      "execution_count": null,
      "outputs": [
        {
          "name": "stdout",
          "output_type": "stream",
          "text": [
            "Alphabet Company\n"
          ]
        }
      ]
    },
    {
      "cell_type": "code",
      "metadata": {
        "colab": {
          "base_uri": "https://localhost:8080/"
        },
        "id": "OTIXX79OLECC",
        "outputId": "77c26c22-5bec-4aef-e8e0-288e0a9b1ff2"
      },
      "source": [
        "#example\n",
        "my_dic['UNAL'] = 'Universidad Nacional de Colombia'\n",
        "print(my_dic['UNAL'])"
      ],
      "execution_count": null,
      "outputs": [
        {
          "name": "stdout",
          "output_type": "stream",
          "text": [
            "Universidad Nacional de Colombia\n"
          ]
        }
      ]
    },
    {
      "cell_type": "markdown",
      "metadata": {
        "id": "M9sDsTEMWQvc"
      },
      "source": [
        "We can also change the value associated with a specified key:"
      ]
    },
    {
      "cell_type": "code",
      "metadata": {
        "colab": {
          "base_uri": "https://localhost:8080/"
        },
        "id": "lupRHf1_Oqij",
        "outputId": "77fff973-966b-4c0d-e1ab-93d89222d886"
      },
      "source": [
        "print(my_dic.keys())"
      ],
      "execution_count": null,
      "outputs": [
        {
          "name": "stdout",
          "output_type": "stream",
          "text": [
            "dict_keys(['AAPL', 'FB', 'GOOG'])\n"
          ]
        }
      ]
    },
    {
      "cell_type": "code",
      "metadata": {
        "colab": {
          "base_uri": "https://localhost:8080/"
        },
        "id": "3GiT1IgjLSWr",
        "outputId": "691b2850-e2e3-47cd-fac4-e65d3deb03a9"
      },
      "source": [
        "#example\n",
        "print(my_dic.keys())"
      ],
      "execution_count": null,
      "outputs": [
        {
          "name": "stdout",
          "output_type": "stream",
          "text": [
            "dict_keys(['UNAL', 'USTA', 'UPTC'])\n"
          ]
        }
      ]
    },
    {
      "cell_type": "markdown",
      "metadata": {
        "id": "VPuDinlwWS9D"
      },
      "source": [
        "The built-in method of the dictionary object dict.keys() returns a list of all the keys used in the dictionary."
      ]
    },
    {
      "cell_type": "markdown",
      "metadata": {
        "id": "kSGzgNb2Womz"
      },
      "source": [
        "# Common String Operations\n",
        "A string is an immutable sequence of characters. It can be sliced by index just like a tuple:"
      ]
    },
    {
      "cell_type": "code",
      "metadata": {
        "colab": {
          "base_uri": "https://localhost:8080/"
        },
        "id": "xPojDnm9Oqik",
        "outputId": "be209aa1-8a38-4b64-c562-e12cfa63c215"
      },
      "source": [
        "my_str = 'Welcome to QuantConnect'\n",
        "print(my_str[8:])"
      ],
      "execution_count": null,
      "outputs": [
        {
          "name": "stdout",
          "output_type": "stream",
          "text": [
            "to QuantConnect\n"
          ]
        }
      ]
    },
    {
      "cell_type": "code",
      "metadata": {
        "colab": {
          "base_uri": "https://localhost:8080/"
        },
        "id": "FsCG30RtMWE9",
        "outputId": "e1ed1178-e5dd-43bc-cc08-b761ad866da2"
      },
      "source": [
        "#example\n",
        "my_str = 'I love Python'\n",
        "print(my_str[7:])"
      ],
      "execution_count": null,
      "outputs": [
        {
          "name": "stdout",
          "output_type": "stream",
          "text": [
            "Python\n"
          ]
        }
      ]
    },
    {
      "cell_type": "markdown",
      "metadata": {
        "id": "wuJYy7tvWtM7"
      },
      "source": [
        "There are many methods associated with strings. We can use string.count() to count the occurrences of a character in a string, use string.find() to return the index of a specific character, and use string.replace() to replace characters"
      ]
    },
    {
      "cell_type": "code",
      "metadata": {
        "colab": {
          "base_uri": "https://localhost:8080/"
        },
        "id": "u9deZq1SOqik",
        "outputId": "3f255fe3-7588-40f1-85ac-ade58c57e2a1"
      },
      "source": [
        "print('Counting the number of e appears in this sentence'.count('e'))\n",
        "print('The first time e appears in this sentence'.find('e'))\n",
        "print('all the a in this sentence now becomes e'.replace('a','e'))"
      ],
      "execution_count": null,
      "outputs": [
        {
          "name": "stdout",
          "output_type": "stream",
          "text": [
            "7\n",
            "2\n",
            "ell the e in this sentence now becomes e\n"
          ]
        }
      ]
    },
    {
      "cell_type": "code",
      "metadata": {
        "colab": {
          "base_uri": "https://localhost:8080/"
        },
        "id": "mcnq2vUhMt-u",
        "outputId": "2f6f9a6a-2f35-4657-cd1c-8bc5c0140078"
      },
      "source": [
        "#example\n",
        "print('Cuantas veces aparece la letra e en esta oracion'.count('e'))\n",
        "print('Encontrar la primera vez que aparece la letra a en esta oracion'.find('a'))\n",
        "print('Todas las letras a en esta oracion se converten en e'.replace('a','e'))"
      ],
      "execution_count": null,
      "outputs": [
        {
          "name": "stdout",
          "output_type": "stream",
          "text": [
            "8\n",
            "7\n",
            "Todes les letres e en este orecion se converten en e\n"
          ]
        }
      ]
    },
    {
      "cell_type": "markdown",
      "metadata": {
        "id": "sJPn3rkvWwHN"
      },
      "source": [
        "The most commonly used method for strings is string.split(). This method will split the string by the indicated character and return a list:"
      ]
    },
    {
      "cell_type": "code",
      "metadata": {
        "colab": {
          "base_uri": "https://localhost:8080/"
        },
        "id": "hbIaFLFHOqik",
        "outputId": "8e2b47f1-b245-4832-b643-88ef4f879f13"
      },
      "source": [
        "Time = '2016-04-01 09:43:00'\n",
        "splited_list = Time.split(' ')\n",
        "date = splited_list[0]\n",
        "time = splited_list[1]\n",
        "print(date, time)\n",
        "hour = time.split(':')[0]\n",
        "print(hour)"
      ],
      "execution_count": null,
      "outputs": [
        {
          "name": "stdout",
          "output_type": "stream",
          "text": [
            "2016-04-01 09:43:00\n",
            "09\n"
          ]
        }
      ]
    },
    {
      "cell_type": "code",
      "metadata": {
        "colab": {
          "base_uri": "https://localhost:8080/"
        },
        "id": "2sOpZrG8NaDv",
        "outputId": "0e19ed09-ed87-42b9-9fbc-de827b6ff3ef"
      },
      "source": [
        "#example\n",
        "Time = '2021-19-10 12:39:00'\n",
        "splited_list = Time.split(' ')\n",
        "date = splited_list[0]\n",
        "time = splited_list[1]\n",
        "print(date, time)\n",
        "minutes = time.split(':')[1]\n",
        "print(minutes)"
      ],
      "execution_count": null,
      "outputs": [
        {
          "name": "stdout",
          "output_type": "stream",
          "text": [
            "2021-19-10 12:39:00\n",
            "39\n"
          ]
        }
      ]
    },
    {
      "cell_type": "markdown",
      "metadata": {
        "id": "9cJQGk96WyVc"
      },
      "source": [
        "We can replace parts of a string by our variable. This is called string formatting."
      ]
    },
    {
      "cell_type": "code",
      "metadata": {
        "colab": {
          "base_uri": "https://localhost:8080/"
        },
        "id": "-E_rIvv6Oqik",
        "outputId": "8f023485-1a47-49c1-84c5-e904858a2d61"
      },
      "source": [
        "my_time = 'Hour: {}, Minute:{}'.format('09','43')\n",
        "print(my_time)"
      ],
      "execution_count": null,
      "outputs": [
        {
          "name": "stdout",
          "output_type": "stream",
          "text": [
            "Hour: 09, Minute:43\n"
          ]
        }
      ]
    },
    {
      "cell_type": "code",
      "metadata": {
        "colab": {
          "base_uri": "https://localhost:8080/"
        },
        "id": "rAacg3IkN8EX",
        "outputId": "9484f507-b2d5-4d7e-b4ed-1e06a36413e3"
      },
      "source": [
        "#example\n",
        "my_time = 'Hour: {}, Minute: {}'.format('12','39')\n",
        "print(my_time)"
      ],
      "execution_count": null,
      "outputs": [
        {
          "name": "stdout",
          "output_type": "stream",
          "text": [
            "Hour: 12, Minute: 39\n"
          ]
        }
      ]
    },
    {
      "cell_type": "markdown",
      "metadata": {
        "id": "1_NbVldpWzAs"
      },
      "source": [
        "Another way to format a string is to use the % symbol."
      ]
    },
    {
      "cell_type": "code",
      "metadata": {
        "colab": {
          "base_uri": "https://localhost:8080/"
        },
        "id": "4rZ4rkD2Oqik",
        "outputId": "fe5a393c-595e-410b-817c-c1da32cfb08b"
      },
      "source": [
        "print('the pi number is %f'%3.14)\n",
        "print('%s to %s'%('Welcome','Quantconnect'))"
      ],
      "execution_count": null,
      "outputs": [
        {
          "name": "stdout",
          "output_type": "stream",
          "text": [
            "the pi number is 3.140000\n",
            "Welcome to Quantconnect\n"
          ]
        }
      ]
    },
    {
      "cell_type": "code",
      "metadata": {
        "colab": {
          "base_uri": "https://localhost:8080/"
        },
        "id": "GpUUj_sjOGwG",
        "outputId": "29c82a37-e002-4257-f644-e5d57ffbd088"
      },
      "source": [
        "#example\n",
        "print('8 multiplicado por 10 es %i'%80)\n",
        "print('%s or %s'%('Python','Java'))"
      ],
      "execution_count": null,
      "outputs": [
        {
          "name": "stdout",
          "output_type": "stream",
          "text": [
            "8 multiplicado por 10 es 80\n",
            "Python or Java\n"
          ]
        }
      ]
    },
    {
      "cell_type": "markdown",
      "metadata": {
        "id": "v_5cocrDW3MN"
      },
      "source": [
        "# Summary\n",
        "\n",
        "Weave seen the basic data types and data structures in Python. It's important to keep practicing to become familiar with these data structures. In the next tutorial, we will cover for and while loops and logical operations in Python."
      ]
    },
    {
      "cell_type": "markdown",
      "metadata": {
        "id": "VtrNkvxVTrQn"
      },
      "source": [
        "# **TUTORIAL 2**"
      ]
    },
    {
      "cell_type": "markdown",
      "metadata": {
        "id": "QL6dNxwCXNEt"
      },
      "source": [
        "\n",
        "# 02 Logical Operations and Loops\n",
        "\n",
        "# Introduction\n",
        "We discussed the basic data types and data structures in Python in the last tutorial. This chapter covers logical operations and loops in Python, which are very common in programming.\n",
        "\n",
        "# Logical Operations\n",
        "Like most programming languages, Python has comparison operators:"
      ]
    },
    {
      "cell_type": "code",
      "metadata": {
        "colab": {
          "base_uri": "https://localhost:8080/"
        },
        "id": "70Guys_rOv7a",
        "outputId": "a5f85f1d-c42e-493f-9b1c-96389c4075b1"
      },
      "source": [
        "print(1 == 0)\n",
        "print(1 == 1)\n",
        "print(1 != 0)\n",
        "print(5 >= 5)\n",
        "print(5 >= 6)"
      ],
      "execution_count": null,
      "outputs": [
        {
          "name": "stdout",
          "output_type": "stream",
          "text": [
            "False\n",
            "True\n",
            "True\n",
            "True\n",
            "False\n"
          ]
        }
      ]
    },
    {
      "cell_type": "code",
      "metadata": {
        "colab": {
          "base_uri": "https://localhost:8080/"
        },
        "id": "OYFRYPJ7UCzr",
        "outputId": "53d0d7c1-0a71-4b3a-cdef-56acec6dd0d5"
      },
      "source": [
        "#example\n",
        "print(5 == 10)\n",
        "print(6 == 6)\n",
        "print(3 != 9)\n",
        "print(10 >= 5)\n",
        "print(1 >= 6)"
      ],
      "execution_count": null,
      "outputs": [
        {
          "name": "stdout",
          "output_type": "stream",
          "text": [
            "False\n",
            "True\n",
            "True\n",
            "True\n",
            "False\n"
          ]
        }
      ]
    },
    {
      "cell_type": "markdown",
      "metadata": {
        "id": "8aFHYDj-YTXt"
      },
      "source": [
        "Each statement above has a boolean value, which must be either True or False, but not both.\n",
        "\n",
        "We can combine simple statements P and Q to form complex statements using logical operators:\n",
        "\n",
        "- The statement \"P and Q\" is true if both P and Q are true, otherwise it is false.\n",
        "- The statement \"P or Q\" is false if both P and Q are false, otherwise it is true.\n",
        "- The statement \"not P\" is true if P is false, and vice versa."
      ]
    },
    {
      "cell_type": "code",
      "metadata": {
        "colab": {
          "base_uri": "https://localhost:8080/"
        },
        "id": "O5YEEcUbOv7d",
        "outputId": "54fea399-1b3c-4dd5-8846-7f5fb842ff86"
      },
      "source": [
        "print(2 > 1 and 3 > 2)\n",
        "print(2 > 1 and 3 < 2) \n",
        "print(2 > 1 or 3 < 2)\n",
        "print(2 < 1 and 3 < 2)"
      ],
      "execution_count": null,
      "outputs": [
        {
          "name": "stdout",
          "output_type": "stream",
          "text": [
            "True\n",
            "False\n",
            "True\n",
            "False\n"
          ]
        }
      ]
    },
    {
      "cell_type": "code",
      "metadata": {
        "colab": {
          "base_uri": "https://localhost:8080/"
        },
        "id": "QqSJvG7_UPg2",
        "outputId": "e4b729b4-d855-4d44-e170-eedbc7e81000"
      },
      "source": [
        "#example\n",
        "print(8 > 4 and 10 > 5)\n",
        "print(10 > 2 and 100 < 20) \n",
        "print(10 > 2 or 19 < 2)\n",
        "print(2 < -1 and 25 < 5)"
      ],
      "execution_count": null,
      "outputs": [
        {
          "name": "stdout",
          "output_type": "stream",
          "text": [
            "True\n",
            "False\n",
            "True\n",
            "False\n"
          ]
        }
      ]
    },
    {
      "cell_type": "markdown",
      "metadata": {
        "id": "Dy7yzoSXYXmL"
      },
      "source": [
        "When dealing with a very complex logical statement that involves in several statements, we can use brackets to separate and combine them."
      ]
    },
    {
      "cell_type": "code",
      "metadata": {
        "colab": {
          "base_uri": "https://localhost:8080/"
        },
        "id": "QZ-W2xJZOv7d",
        "outputId": "62459d4d-29d1-444e-cfd5-3de5ad654be9"
      },
      "source": [
        "print((3 > 2 or 1 < 3) and (1!=3 and 4>3) and not ( 3 < 2 or 1 < 3 and (1!=3 and 4>3)))\n",
        "print(3 > 2 or 1 < 3 and (1!=3 and 4>3) and not ( 3 < 2 or 1 < 3 and (1!=3 and 4>3)))"
      ],
      "execution_count": null,
      "outputs": [
        {
          "name": "stdout",
          "output_type": "stream",
          "text": [
            "False\n",
            "True\n"
          ]
        }
      ]
    },
    {
      "cell_type": "code",
      "metadata": {
        "colab": {
          "base_uri": "https://localhost:8080/"
        },
        "id": "vMqpDT2DUzFT",
        "outputId": "0e750c1a-2dda-4b45-f416-ee5e49fa5777"
      },
      "source": [
        "#example\n",
        "print((142 > 42 or -14 < 8) and (8!=5 and 49321>922) and not ( 42 < 15 or -14 < 7 and (92!=46 and 42>19)))\n",
        "print( 142 > 42 or -14 < 8 and (8!=5 and 49321>922) and not ( 42 < 15 or -14 < 7 and (92!=46 and 42>19)))"
      ],
      "execution_count": null,
      "outputs": [
        {
          "name": "stdout",
          "output_type": "stream",
          "text": [
            "False\n",
            "True\n"
          ]
        }
      ]
    },
    {
      "cell_type": "markdown",
      "metadata": {
        "id": "s95xoRYMYaPD"
      },
      "source": [
        "Comparing the above two statements, we can see that it's wise to use brackets when we make a complex logical statement.\n",
        "\n",
        "# If Statement\n",
        "An if statement executes a segment of code only if its condition is true. A standard if statement consists of 3 segments: if, elif and else."
      ]
    },
    {
      "cell_type": "markdown",
      "metadata": {
        "id": "aRzMMitAaBOL"
      },
      "source": [
        "```python\n",
        "if statement1:\n",
        "    # if the statement1 is true, execute the code here.\n",
        "    # code.....\n",
        "    # code.....\n",
        "elif statement2:\n",
        "    # if the statement 1 is false, skip the codes above to this part.\n",
        "    # code......\n",
        "    # code......\n",
        "else:\n",
        "    # if none of the above statements is True, skip to this part\n",
        "    # code......\n",
        "```"
      ]
    },
    {
      "cell_type": "markdown",
      "metadata": {
        "id": "l59R2AS8aH2K"
      },
      "source": [
        "An if statement doesn't necessarily has elif and else part. If it's not specified, the indented block of code will be executed when the condition is true, otherwise the whole if statement will be skipped."
      ]
    },
    {
      "cell_type": "code",
      "metadata": {
        "colab": {
          "base_uri": "https://localhost:8080/"
        },
        "id": "FZ5GoTXfOv7e",
        "outputId": "0753092a-6c6b-4a2c-b66e-4c3d8c6b1373"
      },
      "source": [
        "i = 0\n",
        "if i == 0:\n",
        "    print('i==0 is True')"
      ],
      "execution_count": null,
      "outputs": [
        {
          "name": "stdout",
          "output_type": "stream",
          "text": [
            "i==0 is True\n"
          ]
        }
      ]
    },
    {
      "cell_type": "code",
      "metadata": {
        "colab": {
          "base_uri": "https://localhost:8080/"
        },
        "id": "K6_januEVumS",
        "outputId": "3406d1e0-0123-4a3d-d9c5-8b86d9f394ca"
      },
      "source": [
        "#example\n",
        "k = 8\n",
        "if k == 8:\n",
        "    print('k==8 is True')"
      ],
      "execution_count": null,
      "outputs": [
        {
          "name": "stdout",
          "output_type": "stream",
          "text": [
            "k==8 is True\n"
          ]
        }
      ]
    },
    {
      "cell_type": "markdown",
      "metadata": {
        "id": "nPNW-l5eaJn8"
      },
      "source": [
        "As we mentioned above, we can write some complex statements here:"
      ]
    },
    {
      "cell_type": "code",
      "metadata": {
        "colab": {
          "base_uri": "https://localhost:8080/"
        },
        "id": "gh-U6nMzOv7e",
        "outputId": "ef162150-af96-468b-b356-d4fddaa68dbe"
      },
      "source": [
        "p = 1 > 0\n",
        "q = 2 > 3\n",
        "if p and q:\n",
        "    print('p and q is true')\n",
        "elif p and not q:\n",
        "    print('q is false')\n",
        "elif q and not p:\n",
        "    print('p is false')\n",
        "else:\n",
        "    print('None of p and q is true')"
      ],
      "execution_count": null,
      "outputs": [
        {
          "name": "stdout",
          "output_type": "stream",
          "text": [
            "q is false\n"
          ]
        }
      ]
    },
    {
      "cell_type": "code",
      "metadata": {
        "colab": {
          "base_uri": "https://localhost:8080/"
        },
        "id": "1XSG6avrWVlc",
        "outputId": "8dcd376d-c331-42ef-c946-f60698f6e345"
      },
      "source": [
        "#example\n",
        "p = 9 > 12\n",
        "q = 1 > 2\n",
        "if p and q:\n",
        "    print('p and q is true')\n",
        "elif p and not q:\n",
        "    print('q is false')\n",
        "elif q and not p:\n",
        "    print('p is false')\n",
        "else:\n",
        "    print('None of p and q is true')"
      ],
      "execution_count": null,
      "outputs": [
        {
          "name": "stdout",
          "output_type": "stream",
          "text": [
            "None of p and q is true\n"
          ]
        }
      ]
    },
    {
      "cell_type": "markdown",
      "metadata": {
        "id": "tgRDwiAsaMOL"
      },
      "source": [
        "# Loop Structure\n",
        "Loops are an essential part of programming. The \"for\" and \"while\" loops run a block of code repeatedly.\n",
        "\n",
        "## While Loop\n",
        "A \"while\" loop will run repeatedly until a certain condition has been met."
      ]
    },
    {
      "cell_type": "code",
      "metadata": {
        "colab": {
          "base_uri": "https://localhost:8080/"
        },
        "id": "uQLau8d5Ov7f",
        "outputId": "5c6559d2-0044-4b26-e0f0-b85b0fe1b0ff"
      },
      "source": [
        "i = 0\n",
        "while i < 5:\n",
        "    print(i)\n",
        "    i += 1  "
      ],
      "execution_count": null,
      "outputs": [
        {
          "name": "stdout",
          "output_type": "stream",
          "text": [
            "0\n",
            "1\n",
            "2\n",
            "3\n",
            "4\n"
          ]
        }
      ]
    },
    {
      "cell_type": "code",
      "metadata": {
        "colab": {
          "base_uri": "https://localhost:8080/"
        },
        "id": "D4uGJXPHXAI3",
        "outputId": "da16b3b8-ac0d-41ef-f38e-036b6e22ddf3"
      },
      "source": [
        "#example\n",
        "i = 0\n",
        "while i < 6:\n",
        "    print(i**2)\n",
        "    i += 1  "
      ],
      "execution_count": null,
      "outputs": [
        {
          "name": "stdout",
          "output_type": "stream",
          "text": [
            "0\n",
            "1\n",
            "4\n",
            "9\n",
            "16\n",
            "25\n"
          ]
        }
      ]
    },
    {
      "cell_type": "markdown",
      "metadata": {
        "id": "ydLddFAPaTOE"
      },
      "source": [
        "When making a while loop, we need to ensure that something changes from iteration to iteration so that the while loop will terminate, otherwise, it will run forever. Here we used i += 1 (short for i = i + 1) to make i larger after each iteration. This is the most commonly used method to control a while loop.\n",
        "\n",
        "## For Loop\n",
        "A \"for\" loop will iterate over a sequence of value and terminate when the sequence has ended."
      ]
    },
    {
      "cell_type": "code",
      "metadata": {
        "colab": {
          "base_uri": "https://localhost:8080/"
        },
        "id": "kt8Ie8u1Ov7f",
        "outputId": "11fa8bb0-3b6c-406a-d4c6-74d324a33adc"
      },
      "source": [
        "for i in [1,2,3,4,5]:\n",
        "    print(i)"
      ],
      "execution_count": null,
      "outputs": [
        {
          "name": "stdout",
          "output_type": "stream",
          "text": [
            "1\n",
            "2\n",
            "3\n",
            "4\n",
            "5\n"
          ]
        }
      ]
    },
    {
      "cell_type": "code",
      "metadata": {
        "colab": {
          "base_uri": "https://localhost:8080/"
        },
        "id": "kqQIm-_BXRPV",
        "outputId": "c2128157-1d36-4f7e-db26-e94286d21e4e"
      },
      "source": [
        "#example\n",
        "for i in [6,5,4,3,2,1]:\n",
        "    print(i)"
      ],
      "execution_count": null,
      "outputs": [
        {
          "name": "stdout",
          "output_type": "stream",
          "text": [
            "6\n",
            "5\n",
            "4\n",
            "3\n",
            "2\n",
            "1\n"
          ]
        }
      ]
    },
    {
      "cell_type": "markdown",
      "metadata": {
        "id": "yWStqpreaX-T"
      },
      "source": [
        "We can also add if statements in a for loop. Here is a real example from our pairs trading algorithm:"
      ]
    },
    {
      "cell_type": "code",
      "metadata": {
        "colab": {
          "base_uri": "https://localhost:8080/"
        },
        "id": "kElmffvFOv7f",
        "outputId": "818ec009-d0f8-4e54-826c-f6b46e925cc9"
      },
      "source": [
        "stocks = ['AAPL','GOOG','IBM','FB','F','V', 'G', 'GE']\n",
        "selected = ['AAPL','IBM']\n",
        "new_list = []\n",
        "for i in stocks:\n",
        "    if i not in selected:\n",
        "        new_list.append(i)\n",
        "print(stocks)"
      ],
      "execution_count": null,
      "outputs": [
        {
          "name": "stdout",
          "output_type": "stream",
          "text": [
            "['AAPL', 'GOOG', 'IBM', 'FB', 'F', 'V', 'G', 'GE']\n"
          ]
        }
      ]
    },
    {
      "cell_type": "code",
      "metadata": {
        "colab": {
          "base_uri": "https://localhost:8080/"
        },
        "id": "Y17JNi3pXa1z",
        "outputId": "e1d21ae7-55a4-49ae-8e24-189da94289f6"
      },
      "source": [
        "#example\n",
        "language_list = ['Java', 'Python', 'C++', 'C#', 'Javascript', 'R']\n",
        "selected = ['C++', 'C#']\n",
        "new_list = []\n",
        "for i in language_list:\n",
        "    if i not in selected:\n",
        "        new_list.append(i)\n",
        "print(language_list)\n",
        "print(new_list)"
      ],
      "execution_count": null,
      "outputs": [
        {
          "name": "stdout",
          "output_type": "stream",
          "text": [
            "['Java', 'Python', 'C++', 'C#', 'Javascript', 'R']\n",
            "['Java', 'Python', 'Javascript', 'R']\n"
          ]
        }
      ]
    },
    {
      "cell_type": "markdown",
      "metadata": {
        "id": "wb2hry9dahE0"
      },
      "source": [
        "Here we iterated all the elements in the list 'stocks'. Later in this chapter, we will introduce a smarter way to do this, which is just a one-line code.\n",
        "\n",
        "## Break and continue\n",
        "These are two commonly used commands in a for loop. If \"break\" is triggered while a loop is executing, the loop will terminate immediately:"
      ]
    },
    {
      "cell_type": "code",
      "metadata": {
        "colab": {
          "base_uri": "https://localhost:8080/"
        },
        "id": "yF5wMVItOv7g",
        "outputId": "97f17270-415a-4b6d-d755-f1a7d5873550"
      },
      "source": [
        "stocks = ['AAPL','GOOG','IBM','FB','F','V', 'G', 'GE']\n",
        "for i in stocks:\n",
        "    print(i)\n",
        "    if i == 'FB':\n",
        "        break"
      ],
      "execution_count": null,
      "outputs": [
        {
          "name": "stdout",
          "output_type": "stream",
          "text": [
            "AAPL\n",
            "GOOG\n",
            "IBM\n",
            "FB\n"
          ]
        }
      ]
    },
    {
      "cell_type": "code",
      "metadata": {
        "colab": {
          "base_uri": "https://localhost:8080/"
        },
        "id": "k6_S7NFCZbNs",
        "outputId": "dd861eac-3c87-410f-f817-9def8eeb267d"
      },
      "source": [
        "#example\n",
        "language_list = ['Java', 'Python', 'C++', 'C#', 'Javascript', 'R']\n",
        "for i in language_list:\n",
        "    print(i)\n",
        "    if i == 'C#':\n",
        "        break"
      ],
      "execution_count": null,
      "outputs": [
        {
          "name": "stdout",
          "output_type": "stream",
          "text": [
            "Java\n",
            "Python\n",
            "C++\n",
            "C#\n"
          ]
        }
      ]
    },
    {
      "cell_type": "markdown",
      "metadata": {
        "id": "R0toxyp3ao0T"
      },
      "source": [
        "The \"continue\" command tells the loop to end this iteration and skip to the next iteration:"
      ]
    },
    {
      "cell_type": "code",
      "metadata": {
        "colab": {
          "base_uri": "https://localhost:8080/"
        },
        "id": "Stg-CH6IOv7g",
        "outputId": "58e695c4-7b06-4c53-e404-e31a3c8cf209"
      },
      "source": [
        "stocks = ['AAPL','GOOG','IBM','FB','F','V', 'G', 'GE']\n",
        "for i in stocks:\n",
        "    if i == 'FB':\n",
        "        continue\n",
        "    print(i)"
      ],
      "execution_count": null,
      "outputs": [
        {
          "name": "stdout",
          "output_type": "stream",
          "text": [
            "AAPL\n",
            "GOOG\n",
            "IBM\n",
            "F\n",
            "V\n",
            "G\n",
            "GE\n"
          ]
        }
      ]
    },
    {
      "cell_type": "code",
      "metadata": {
        "colab": {
          "base_uri": "https://localhost:8080/"
        },
        "id": "gdhb-2lvZlug",
        "outputId": "043d5bc0-602a-4371-8f27-97dcd375a626"
      },
      "source": [
        "#example\n",
        "language_list = ['Java', 'Python', 'C++', 'C#', 'Javascript', 'R']\n",
        "for i in language_list:\n",
        "    if i == 'C#':\n",
        "        continue\n",
        "    print(i)\n",
        "    \n",
        "        "
      ],
      "execution_count": null,
      "outputs": [
        {
          "name": "stdout",
          "output_type": "stream",
          "text": [
            "Java\n",
            "Python\n",
            "C++\n",
            "Javascript\n",
            "R\n"
          ]
        }
      ]
    },
    {
      "cell_type": "markdown",
      "metadata": {
        "id": "4NusvdhBaxpZ"
      },
      "source": [
        "# List Comprehension\n",
        "List comprehension is a Pythonic way to create lists. Common applications are to make new lists where each element is the result of some operations applied to each member of another sequence. For example, if we want to create a list of squares using for loop:"
      ]
    },
    {
      "cell_type": "code",
      "metadata": {
        "colab": {
          "base_uri": "https://localhost:8080/"
        },
        "id": "bdxxeOABOv7h",
        "outputId": "9dc4a7be-7c00-443e-bc53-c6ccd4fbc223"
      },
      "source": [
        "squares = []\n",
        "for i in [1,2,3,4,5]:\n",
        "    squares.append(i**2)\n",
        "print(squares)"
      ],
      "execution_count": null,
      "outputs": [
        {
          "name": "stdout",
          "output_type": "stream",
          "text": [
            "[1, 4, 9, 16, 25]\n"
          ]
        }
      ]
    },
    {
      "cell_type": "code",
      "metadata": {
        "colab": {
          "base_uri": "https://localhost:8080/"
        },
        "id": "gf-oxSABZ9EO",
        "outputId": "31392ff6-23c8-4040-c8a5-25c0d8421c2d"
      },
      "source": [
        "#example\n",
        "cubes = []\n",
        "for i in [1,2,3,4,5]:\n",
        "    cubes.append(i**3)\n",
        "print(cubes)"
      ],
      "execution_count": null,
      "outputs": [
        {
          "name": "stdout",
          "output_type": "stream",
          "text": [
            "[1, 8, 27, 64, 125]\n"
          ]
        }
      ]
    },
    {
      "cell_type": "markdown",
      "metadata": {
        "id": "--KliJBOa1CC"
      },
      "source": [
        "Using list comprehension:"
      ]
    },
    {
      "cell_type": "code",
      "metadata": {
        "colab": {
          "base_uri": "https://localhost:8080/"
        },
        "id": "440-yjG8Ov7h",
        "outputId": "f794e007-d7db-4378-d631-ba593eb76308"
      },
      "source": [
        "list = [1,2,3,4,5]\n",
        "squares = [x**2 for x in list]\n",
        "print(squares)"
      ],
      "execution_count": null,
      "outputs": [
        {
          "name": "stdout",
          "output_type": "stream",
          "text": [
            "[1, 4, 9, 16, 25]\n"
          ]
        }
      ]
    },
    {
      "cell_type": "code",
      "metadata": {
        "colab": {
          "base_uri": "https://localhost:8080/"
        },
        "id": "SD-pDjDcaRs6",
        "outputId": "1af117e9-e016-4e07-b13b-07a59cd93e22"
      },
      "source": [
        "#example\n",
        "list = [1,2,3,4,5]\n",
        "cubes = [x**3 for x in list]\n",
        "print(cubes)"
      ],
      "execution_count": null,
      "outputs": [
        {
          "name": "stdout",
          "output_type": "stream",
          "text": [
            "[1, 8, 27, 64, 125]\n"
          ]
        }
      ]
    },
    {
      "cell_type": "markdown",
      "metadata": {
        "id": "uMuCfR3ya3zT"
      },
      "source": [
        "Recall the example above where we used a for loop to select stocks. Here we use list comprehension:"
      ]
    },
    {
      "cell_type": "code",
      "metadata": {
        "colab": {
          "base_uri": "https://localhost:8080/"
        },
        "id": "ZGtCtog2Ov7h",
        "outputId": "0314c430-dc75-45c2-95cf-50b5a4d5051c"
      },
      "source": [
        "stocks = ['AAPL','GOOG','IBM','FB','F','V', 'G', 'GE']\n",
        "selected = ['AAPL','IBM']\n",
        "new_list = [x for x in stocks if x in selected]\n",
        "print(new_list)"
      ],
      "execution_count": null,
      "outputs": [
        {
          "name": "stdout",
          "output_type": "stream",
          "text": [
            "['AAPL', 'IBM']\n"
          ]
        }
      ]
    },
    {
      "cell_type": "code",
      "metadata": {
        "colab": {
          "base_uri": "https://localhost:8080/"
        },
        "id": "tSVoDv_caftM",
        "outputId": "bc9597e2-63ad-4654-e03b-c4b8cc15e4ed"
      },
      "source": [
        "#example\n",
        "language_list = ['Java', 'Python', 'C++', 'C#', 'Javascript', 'R']\n",
        "selected = ['C++','C#', 'PHP']\n",
        "new_list = [x for x in language_list if x in selected]\n",
        "print(new_list)\n"
      ],
      "execution_count": null,
      "outputs": [
        {
          "name": "stdout",
          "output_type": "stream",
          "text": [
            "['C++', 'C#']\n"
          ]
        }
      ]
    },
    {
      "cell_type": "markdown",
      "metadata": {
        "id": "EPeUv6Lia5oD"
      },
      "source": [
        "A list comprehension consists of square brackets containing an expression followed by a \"for\" clause, and possibly \"for\" or \"if\" clauses. For example:"
      ]
    },
    {
      "cell_type": "code",
      "metadata": {
        "colab": {
          "base_uri": "https://localhost:8080/"
        },
        "id": "O1AMB5d7Ov7i",
        "outputId": "575b7ca3-9c73-441a-8ff3-800a09fb4dd5"
      },
      "source": [
        "print([(x, y) for x in [1,2,3] for y in [3,1,4] if x != y])\n",
        "print([str(x)+' vs '+str(y) for x in ['AAPL','GOOG','IBM','FB'] for y in ['F','V','G','GE'] if x!=y])"
      ],
      "execution_count": null,
      "outputs": [
        {
          "name": "stdout",
          "output_type": "stream",
          "text": [
            "[(1, 3), (1, 4), (2, 3), (2, 1), (2, 4), (3, 1), (3, 4)]\n",
            "['AAPL vs F', 'AAPL vs V', 'AAPL vs G', 'AAPL vs GE', 'GOOG vs F', 'GOOG vs V', 'GOOG vs G', 'GOOG vs GE', 'IBM vs F', 'IBM vs V', 'IBM vs G', 'IBM vs GE', 'FB vs F', 'FB vs V', 'FB vs G', 'FB vs GE']\n"
          ]
        }
      ]
    },
    {
      "cell_type": "code",
      "metadata": {
        "colab": {
          "base_uri": "https://localhost:8080/"
        },
        "id": "bDN-ysC_awXx",
        "outputId": "f2855c75-fd2f-40ea-bb32-4ec603f64b5c"
      },
      "source": [
        "#example\n",
        "print([(x, y) for x in [45,46,47] for y in [45,98,46] if x != y])\n",
        "print([str(x)+' vs '+str(y) for x in ['Java', 'Python', 'C++'] for y in ['C#', 'Javascript', 'R'] if x!=y])"
      ],
      "execution_count": null,
      "outputs": [
        {
          "name": "stdout",
          "output_type": "stream",
          "text": [
            "[(45, 98), (45, 46), (46, 45), (46, 98), (47, 45), (47, 98), (47, 46)]\n",
            "['Java vs C#', 'Java vs Javascript', 'Java vs R', 'Python vs C#', 'Python vs Javascript', 'Python vs R', 'C++ vs C#', 'C++ vs Javascript', 'C++ vs R']\n"
          ]
        }
      ]
    },
    {
      "cell_type": "markdown",
      "metadata": {
        "id": "jJpvq-o4a8P7"
      },
      "source": [
        "List comprehension is an elegant way to organize one or more for loops when creating a list.\n",
        "\n",
        "# Summary\n",
        "This chapter has introduced logical operations, loops, and list comprehension. In the next chapter, we will introduce functions and object-oriented programming, which will enable us to make our codes clean and versatile."
      ]
    },
    {
      "cell_type": "markdown",
      "metadata": {
        "id": "Tef_X2wJbdhn"
      },
      "source": [
        "# **TUTORIAL 3**\n",
        "\n",
        "# 03 Functions and Objective-Oriented Programming\n",
        "\n",
        "# Introduction\n",
        "\n",
        "In the last tutorial we introduced logical operations, loops and list comprehension. We will introduce functions and object-oriented programming in this chapter, which will enable us to build complex algorithms in more flexible ways.\n",
        "\n",
        "# Functions\n",
        "A function is a reusable block of code. We can use a function to output a value, or do anything else we want. We can easily define our own function by using the keyword \"def\"."
      ]
    },
    {
      "cell_type": "code",
      "metadata": {
        "colab": {
          "base_uri": "https://localhost:8080/"
        },
        "id": "eE_NkTiSO2PO",
        "outputId": "064d0c4b-be79-4bc7-83a5-7c538dcac550"
      },
      "source": [
        "def product(x,y):\n",
        "    return x*y\n",
        "print(product(2,3))\n",
        "print(product(5,10))"
      ],
      "execution_count": null,
      "outputs": [
        {
          "name": "stdout",
          "output_type": "stream",
          "text": [
            "6\n",
            "50\n"
          ]
        }
      ]
    },
    {
      "cell_type": "code",
      "metadata": {
        "colab": {
          "base_uri": "https://localhost:8080/"
        },
        "id": "Zd2qrpP-VNWJ",
        "outputId": "1f2f01fb-ec86-4fab-f7f8-21fa3731aa10"
      },
      "source": [
        "#example\n",
        "def division(x,y):\n",
        "    return x/y\n",
        "print(division(9,3))\n",
        "print(division(25,5))"
      ],
      "execution_count": null,
      "outputs": [
        {
          "name": "stdout",
          "output_type": "stream",
          "text": [
            "3.0\n",
            "5.0\n"
          ]
        }
      ]
    },
    {
      "cell_type": "markdown",
      "metadata": {
        "id": "4oRU_dVJbsdD"
      },
      "source": [
        "The keyword \"def\" is followed by the function name and the parenthesized list of formal parameters. The statements that form the body of the function start at the next line, and must be indented. The product() function above has \"x\" and \"y\" as its parameters. A function doesn't necessarily have parameters:"
      ]
    },
    {
      "cell_type": "code",
      "metadata": {
        "colab": {
          "base_uri": "https://localhost:8080/"
        },
        "id": "JhdWVLbUO2PQ",
        "outputId": "47ed620b-ac41-4572-daa2-659a7f017a63"
      },
      "source": [
        "def say_hi():\n",
        "    print('Welcome to QuantConnect')\n",
        "say_hi()"
      ],
      "execution_count": null,
      "outputs": [
        {
          "name": "stdout",
          "output_type": "stream",
          "text": [
            "Welcome to QuantConnect\n"
          ]
        }
      ]
    },
    {
      "cell_type": "code",
      "metadata": {
        "colab": {
          "base_uri": "https://localhost:8080/"
        },
        "id": "_D5yHMYbVc6k",
        "outputId": "8f5125cd-6f8b-4eef-8600-f823ed84fa7c"
      },
      "source": [
        "#example\n",
        "def saludo():\n",
        "    print(\"Hola, cómo estás?\")\n",
        "saludo()"
      ],
      "execution_count": null,
      "outputs": [
        {
          "name": "stdout",
          "output_type": "stream",
          "text": [
            "Hola, cómo estás?\n"
          ]
        }
      ]
    },
    {
      "cell_type": "markdown",
      "metadata": {
        "id": "lHwqVpWVb1Jr"
      },
      "source": [
        "# Built-in Function\n",
        "**range()** is a function that creates a list containing an arithmetic sequence. It's often used in for loops. The arguments must be integers. If the \"step\" argument is omitted, it defaults to 1."
      ]
    },
    {
      "cell_type": "code",
      "metadata": {
        "colab": {
          "base_uri": "https://localhost:8080/"
        },
        "id": "VVOTELcIO2PQ",
        "outputId": "27aaf124-b953-47bb-94f0-a55973b8b2c1"
      },
      "source": [
        "print(range(10))\n",
        "print(range(1,11))\n",
        "print(range(1,11,2))"
      ],
      "execution_count": null,
      "outputs": [
        {
          "name": "stdout",
          "output_type": "stream",
          "text": [
            "range(0, 10)\n",
            "range(1, 11)\n",
            "range(1, 11, 2)\n"
          ]
        }
      ]
    },
    {
      "cell_type": "code",
      "metadata": {
        "colab": {
          "base_uri": "https://localhost:8080/"
        },
        "id": "Zi4YuegvVtnN",
        "outputId": "40be1f6b-d91e-4b1b-bfe1-d337276ec834"
      },
      "source": [
        "#example\n",
        "print(range(14))\n",
        "print(range(4,16))\n",
        "print(range(4,8,5))"
      ],
      "execution_count": null,
      "outputs": [
        {
          "name": "stdout",
          "output_type": "stream",
          "text": [
            "range(0, 14)\n",
            "range(4, 16)\n",
            "range(4, 8, 5)\n"
          ]
        }
      ]
    },
    {
      "cell_type": "markdown",
      "metadata": {
        "id": "PD0cSgiwcQ4L"
      },
      "source": [
        "**len()** is another function used together with range() to create a for loop. This function returns the length of an object. The argument must be a sequence or a collection."
      ]
    },
    {
      "cell_type": "code",
      "metadata": {
        "colab": {
          "base_uri": "https://localhost:8080/"
        },
        "id": "Hg18c7v-O2PR",
        "outputId": "7ab9de0f-c09c-4533-ef0e-fb94dadafbf3"
      },
      "source": [
        "tickers = ['AAPL','GOOG','IBM','FB','F','V', 'G', 'GE']\n",
        "print('The length of tickers is {}'.format(len(tickers)))\n",
        "for i in range(len(tickers)):\n",
        "    print(tickers[i])"
      ],
      "execution_count": null,
      "outputs": [
        {
          "name": "stdout",
          "output_type": "stream",
          "text": [
            "The length of tickers is 8\n",
            "AAPL\n",
            "GOOG\n",
            "IBM\n",
            "FB\n",
            "F\n",
            "V\n",
            "G\n",
            "GE\n"
          ]
        }
      ]
    },
    {
      "cell_type": "code",
      "metadata": {
        "colab": {
          "base_uri": "https://localhost:8080/"
        },
        "id": "fP-Ec_LEWCE7",
        "outputId": "a19a40f7-a9d8-4036-9fe5-3bc54441e095"
      },
      "source": [
        "#example\n",
        "language_list = ['Java', 'Python', 'C++', 'C#', 'Javascript', 'R']\n",
        "print('La longitud de la lista de lenguajes es {}'.format(len(language_list)))\n",
        "for i in range(len(language_list)):\n",
        "    print(language_list[i])"
      ],
      "execution_count": null,
      "outputs": [
        {
          "name": "stdout",
          "output_type": "stream",
          "text": [
            "La longitud de la lista de lenguajes es 6\n",
            "Java\n",
            "Python\n",
            "C++\n",
            "C#\n",
            "Javascript\n",
            "R\n"
          ]
        }
      ]
    },
    {
      "cell_type": "markdown",
      "metadata": {
        "id": "OIQSuub1cWgi"
      },
      "source": [
        "Note: If you want to print only the tickers without those numbers, then simply write \"for ticker in tickers: print ticker\"\n",
        "\n",
        "**map(**) is a function that applies a specific function to every item of a sequence or collection, and returns a list of the results."
      ]
    },
    {
      "cell_type": "code",
      "metadata": {
        "colab": {
          "base_uri": "https://localhost:8080/"
        },
        "id": "78DyKVOyO2PR",
        "outputId": "2c8e046e-88fa-44a8-826f-0297b894b764"
      },
      "source": [
        "tickers = ['AAPL','GOOG','IBM','FB','F','V', 'G', 'GE']\n",
        "print(list(map(len,tickers)))"
      ],
      "execution_count": null,
      "outputs": [
        {
          "name": "stdout",
          "output_type": "stream",
          "text": [
            "[4, 4, 3, 2, 1, 1, 1, 2]\n"
          ]
        }
      ]
    },
    {
      "cell_type": "code",
      "metadata": {
        "colab": {
          "base_uri": "https://localhost:8080/"
        },
        "id": "WBcny9mvW0Ka",
        "outputId": "20087ff6-2a16-4a64-98de-8cfb1c308671"
      },
      "source": [
        "#example\n",
        "language_list = ['Java', 'Python', 'C++', 'C#', 'Javascript', 'R']\n",
        "print(list(map(len, language_list)))"
      ],
      "execution_count": null,
      "outputs": [
        {
          "name": "stdout",
          "output_type": "stream",
          "text": [
            "[4, 6, 3, 2, 10, 1]\n"
          ]
        }
      ]
    },
    {
      "cell_type": "markdown",
      "metadata": {
        "id": "mvr06UM7ca7b"
      },
      "source": [
        "The **lambda operator** is a way to create small anonymous functions. These functions are just needed where they have been created. For example:"
      ]
    },
    {
      "cell_type": "code",
      "metadata": {
        "colab": {
          "base_uri": "https://localhost:8080/"
        },
        "id": "pAEHADYXO2PR",
        "outputId": "bdeceb81-555d-479d-bbce-905ea0ea42b9"
      },
      "source": [
        "list(map(lambda x: x**2, range(10)))"
      ],
      "execution_count": null,
      "outputs": [
        {
          "data": {
            "text/plain": [
              "[0, 1, 4, 9, 16, 25, 36, 49, 64, 81]"
            ]
          },
          "execution_count": 6,
          "metadata": {},
          "output_type": "execute_result"
        }
      ]
    },
    {
      "cell_type": "code",
      "metadata": {
        "colab": {
          "base_uri": "https://localhost:8080/"
        },
        "id": "1al6OL6rXM_D",
        "outputId": "d069a5e7-2154-4d68-83b6-cf6022148f2c"
      },
      "source": [
        "#example\n",
        "list(map(lambda x: x**3, range(6) ))"
      ],
      "execution_count": null,
      "outputs": [
        {
          "data": {
            "text/plain": [
              "[0, 1, 8, 27, 64, 125]"
            ]
          },
          "execution_count": 8,
          "metadata": {},
          "output_type": "execute_result"
        }
      ]
    },
    {
      "cell_type": "markdown",
      "metadata": {
        "id": "Mgixpxomcj3T"
      },
      "source": [
        "map() can be applied to more than one list. The lists have to have the same length."
      ]
    },
    {
      "cell_type": "code",
      "metadata": {
        "colab": {
          "base_uri": "https://localhost:8080/"
        },
        "id": "HtckhAaJO2PS",
        "outputId": "66a30e42-4c33-49e9-a3f6-534b9eeac346"
      },
      "source": [
        "list(map(lambda x, y: x+y, [1,2,3,4,5],[5,4,3,2,1]))"
      ],
      "execution_count": null,
      "outputs": [
        {
          "data": {
            "text/plain": [
              "[6, 6, 6, 6, 6]"
            ]
          },
          "execution_count": 7,
          "metadata": {},
          "output_type": "execute_result"
        }
      ]
    },
    {
      "cell_type": "code",
      "metadata": {
        "colab": {
          "base_uri": "https://localhost:8080/"
        },
        "id": "1EdoF-4dXmUA",
        "outputId": "6da30051-687a-48cc-e653-54647537ab87"
      },
      "source": [
        "#example\n",
        "list(map(lambda x, y: x*y, [6,5,4,3,2,1],[2,4,8,12,16,20]))"
      ],
      "execution_count": null,
      "outputs": [
        {
          "data": {
            "text/plain": [
              "[12, 20, 32, 36, 32, 20]"
            ]
          },
          "execution_count": 16,
          "metadata": {},
          "output_type": "execute_result"
        }
      ]
    },
    {
      "cell_type": "markdown",
      "metadata": {
        "id": "ZDnMTH-KcklT"
      },
      "source": [
        "**sorted()** takes a list or set and returns a new sorted list"
      ]
    },
    {
      "cell_type": "code",
      "metadata": {
        "colab": {
          "base_uri": "https://localhost:8080/"
        },
        "id": "P0sHUMFWO2PS",
        "outputId": "48fd8253-b48e-41e9-c3b1-fdc1ab5b6917"
      },
      "source": [
        "sorted([5,2,3,4,1])"
      ],
      "execution_count": null,
      "outputs": [
        {
          "data": {
            "text/plain": [
              "[1, 2, 3, 4, 5]"
            ]
          },
          "execution_count": 8,
          "metadata": {},
          "output_type": "execute_result"
        }
      ]
    },
    {
      "cell_type": "code",
      "metadata": {
        "colab": {
          "base_uri": "https://localhost:8080/"
        },
        "id": "mQkUoZT2X5EN",
        "outputId": "bb5db010-ab2d-4f2a-d605-1d5a864a8c4e"
      },
      "source": [
        "#example\n",
        "sorted([93,51,61,72,57,53,75,25,12])\n"
      ],
      "execution_count": null,
      "outputs": [
        {
          "data": {
            "text/plain": [
              "[12, 25, 51, 53, 57, 61, 72, 75, 93]"
            ]
          },
          "execution_count": 17,
          "metadata": {},
          "output_type": "execute_result"
        }
      ]
    },
    {
      "cell_type": "markdown",
      "metadata": {
        "id": "-N5_EDOFcnsc"
      },
      "source": [
        "We can add a \"key\" parameter to specify a function to be called on each list element prior to making comparisons. For example:"
      ]
    },
    {
      "cell_type": "code",
      "metadata": {
        "colab": {
          "base_uri": "https://localhost:8080/"
        },
        "id": "0i3peZ0bO2PS",
        "outputId": "9404bf6f-f3fc-4cb7-876f-94796fb35c4e"
      },
      "source": [
        "price_list = [('AAPL',144.09),('GOOG',911.71),('MSFT',69),('FB',150),('WMT',75.32)]\n",
        "sorted(price_list, key = lambda x: x[1])"
      ],
      "execution_count": null,
      "outputs": [
        {
          "data": {
            "text/plain": [
              "[('MSFT', 69), ('WMT', 75.32), ('AAPL', 144.09), ('FB', 150), ('GOOG', 911.71)]"
            ]
          },
          "execution_count": 9,
          "metadata": {},
          "output_type": "execute_result"
        }
      ]
    },
    {
      "cell_type": "code",
      "metadata": {
        "colab": {
          "base_uri": "https://localhost:8080/"
        },
        "id": "2BILfdaNYGTs",
        "outputId": "ab06da42-c119-44a0-859e-fadc24c780e3"
      },
      "source": [
        "#example\n",
        "lista_edad = [('Juan', 18),('Maria', 19),('Santiago', 17),('Sofia', 20)]\n",
        "sorted(lista_edad, key = lambda x: x[1])"
      ],
      "execution_count": null,
      "outputs": [
        {
          "data": {
            "text/plain": [
              "[('Santiago', 17), ('Juan', 18), ('Maria', 19), ('Sofia', 20)]"
            ]
          },
          "execution_count": 18,
          "metadata": {},
          "output_type": "execute_result"
        }
      ]
    },
    {
      "cell_type": "markdown",
      "metadata": {
        "id": "yun2zptKcxe_"
      },
      "source": [
        "By default the values are sorted by ascending order. We can change it to descending by adding an optional parameter \"reverse'."
      ]
    },
    {
      "cell_type": "code",
      "metadata": {
        "colab": {
          "base_uri": "https://localhost:8080/"
        },
        "id": "dEZqdl94O2PT",
        "outputId": "0bd008eb-e0d8-4e7f-dcb6-d25a14f0cbe1"
      },
      "source": [
        "price_list = [('AAPL',144.09),('GOOG',911.71),('MSFT',69),('FB',150),('WMT',75.32)]\n",
        "sorted(price_list, key = lambda x: x[1],reverse = True)"
      ],
      "execution_count": null,
      "outputs": [
        {
          "data": {
            "text/plain": [
              "[('GOOG', 911.71), ('FB', 150), ('AAPL', 144.09), ('WMT', 75.32), ('MSFT', 69)]"
            ]
          },
          "execution_count": 10,
          "metadata": {},
          "output_type": "execute_result"
        }
      ]
    },
    {
      "cell_type": "code",
      "metadata": {
        "colab": {
          "base_uri": "https://localhost:8080/"
        },
        "id": "MRUIXe_TZAjV",
        "outputId": "d14c9eb7-39c8-43ce-9974-38ab55f22722"
      },
      "source": [
        "#example\n",
        "lista_edad = [('Juan', 18),('Maria', 19),('Santiago', 17),('Sofia', 20)]\n",
        "sorted(lista_edad, key = lambda x: x[1], reverse = True)"
      ],
      "execution_count": null,
      "outputs": [
        {
          "data": {
            "text/plain": [
              "[('Sofia', 20), ('Maria', 19), ('Juan', 18), ('Santiago', 17)]"
            ]
          },
          "execution_count": 19,
          "metadata": {},
          "output_type": "execute_result"
        }
      ]
    },
    {
      "cell_type": "markdown",
      "metadata": {
        "id": "OA2wYAa0c6Dn"
      },
      "source": [
        "Lists also have a function list.sort(). This function takes the same \"key\" and \"reverse\" arguments as sorted(), but it doesn't return a new list."
      ]
    },
    {
      "cell_type": "code",
      "metadata": {
        "colab": {
          "base_uri": "https://localhost:8080/"
        },
        "id": "pG9VQCLnO2PT",
        "outputId": "129a4f82-61a4-4fe0-a603-03ef7867d6e9"
      },
      "source": [
        "price_list = [('AAPL',144.09),('GOOG',911.71),('MSFT',69),('FB',150),('WMT',75.32)]\n",
        "price_list.sort(key = lambda x: x[1])\n",
        "print(price_list)"
      ],
      "execution_count": null,
      "outputs": [
        {
          "name": "stdout",
          "output_type": "stream",
          "text": [
            "[('MSFT', 69), ('WMT', 75.32), ('AAPL', 144.09), ('FB', 150), ('GOOG', 911.71)]\n"
          ]
        }
      ]
    },
    {
      "cell_type": "code",
      "metadata": {
        "colab": {
          "base_uri": "https://localhost:8080/"
        },
        "id": "qdE4Hs36ZFFC",
        "outputId": "50acd618-e3f3-4a2c-9641-686bdc751f66"
      },
      "source": [
        "#example\n",
        "lista_edad = [('Juan', 18),('Maria', 19),('Santiago', 17),('Sofia', 20)]\n",
        "lista_edad.sort(key = lambda x: x[1])\n",
        "print(lista_edad)"
      ],
      "execution_count": null,
      "outputs": [
        {
          "name": "stdout",
          "output_type": "stream",
          "text": [
            "[('Santiago', 17), ('Juan', 18), ('Maria', 19), ('Sofia', 20)]\n"
          ]
        }
      ]
    },
    {
      "cell_type": "markdown",
      "metadata": {
        "id": "mxljL1W1c_c5"
      },
      "source": [
        "# Object-Oriented Programming\n",
        "Python is an object-oriented programming language. It's important to understand the concept of \"objects\" because almost every kind of data from QuantConnect API is an object.\n",
        "\n",
        "## Class\n",
        "A class is a type of data, just like a string, float, or list. When we create an object of that data type, we call it an instance of a class.\n",
        "\n",
        "In Python, everything is an object - everything is an instance of some class. The data stored inside an object are called attributes, and the functions which are associated with the object are called methods.\n",
        "\n",
        "For example, as mentioned above, a list is an object of the \"list\" class, and it has a method list.sort().\n",
        "\n",
        "We can create our own objects by defining a class. We would do this when it's helpful to group certain functions together. For example, we define a class named \"Stock\" here:"
      ]
    },
    {
      "cell_type": "code",
      "metadata": {
        "id": "zC4Y4PgDO2PT"
      },
      "source": [
        "class stock:\n",
        "    def __init__(self, ticker, open, close, volume):\n",
        "        self.ticker = ticker\n",
        "        self.open = open\n",
        "        self.close = close\n",
        "        self.volume = volume\n",
        "        self.rate_return = float(close)/open - 1\n",
        " \n",
        "    def update(self, open, close):\n",
        "        self.open = open\n",
        "        self.close = close\n",
        "        self.rate_return = float(self.close)/self.open - 1\n",
        " \n",
        "    def print_return(self):\n",
        "        print(self.rate_return)"
      ],
      "execution_count": null,
      "outputs": []
    },
    {
      "cell_type": "markdown",
      "metadata": {
        "id": "rV06INT5dETi"
      },
      "source": [
        "The \"Stock\" class has attributes \"ticker\", \"open\", \"close\", \"volume\" and \"rate_return\". Inside the class body, the first method is called __init__, which is a special method. When we create a new instance of the class, the __init__ method is immediately executed with all the parameters that we pass to the \"Stock\" object. The purpose of this method is to set up a new \"Stock\" object using data we have provided.\n",
        "\n",
        "Here we create two Stock objects named \"apple\" and \"google\"."
      ]
    },
    {
      "cell_type": "code",
      "metadata": {
        "id": "8tIpNk93O2PU"
      },
      "source": [
        "apple = stock('AAPL', 143.69, 144.09, 20109375)\n",
        "google = stock('GOOG', 898.7, 911.7, 1561616)"
      ],
      "execution_count": null,
      "outputs": []
    },
    {
      "cell_type": "code",
      "metadata": {
        "id": "zmmVAwF2Zu_0"
      },
      "source": [
        "#example\n",
        "twitter = stock('TWTR', 66.98, 68.32, 34152252)\n",
        "facebook = stock('FB', 341.8, 335.32, 53125328)\n"
      ],
      "execution_count": null,
      "outputs": []
    },
    {
      "cell_type": "markdown",
      "metadata": {
        "id": "VxmELNiHdPKS"
      },
      "source": [
        "Stock objects also have two other methods: update() and print_return(). We can access the attribues of a Stock object and call its methods:"
      ]
    },
    {
      "cell_type": "code",
      "metadata": {
        "colab": {
          "base_uri": "https://localhost:8080/"
        },
        "id": "SsiIkmekO2PU",
        "outputId": "5349ee98-768b-4065-b924-60dd986f2fe3"
      },
      "source": [
        "apple.ticker\n",
        "google.print_return()\n",
        "google.update(912.8,913.4)\n",
        "google.print_return()"
      ],
      "execution_count": null,
      "outputs": [
        {
          "name": "stdout",
          "output_type": "stream",
          "text": [
            "0.0006573181419806673\n",
            "0.0006573181419806673\n"
          ]
        }
      ]
    },
    {
      "cell_type": "code",
      "metadata": {
        "colab": {
          "base_uri": "https://localhost:8080/"
        },
        "id": "k8AAIXXiadqh",
        "outputId": "5fc3846c-337a-4cc2-ddd0-37708c0d63f3"
      },
      "source": [
        "#example\n",
        "facebook.ticker\n",
        "twitter.print_return()\n",
        "twitter.update(67.23, 64.21)\n",
        "twitter.print_return()"
      ],
      "execution_count": null,
      "outputs": [
        {
          "name": "stdout",
          "output_type": "stream",
          "text": [
            "-0.04492042243046279\n",
            "-0.04492042243046279\n"
          ]
        }
      ]
    },
    {
      "cell_type": "markdown",
      "metadata": {
        "id": "Q8fl7keNdVKF"
      },
      "source": [
        "By calling the update() function, we updated the open and close prices of a stock. Please note that when we use the attributes or call the methods **inside a class**, we need to specify them as self.attribute or self.method(), otherwise Python will deem them as global variables and thus raise an error.\n",
        "\n",
        "We can add an attribute to an object anywhere:"
      ]
    },
    {
      "cell_type": "code",
      "metadata": {
        "colab": {
          "base_uri": "https://localhost:8080/",
          "height": 35
        },
        "id": "rO4OLnqOO2PU",
        "outputId": "91c80188-0766-4e44-8fa5-7dd846bb58cc"
      },
      "source": [
        "apple.ceo = 'Tim Cook'\n",
        "apple.ceo"
      ],
      "execution_count": null,
      "outputs": [
        {
          "data": {
            "application/vnd.google.colaboratory.intrinsic+json": {
              "type": "string"
            },
            "text/plain": [
              "'Tim Cook'"
            ]
          },
          "execution_count": 15,
          "metadata": {},
          "output_type": "execute_result"
        }
      ]
    },
    {
      "cell_type": "code",
      "metadata": {
        "colab": {
          "base_uri": "https://localhost:8080/",
          "height": 35
        },
        "id": "YuaCW3tOr-K1",
        "outputId": "9dee5ded-e025-4bad-e3fa-bfeeb23dcf33"
      },
      "source": [
        "#example\n",
        "facebook.ceo = 'Mark Zuckerberg'\n",
        "facebook.ceo"
      ],
      "execution_count": null,
      "outputs": [
        {
          "data": {
            "application/vnd.google.colaboratory.intrinsic+json": {
              "type": "string"
            },
            "text/plain": [
              "'Mark Zuckerberg'"
            ]
          },
          "execution_count": 36,
          "metadata": {},
          "output_type": "execute_result"
        }
      ]
    },
    {
      "cell_type": "markdown",
      "metadata": {
        "id": "WyfnFgVidh4J"
      },
      "source": [
        "We can check what names (i.e. attributes and methods) are defined on an object using the dir() function:"
      ]
    },
    {
      "cell_type": "code",
      "metadata": {
        "colab": {
          "base_uri": "https://localhost:8080/"
        },
        "id": "pPoz0LA8O2PU",
        "outputId": "c8fa4c6f-fe38-4150-aa48-b06ca1ba60ec"
      },
      "source": [
        "dir(apple)"
      ],
      "execution_count": null,
      "outputs": [
        {
          "data": {
            "text/plain": [
              "['__class__',\n",
              " '__delattr__',\n",
              " '__dict__',\n",
              " '__dir__',\n",
              " '__doc__',\n",
              " '__eq__',\n",
              " '__format__',\n",
              " '__ge__',\n",
              " '__getattribute__',\n",
              " '__gt__',\n",
              " '__hash__',\n",
              " '__init__',\n",
              " '__init_subclass__',\n",
              " '__le__',\n",
              " '__lt__',\n",
              " '__module__',\n",
              " '__ne__',\n",
              " '__new__',\n",
              " '__reduce__',\n",
              " '__reduce_ex__',\n",
              " '__repr__',\n",
              " '__setattr__',\n",
              " '__sizeof__',\n",
              " '__str__',\n",
              " '__subclasshook__',\n",
              " '__weakref__',\n",
              " 'ceo',\n",
              " 'close',\n",
              " 'open',\n",
              " 'print_return',\n",
              " 'rate_return',\n",
              " 'ticker',\n",
              " 'update',\n",
              " 'volume']"
            ]
          },
          "execution_count": 16,
          "metadata": {},
          "output_type": "execute_result"
        }
      ]
    },
    {
      "cell_type": "code",
      "metadata": {
        "colab": {
          "base_uri": "https://localhost:8080/"
        },
        "id": "bROP_ncisJJf",
        "outputId": "d2d5612c-72c6-45df-f261-7a686f7bed5e"
      },
      "source": [
        "#example\n",
        "dir(facebook)"
      ],
      "execution_count": null,
      "outputs": [
        {
          "data": {
            "text/plain": [
              "['__class__',\n",
              " '__delattr__',\n",
              " '__dict__',\n",
              " '__dir__',\n",
              " '__doc__',\n",
              " '__eq__',\n",
              " '__format__',\n",
              " '__ge__',\n",
              " '__getattribute__',\n",
              " '__gt__',\n",
              " '__hash__',\n",
              " '__init__',\n",
              " '__init_subclass__',\n",
              " '__le__',\n",
              " '__lt__',\n",
              " '__module__',\n",
              " '__ne__',\n",
              " '__new__',\n",
              " '__reduce__',\n",
              " '__reduce_ex__',\n",
              " '__repr__',\n",
              " '__setattr__',\n",
              " '__sizeof__',\n",
              " '__str__',\n",
              " '__subclasshook__',\n",
              " '__weakref__',\n",
              " 'ceo',\n",
              " 'close',\n",
              " 'open',\n",
              " 'print_return',\n",
              " 'rate_return',\n",
              " 'ticker',\n",
              " 'update',\n",
              " 'volume']"
            ]
          },
          "execution_count": 37,
          "metadata": {},
          "output_type": "execute_result"
        }
      ]
    },
    {
      "cell_type": "markdown",
      "metadata": {
        "id": "Qpemj1UZd2aa"
      },
      "source": [
        "## Inheritance\n",
        "Inheritance is a way of arranging classes in a hierarchy from the most general to the most specific. A \"child\" class is a more specific type of a \"parent\" class because a child class will inherit all the attribues and methods of its parent. For example, we define a class named \"Child\" which inherits \"Stock\":"
      ]
    },
    {
      "cell_type": "code",
      "metadata": {
        "id": "UELXnxomO2PV"
      },
      "source": [
        "class child(stock):\n",
        "    def __init__(self,name):\n",
        "        self.name = name"
      ],
      "execution_count": null,
      "outputs": []
    },
    {
      "cell_type": "code",
      "metadata": {
        "colab": {
          "base_uri": "https://localhost:8080/"
        },
        "id": "ffS2THZyO2PV",
        "outputId": "07715c5a-6d89-46b4-e2b5-bb954a8db5b6"
      },
      "source": [
        "aa = child('aa')\n",
        "print(aa.name)\n",
        "aa.update(100,102)\n",
        "print(aa.open)\n",
        "print(aa.close)\n",
        "print(aa.print_return())"
      ],
      "execution_count": null,
      "outputs": [
        {
          "name": "stdout",
          "output_type": "stream",
          "text": [
            "aa\n",
            "100\n",
            "102\n",
            "0.020000000000000018\n",
            "None\n"
          ]
        }
      ]
    },
    {
      "cell_type": "code",
      "metadata": {
        "colab": {
          "base_uri": "https://localhost:8080/"
        },
        "id": "nPia3xJOsufI",
        "outputId": "496c3c25-6fb0-47ba-8efc-ad13c4c28c33"
      },
      "source": [
        "#example\n",
        "bb = child('bb')\n",
        "print(bb.name)\n",
        "bb.update(100,102)\n",
        "print(bb.open)\n",
        "print(bb.close)\n",
        "print(bb.print_return())"
      ],
      "execution_count": null,
      "outputs": [
        {
          "name": "stdout",
          "output_type": "stream",
          "text": [
            "bb\n",
            "100\n",
            "102\n",
            "0.020000000000000018\n",
            "None\n"
          ]
        }
      ]
    },
    {
      "cell_type": "markdown",
      "metadata": {
        "id": "pdIEjUv2eJqL"
      },
      "source": [
        "As seen above, the new class Child has inherited the methods from Stock.\n",
        "\n",
        "#Summary\n",
        "\n",
        "In this chapter we have introduced functions and classes. When we write a QuantConnect algorithm, we would define our algorithm as a class (QCAlgorithm). This means our algorithm inherited the QC API methods from QCAlgorithm class.\n",
        "\n",
        "In the next chapter, we will introduce NumPy and Pandas, which enable us to conduct scientific calculations in Python."
      ]
    },
    {
      "cell_type": "markdown",
      "metadata": {
        "id": "dQbENH6mexTd"
      },
      "source": [
        "# **TUTORIAL 4**\n",
        "\n",
        "# 04 NumPy and Basic Pandas\n",
        "\n",
        "# Introduction\n",
        "\n",
        "Now that we have introduced the fundamentals of Python, it's time to learn about NumPy and Pandas.\n",
        "\n",
        "# NumPy\n",
        "NumPy is the core library for scientific computing in Python. It provides a high-performance multidimensional array object, and tools for working with these arrays. It also has strong integration with Pandas, which is another powerful tool for manipulating financial data.\n",
        "\n",
        "Python packages like NumPy and Pandas contain classes and methods which we can use by importing the package:"
      ]
    },
    {
      "cell_type": "code",
      "metadata": {
        "id": "aIESp-rdO58h"
      },
      "source": [
        "import numpy as np"
      ],
      "execution_count": null,
      "outputs": []
    },
    {
      "cell_type": "markdown",
      "metadata": {
        "id": "GScHHJ5ke7ea"
      },
      "source": [
        "## Basic NumPy Arrays\n",
        "A NumPy array is a grid of values, all of the same type, and is indexed by a tuple of nonnegative integers. Here we make an array by passing a list of Apple stock prices:"
      ]
    },
    {
      "cell_type": "code",
      "metadata": {
        "colab": {
          "base_uri": "https://localhost:8080/"
        },
        "id": "lZI1wkwDO58i",
        "outputId": "168d75f8-1d4b-4fff-cfbb-cad075aa1550"
      },
      "source": [
        "price_list = [143.73, 145.83, 143.68, 144.02, 143.5, 142.62]\n",
        "price_array = np.array(price_list)\n",
        "print(price_array, type(price_array))"
      ],
      "execution_count": null,
      "outputs": [
        {
          "name": "stdout",
          "output_type": "stream",
          "text": [
            "[143.73 145.83 143.68 144.02 143.5  142.62] <class 'numpy.ndarray'>\n"
          ]
        }
      ]
    },
    {
      "cell_type": "code",
      "metadata": {
        "colab": {
          "base_uri": "https://localhost:8080/"
        },
        "id": "dZD2ZlH2tKd9",
        "outputId": "84252537-ed6c-4d1c-e2a7-1d041b5f8db4"
      },
      "source": [
        "#example\n",
        "language_list = ['Java', 'Python', 'C++', 'C#', 'Javascript', 'Java', 'Python', 'C++']\n",
        "language_array = np.array(language_list)\n",
        "print(language_array, type(language_array))"
      ],
      "execution_count": null,
      "outputs": [
        {
          "name": "stdout",
          "output_type": "stream",
          "text": [
            "['Java' 'Python' 'C++' 'C#' 'Javascript' 'Java' 'Python' 'C++'] <class 'numpy.ndarray'>\n"
          ]
        }
      ]
    },
    {
      "cell_type": "markdown",
      "metadata": {
        "id": "-5Yj6u9ifB-t"
      },
      "source": [
        "Notice that the type of array is \"ndarray\" which is a multi-dimensional array. If we pass np.array() a list of lists, it will create a 2-dimensional array."
      ]
    },
    {
      "cell_type": "code",
      "metadata": {
        "colab": {
          "base_uri": "https://localhost:8080/"
        },
        "id": "obvIZrK-O58j",
        "outputId": "bb81be12-a7a6-4d6c-aa0c-83743ab9dfab"
      },
      "source": [
        "Ar = np.array([[1,3],[2,4]])\n",
        "print(Ar, type(Ar))"
      ],
      "execution_count": null,
      "outputs": [
        {
          "name": "stdout",
          "output_type": "stream",
          "text": [
            "[[1 3]\n",
            " [2 4]] <class 'numpy.ndarray'>\n"
          ]
        }
      ]
    },
    {
      "cell_type": "code",
      "metadata": {
        "colab": {
          "base_uri": "https://localhost:8080/"
        },
        "id": "-9Emrw5ctlAL",
        "outputId": "6211a009-9b54-46ae-a282-4a9b3c4edd31"
      },
      "source": [
        "#example\n",
        "Array = np.array([['Java', 'Python'],[12, 44]])\n",
        "print( Array, type(Array))"
      ],
      "execution_count": null,
      "outputs": [
        {
          "name": "stdout",
          "output_type": "stream",
          "text": [
            "[['Java' 'Python']\n",
            " ['12' '44']] <class 'numpy.ndarray'>\n"
          ]
        }
      ]
    },
    {
      "cell_type": "markdown",
      "metadata": {
        "id": "uDdfLD9HfHkl"
      },
      "source": [
        "We get the dimensions of an ndarray using the .shape attribute:"
      ]
    },
    {
      "cell_type": "code",
      "metadata": {
        "colab": {
          "base_uri": "https://localhost:8080/"
        },
        "id": "G2txdn73O58j",
        "outputId": "87746505-1f05-425b-81a6-748c7b261e75"
      },
      "source": [
        "print(Ar.shape)"
      ],
      "execution_count": null,
      "outputs": [
        {
          "name": "stdout",
          "output_type": "stream",
          "text": [
            "(2, 2)\n"
          ]
        }
      ]
    },
    {
      "cell_type": "code",
      "metadata": {
        "colab": {
          "base_uri": "https://localhost:8080/"
        },
        "id": "QKmcKOGht-Zy",
        "outputId": "147291b2-c97b-47e5-ce28-7576e6fa9324"
      },
      "source": [
        "#example\n",
        "print(Array.shape)"
      ],
      "execution_count": null,
      "outputs": [
        {
          "name": "stdout",
          "output_type": "stream",
          "text": [
            "(2, 2)\n"
          ]
        }
      ]
    },
    {
      "cell_type": "markdown",
      "metadata": {
        "id": "87W5ueORfPEy"
      },
      "source": [
        "If we create an 2-dimensional array (i.e. matrix), each row can be accessed by index:"
      ]
    },
    {
      "cell_type": "code",
      "metadata": {
        "colab": {
          "base_uri": "https://localhost:8080/"
        },
        "id": "x_QV9aPbO58j",
        "outputId": "8a01ee40-6c8c-404b-94e0-ccd5cd46f415"
      },
      "source": [
        "print(Ar[0])\n",
        "print(Ar[1])"
      ],
      "execution_count": null,
      "outputs": [
        {
          "name": "stdout",
          "output_type": "stream",
          "text": [
            "[1 3]\n",
            "[2 4]\n"
          ]
        }
      ]
    },
    {
      "cell_type": "code",
      "metadata": {
        "colab": {
          "base_uri": "https://localhost:8080/"
        },
        "id": "LU6T2HhSuEK1",
        "outputId": "22b3f73d-31ab-49e3-8af3-e70e86abd8ec"
      },
      "source": [
        "#example\n",
        "print(Array[0])\n",
        "print(Array[1])"
      ],
      "execution_count": null,
      "outputs": [
        {
          "name": "stdout",
          "output_type": "stream",
          "text": [
            "['Java' 'Python']\n",
            "['12' '44']\n"
          ]
        }
      ]
    },
    {
      "cell_type": "markdown",
      "metadata": {
        "id": "5Hke7Vt-fSGB"
      },
      "source": [
        "If we want to access the matrix by column instead:"
      ]
    },
    {
      "cell_type": "code",
      "metadata": {
        "colab": {
          "base_uri": "https://localhost:8080/"
        },
        "id": "gHVwbPfOO58j",
        "outputId": "03de689c-3eb1-439a-9f5c-3c811e1cb697"
      },
      "source": [
        "print('the first column: ', Ar[:,0])\n",
        "print('the second column: ', Ar[:,1])"
      ],
      "execution_count": null,
      "outputs": [
        {
          "name": "stdout",
          "output_type": "stream",
          "text": [
            "the first column:  [1 2]\n",
            "the second column:  [3 4]\n"
          ]
        }
      ]
    },
    {
      "cell_type": "code",
      "metadata": {
        "colab": {
          "base_uri": "https://localhost:8080/"
        },
        "id": "jN4EqO98uLkQ",
        "outputId": "02b65cb0-9ce2-4352-a45e-050f2c015b2a"
      },
      "source": [
        "#example\n",
        "print('the first column: ', Array[:,0])\n",
        "print('the second column: ', Array[:,1])"
      ],
      "execution_count": null,
      "outputs": [
        {
          "name": "stdout",
          "output_type": "stream",
          "text": [
            "the first column:  ['Java' '12']\n",
            "the second column:  ['Python' '44']\n"
          ]
        }
      ]
    },
    {
      "cell_type": "markdown",
      "metadata": {
        "id": "T61cD0HMfStB"
      },
      "source": [
        "## Array Functions\n",
        "Some functions built in NumPy that allow us to perform calculations on arrays. For example, we can apply the natural logarithm to each element of an array:"
      ]
    },
    {
      "cell_type": "code",
      "metadata": {
        "colab": {
          "base_uri": "https://localhost:8080/"
        },
        "id": "PKhwtJ7XO58k",
        "outputId": "c2bfaa88-29d6-4535-adfa-672559fc31a8"
      },
      "source": [
        "print(np.log(price_array))"
      ],
      "execution_count": null,
      "outputs": [
        {
          "name": "stdout",
          "output_type": "stream",
          "text": [
            "[4.96793654 4.98244156 4.9675886  4.96995218 4.96633504 4.96018375]\n"
          ]
        }
      ]
    },
    {
      "cell_type": "code",
      "metadata": {
        "colab": {
          "base_uri": "https://localhost:8080/"
        },
        "id": "29ltYjXEudM9",
        "outputId": "3e161511-1041-4d59-af66-07b4149aac7c"
      },
      "source": [
        "#example\n",
        "edad_lista = [16,17,18,21,20,17,26]\n",
        "edad_array = np.array(edad_lista)\n",
        "\n",
        "print(np.log(edad_array))"
      ],
      "execution_count": null,
      "outputs": [
        {
          "name": "stdout",
          "output_type": "stream",
          "text": [
            "[2.77258872 2.83321334 2.89037176 3.04452244 2.99573227 2.83321334\n",
            " 3.25809654]\n"
          ]
        }
      ]
    },
    {
      "cell_type": "markdown",
      "metadata": {
        "id": "uzjBRFBLfZ-D"
      },
      "source": [
        "Other functions return a single value:"
      ]
    },
    {
      "cell_type": "code",
      "metadata": {
        "colab": {
          "base_uri": "https://localhost:8080/"
        },
        "id": "nQuABZqUO58k",
        "outputId": "c8e8a512-082a-484e-8289-24f73e7b3bc7"
      },
      "source": [
        "print(np.mean(price_array))\n",
        "print(np.std(price_array))\n",
        "print(np.sum(price_array))\n",
        "print(np.max(price_array))"
      ],
      "execution_count": null,
      "outputs": [
        {
          "name": "stdout",
          "output_type": "stream",
          "text": [
            "143.89666666666668\n",
            "0.9673790478515796\n",
            "863.38\n",
            "145.83\n"
          ]
        }
      ]
    },
    {
      "cell_type": "code",
      "metadata": {
        "colab": {
          "base_uri": "https://localhost:8080/"
        },
        "id": "eato7TXPvIAs",
        "outputId": "026d0bc9-a1b6-4dc7-8280-c43e5fe79d2c"
      },
      "source": [
        "#example\n",
        "print(np.mean(edad_array))\n",
        "print(np.std(edad_array))\n",
        "print(np.sum(edad_array))\n",
        "print(np.max(edad_array))"
      ],
      "execution_count": null,
      "outputs": [
        {
          "name": "stdout",
          "output_type": "stream",
          "text": [
            "19.285714285714285\n",
            "3.1943828249996997\n",
            "135\n",
            "26\n"
          ]
        }
      ]
    },
    {
      "cell_type": "markdown",
      "metadata": {
        "id": "IRW95BsifgDB"
      },
      "source": [
        "The functions above return the mean, standard deviation, total and maximum value of an array.\n",
        "\n",
        "# Pandas\n",
        "Pandas is one of the most powerful tools for dealing with financial data. \n",
        "\n",
        "First we need to import Pandas:"
      ]
    },
    {
      "cell_type": "code",
      "metadata": {
        "id": "xIYH4oUfO58k"
      },
      "source": [
        "import pandas as pd"
      ],
      "execution_count": null,
      "outputs": []
    },
    {
      "cell_type": "markdown",
      "metadata": {
        "id": "zOig5gORfnJU"
      },
      "source": [
        "## Series\n",
        "Series is a one-dimensional labeled array capable of holding any data type (integers, strings, float, Python object, etc.)\n",
        "\n",
        "We create a Series by calling pd.Series(data), where data can be a dictionary, an array or just a scalar value."
      ]
    },
    {
      "cell_type": "code",
      "metadata": {
        "colab": {
          "base_uri": "https://localhost:8080/"
        },
        "id": "JmzoNzrPO58k",
        "outputId": "d5e9828c-6db2-4961-c115-be5131dc7fea"
      },
      "source": [
        "price = [143.73, 145.83, 143.68, 144.02, 143.5, 142.62]\n",
        "s = pd.Series(price)\n",
        "s"
      ],
      "execution_count": null,
      "outputs": [
        {
          "data": {
            "text/plain": [
              "0    143.73\n",
              "1    145.83\n",
              "2    143.68\n",
              "3    144.02\n",
              "4    143.50\n",
              "5    142.62\n",
              "dtype: float64"
            ]
          },
          "execution_count": 10,
          "metadata": {},
          "output_type": "execute_result"
        }
      ]
    },
    {
      "cell_type": "code",
      "metadata": {
        "colab": {
          "base_uri": "https://localhost:8080/"
        },
        "id": "ADBEGGf7vbc3",
        "outputId": "a44c2546-ecc6-4012-99e9-2de45d1afe81"
      },
      "source": [
        "#example\n",
        "edad = [16,17,18,21,20,17,26]\n",
        "s = pd.Series(edad)\n",
        "s"
      ],
      "execution_count": null,
      "outputs": [
        {
          "data": {
            "text/plain": [
              "0    16\n",
              "1    17\n",
              "2    18\n",
              "3    21\n",
              "4    20\n",
              "5    17\n",
              "6    26\n",
              "dtype: int64"
            ]
          },
          "execution_count": 58,
          "metadata": {},
          "output_type": "execute_result"
        }
      ]
    },
    {
      "cell_type": "markdown",
      "metadata": {
        "id": "tP5iDnunfq46"
      },
      "source": [
        "We can customize the indices of a new Series:"
      ]
    },
    {
      "cell_type": "code",
      "metadata": {
        "colab": {
          "base_uri": "https://localhost:8080/"
        },
        "id": "eswQC3ZPO58l",
        "outputId": "8b32705a-3f17-4499-8913-e0d0460dae5f"
      },
      "source": [
        "s = pd.Series(price,index = ['a','b','c','d','e','f'])\n",
        "s"
      ],
      "execution_count": null,
      "outputs": [
        {
          "data": {
            "text/plain": [
              "a    143.73\n",
              "b    145.83\n",
              "c    143.68\n",
              "d    144.02\n",
              "e    143.50\n",
              "f    142.62\n",
              "dtype: float64"
            ]
          },
          "execution_count": 11,
          "metadata": {},
          "output_type": "execute_result"
        }
      ]
    },
    {
      "cell_type": "code",
      "metadata": {
        "colab": {
          "base_uri": "https://localhost:8080/"
        },
        "id": "bNt6GBzCvtc8",
        "outputId": "3e378563-9878-49f0-8d9d-5b91bb0165ce"
      },
      "source": [
        "#example\n",
        "s = pd.Series(edad, index = ['Juan', 'Maria', 'Andres', 'Santiago', 'Jose', 'David', 'Juana'])\n",
        "s"
      ],
      "execution_count": null,
      "outputs": [
        {
          "data": {
            "text/plain": [
              "Juan        16\n",
              "Maria       17\n",
              "Andres      18\n",
              "Santiago    21\n",
              "Jose        20\n",
              "David       17\n",
              "Juana       26\n",
              "dtype: int64"
            ]
          },
          "execution_count": 59,
          "metadata": {},
          "output_type": "execute_result"
        }
      ]
    },
    {
      "cell_type": "markdown",
      "metadata": {
        "id": "wdZrb8pEfuua"
      },
      "source": [
        "Or we can change the indices of an existing Series:"
      ]
    },
    {
      "cell_type": "code",
      "metadata": {
        "colab": {
          "base_uri": "https://localhost:8080/"
        },
        "id": "MwlRnPF6O58l",
        "outputId": "4f2fcc09-3539-46aa-91e6-5538645c12d5"
      },
      "source": [
        "s.index = [6,5,4,3,2,1]\n",
        "s"
      ],
      "execution_count": null,
      "outputs": [
        {
          "data": {
            "text/plain": [
              "6    143.73\n",
              "5    145.83\n",
              "4    143.68\n",
              "3    144.02\n",
              "2    143.50\n",
              "1    142.62\n",
              "dtype: float64"
            ]
          },
          "execution_count": 12,
          "metadata": {},
          "output_type": "execute_result"
        }
      ]
    },
    {
      "cell_type": "code",
      "metadata": {
        "colab": {
          "base_uri": "https://localhost:8080/"
        },
        "id": "S5NWxBFVwHLA",
        "outputId": "00ed089f-f76c-4e8b-c0f1-1831907ee79b"
      },
      "source": [
        "#example\n",
        "s.index = [1,2,3,4,5,6,7]\n",
        "s"
      ],
      "execution_count": null,
      "outputs": [
        {
          "data": {
            "text/plain": [
              "1    16\n",
              "2    17\n",
              "3    18\n",
              "4    21\n",
              "5    20\n",
              "6    17\n",
              "7    26\n",
              "dtype: int64"
            ]
          },
          "execution_count": 60,
          "metadata": {},
          "output_type": "execute_result"
        }
      ]
    },
    {
      "cell_type": "markdown",
      "metadata": {
        "id": "6cGNQZwLfxIz"
      },
      "source": [
        "Series is like a list since it can be sliced by index:"
      ]
    },
    {
      "cell_type": "code",
      "metadata": {
        "colab": {
          "base_uri": "https://localhost:8080/"
        },
        "id": "N9bBSg6cO58l",
        "outputId": "49f11a01-e9cc-4029-dba9-c1560b16caac"
      },
      "source": [
        "print(s[1:])\n",
        "print(s[:-2])"
      ],
      "execution_count": null,
      "outputs": [
        {
          "name": "stdout",
          "output_type": "stream",
          "text": [
            "5    145.83\n",
            "4    143.68\n",
            "3    144.02\n",
            "2    143.50\n",
            "1    142.62\n",
            "dtype: float64\n",
            "6    143.73\n",
            "5    145.83\n",
            "4    143.68\n",
            "3    144.02\n",
            "dtype: float64\n"
          ]
        }
      ]
    },
    {
      "cell_type": "code",
      "metadata": {
        "colab": {
          "base_uri": "https://localhost:8080/"
        },
        "id": "UV2rEkb6wXUG",
        "outputId": "8e44e89b-dee5-4ee3-a166-73b0a344dc61"
      },
      "source": [
        "#example\n",
        "print(s[1:])\n",
        "print(s[:7])\n"
      ],
      "execution_count": null,
      "outputs": [
        {
          "name": "stdout",
          "output_type": "stream",
          "text": [
            "2    17\n",
            "3    18\n",
            "4    21\n",
            "5    20\n",
            "6    17\n",
            "7    26\n",
            "dtype: int64\n",
            "1    16\n",
            "2    17\n",
            "3    18\n",
            "4    21\n",
            "5    20\n",
            "6    17\n",
            "7    26\n",
            "dtype: int64\n"
          ]
        }
      ]
    },
    {
      "cell_type": "markdown",
      "metadata": {
        "id": "5V25nViZfz3Z"
      },
      "source": [
        "Series is also like a dictionary whose values can be set or fetched by index label:"
      ]
    },
    {
      "cell_type": "code",
      "metadata": {
        "colab": {
          "base_uri": "https://localhost:8080/"
        },
        "id": "b3Y0kKGYO58l",
        "outputId": "7a24d2d9-9066-4252-b853-d1756217550d"
      },
      "source": [
        "print(s[4])\n",
        "s[4] = 0\n",
        "print(s)"
      ],
      "execution_count": null,
      "outputs": [
        {
          "name": "stdout",
          "output_type": "stream",
          "text": [
            "143.68\n",
            "6    143.73\n",
            "5    145.83\n",
            "4      0.00\n",
            "3    144.02\n",
            "2    143.50\n",
            "1    142.62\n",
            "dtype: float64\n"
          ]
        }
      ]
    },
    {
      "cell_type": "code",
      "metadata": {
        "colab": {
          "base_uri": "https://localhost:8080/"
        },
        "id": "uOr4nTaNwiEW",
        "outputId": "0fbf0465-d552-487a-d97f-0f30d817945d"
      },
      "source": [
        "#example\n",
        "print(s[3])\n",
        "s[3] = 3\n",
        "print(s)"
      ],
      "execution_count": null,
      "outputs": [
        {
          "name": "stdout",
          "output_type": "stream",
          "text": [
            "28\n",
            "1    16\n",
            "2    17\n",
            "3     3\n",
            "4    21\n",
            "5    20\n",
            "6    17\n",
            "7    26\n",
            "dtype: int64\n"
          ]
        }
      ]
    },
    {
      "cell_type": "markdown",
      "metadata": {
        "id": "RQ1P7Gkyf060"
      },
      "source": [
        "Series can also have a name attribute, which will be used when we make up a Pandas DataFrame using several series."
      ]
    },
    {
      "cell_type": "code",
      "metadata": {
        "colab": {
          "base_uri": "https://localhost:8080/"
        },
        "id": "ZeD4-p7KO58m",
        "outputId": "258b5208-70fc-4ce7-95c4-22a29510494b"
      },
      "source": [
        "s = pd.Series(price, name = 'Apple Price List')\n",
        "print(s)\n",
        "print(s.name)"
      ],
      "execution_count": null,
      "outputs": [
        {
          "name": "stdout",
          "output_type": "stream",
          "text": [
            "0    143.73\n",
            "1    145.83\n",
            "2    143.68\n",
            "3    144.02\n",
            "4    143.50\n",
            "5    142.62\n",
            "Name: Apple Price List, dtype: float64\n",
            "Apple Price List\n"
          ]
        }
      ]
    },
    {
      "cell_type": "code",
      "metadata": {
        "colab": {
          "base_uri": "https://localhost:8080/"
        },
        "id": "g1eHV-XUwsAm",
        "outputId": "8ea42f46-288f-41d9-8ce3-cc9317d71daa"
      },
      "source": [
        "#example\n",
        "s = pd.Series(edad, name = 'Edad de personas')\n",
        "print(s)\n",
        "print(s.name)"
      ],
      "execution_count": null,
      "outputs": [
        {
          "name": "stdout",
          "output_type": "stream",
          "text": [
            "0    16\n",
            "1    17\n",
            "2    18\n",
            "3    21\n",
            "4    20\n",
            "5    17\n",
            "6    26\n",
            "Name: Edad de personas, dtype: int64\n",
            "Edad de personas\n"
          ]
        }
      ]
    },
    {
      "cell_type": "markdown",
      "metadata": {
        "id": "geJb1pGHf5Et"
      },
      "source": [
        "We can get the statistical summaries of a Series:"
      ]
    },
    {
      "cell_type": "code",
      "metadata": {
        "colab": {
          "base_uri": "https://localhost:8080/"
        },
        "id": "mGPtFcjegm4i",
        "outputId": "274e54bb-48f8-4eab-b4c7-35b25eb3ebee"
      },
      "source": [
        "print(s.describe())"
      ],
      "execution_count": null,
      "outputs": [
        {
          "name": "stdout",
          "output_type": "stream",
          "text": [
            "count      6.000000\n",
            "mean     143.896667\n",
            "std        1.059711\n",
            "min      142.620000\n",
            "25%      143.545000\n",
            "50%      143.705000\n",
            "75%      143.947500\n",
            "max      145.830000\n",
            "Name: Apple Price List, dtype: float64\n"
          ]
        }
      ]
    },
    {
      "cell_type": "code",
      "metadata": {
        "colab": {
          "base_uri": "https://localhost:8080/"
        },
        "id": "AKKNi7Ilw1lO",
        "outputId": "85e7a822-f752-45cf-f31d-43e7752ac83b"
      },
      "source": [
        "#example\n",
        "print(s.describe())"
      ],
      "execution_count": null,
      "outputs": [
        {
          "name": "stdout",
          "output_type": "stream",
          "text": [
            "count     7.000000\n",
            "mean     19.285714\n",
            "std       3.450328\n",
            "min      16.000000\n",
            "25%      17.000000\n",
            "50%      18.000000\n",
            "75%      20.500000\n",
            "max      26.000000\n",
            "Name: Edad de personas, dtype: float64\n"
          ]
        }
      ]
    },
    {
      "cell_type": "markdown",
      "metadata": {
        "id": "LkdZu-CDgvlR"
      },
      "source": [
        "## Time Index\n",
        "Pandas has a built-in function specifically for creating date indices: pd.date_range(). We use it to create a new index for our Series:"
      ]
    },
    {
      "cell_type": "code",
      "metadata": {
        "colab": {
          "base_uri": "https://localhost:8080/"
        },
        "id": "HJe5hU4zO58m",
        "outputId": "0320b51a-c66e-4dbb-85a7-e4671dffbda7"
      },
      "source": [
        "time_index = pd.date_range('2017-01-01',periods = len(s),freq = 'D')\n",
        "print(time_index)\n",
        "s.index = time_index\n",
        "print(s)"
      ],
      "execution_count": null,
      "outputs": [
        {
          "name": "stdout",
          "output_type": "stream",
          "text": [
            "DatetimeIndex(['2017-01-01', '2017-01-02', '2017-01-03', '2017-01-04',\n",
            "               '2017-01-05', '2017-01-06'],\n",
            "              dtype='datetime64[ns]', freq='D')\n",
            "2017-01-01    143.73\n",
            "2017-01-02    145.83\n",
            "2017-01-03    143.68\n",
            "2017-01-04    144.02\n",
            "2017-01-05    143.50\n",
            "2017-01-06    142.62\n",
            "Freq: D, Name: Apple Price List, dtype: float64\n"
          ]
        }
      ]
    },
    {
      "cell_type": "code",
      "metadata": {
        "colab": {
          "base_uri": "https://localhost:8080/"
        },
        "id": "k5nVfUmSw_IM",
        "outputId": "0d9a1165-a221-42d8-ded2-b9275ed38bc4"
      },
      "source": [
        "#example\n",
        "time_index = pd.date_range('2021-10-20',periods = len(s),freq = 'D')\n",
        "print(time_index)\n",
        "s.index = time_index\n",
        "print(s)"
      ],
      "execution_count": null,
      "outputs": [
        {
          "name": "stdout",
          "output_type": "stream",
          "text": [
            "DatetimeIndex(['2021-10-20', '2021-10-21', '2021-10-22', '2021-10-23',\n",
            "               '2021-10-24', '2021-10-25', '2021-10-26'],\n",
            "              dtype='datetime64[ns]', freq='D')\n",
            "2021-10-20    16\n",
            "2021-10-21    17\n",
            "2021-10-22    18\n",
            "2021-10-23    21\n",
            "2021-10-24    20\n",
            "2021-10-25    17\n",
            "2021-10-26    26\n",
            "Freq: D, Name: Edad de personas, dtype: int64\n"
          ]
        }
      ]
    },
    {
      "cell_type": "markdown",
      "metadata": {
        "id": "7WedejFZg19J"
      },
      "source": [
        "Series are usually accessed using the iloc[] and loc[] methods. iloc[] is used to access elements by integer index, and loc[] is used to access the index of the series.\n",
        "\n",
        "iloc[] is necessary when the index of a series are integers, take our previous defined series as example:"
      ]
    },
    {
      "cell_type": "code",
      "metadata": {
        "colab": {
          "base_uri": "https://localhost:8080/"
        },
        "id": "KrVSOyMvO58m",
        "outputId": "04f06064-e33c-462d-d2e3-3d1608bd0639"
      },
      "source": [
        "s.index = [6,5,4,3,2,1]\n",
        "print(s)\n",
        "print(s[1])"
      ],
      "execution_count": null,
      "outputs": [
        {
          "name": "stdout",
          "output_type": "stream",
          "text": [
            "6    143.73\n",
            "5    145.83\n",
            "4    143.68\n",
            "3    144.02\n",
            "2    143.50\n",
            "1    142.62\n",
            "Name: Apple Price List, dtype: float64\n",
            "142.62\n"
          ]
        }
      ]
    },
    {
      "cell_type": "code",
      "metadata": {
        "colab": {
          "base_uri": "https://localhost:8080/"
        },
        "id": "ZUapViI6xKr9",
        "outputId": "22c13b48-d80d-469d-82ad-74f610cf53c2"
      },
      "source": [
        "#example\n",
        "s.index = [1,2,3,4,5,6,7]\n",
        "print(s)\n",
        "print(s[6])"
      ],
      "execution_count": null,
      "outputs": [
        {
          "name": "stdout",
          "output_type": "stream",
          "text": [
            "1    16\n",
            "2    17\n",
            "3    18\n",
            "4    21\n",
            "5    20\n",
            "6    17\n",
            "7    26\n",
            "Name: Edad de personas, dtype: int64\n",
            "17\n"
          ]
        }
      ]
    },
    {
      "cell_type": "markdown",
      "metadata": {
        "id": "r30VKPtpg61p"
      },
      "source": [
        "If we intended to take the second element of the series, we would make a mistake here, because the index are integers. In order to access to the element we want, we use iloc[] here:"
      ]
    },
    {
      "cell_type": "code",
      "metadata": {
        "colab": {
          "base_uri": "https://localhost:8080/"
        },
        "id": "bHukfaAmO58m",
        "outputId": "396dfaf9-8303-4461-e8fe-b08503badede"
      },
      "source": [
        "print(s.iloc[1])"
      ],
      "execution_count": null,
      "outputs": [
        {
          "name": "stdout",
          "output_type": "stream",
          "text": [
            "145.83\n"
          ]
        }
      ]
    },
    {
      "cell_type": "code",
      "metadata": {
        "colab": {
          "base_uri": "https://localhost:8080/"
        },
        "id": "eh6k6mYVxWqj",
        "outputId": "2c6a0845-c30f-4bde-e5e1-61192941e3e8"
      },
      "source": [
        "#example\n",
        "print(s.iloc[2])"
      ],
      "execution_count": null,
      "outputs": [
        {
          "name": "stdout",
          "output_type": "stream",
          "text": [
            "18\n"
          ]
        }
      ]
    },
    {
      "cell_type": "markdown",
      "metadata": {
        "id": "kHVBRL_Rg84j"
      },
      "source": [
        "While working with time series data, we often use time as the index. Pandas provides us with various methods to access the data by time index"
      ]
    },
    {
      "cell_type": "code",
      "metadata": {
        "id": "FCf8Hg7jO58n"
      },
      "source": [
        "s.index = time_index\n",
        "print(s['2017-01-03'])"
      ],
      "execution_count": null,
      "outputs": []
    },
    {
      "cell_type": "code",
      "metadata": {
        "colab": {
          "base_uri": "https://localhost:8080/"
        },
        "id": "SxJILgmixihJ",
        "outputId": "f4226861-b494-4b89-ae37-512a133f15ef"
      },
      "source": [
        "#example\n",
        "s.index = time_index\n",
        "print(s['2021-10-20'])"
      ],
      "execution_count": null,
      "outputs": [
        {
          "name": "stdout",
          "output_type": "stream",
          "text": [
            "16\n"
          ]
        }
      ]
    },
    {
      "cell_type": "markdown",
      "metadata": {
        "id": "XJXcrSFpg-To"
      },
      "source": [
        "We can even access to a range of dates:"
      ]
    },
    {
      "cell_type": "code",
      "metadata": {
        "colab": {
          "base_uri": "https://localhost:8080/"
        },
        "id": "NsE-Lr_9O58n",
        "outputId": "216d64bd-3a9e-42b1-f819-d2514b8e0de5"
      },
      "source": [
        "print(s['2017-01-02':'2017-01-05'])"
      ],
      "execution_count": null,
      "outputs": [
        {
          "name": "stdout",
          "output_type": "stream",
          "text": [
            "2017-01-02    145.83\n",
            "2017-01-03    143.68\n",
            "2017-01-04    144.02\n",
            "2017-01-05    143.50\n",
            "Freq: D, Name: Apple Price List, dtype: float64\n"
          ]
        }
      ]
    },
    {
      "cell_type": "code",
      "metadata": {
        "colab": {
          "base_uri": "https://localhost:8080/"
        },
        "id": "T2dF0L_cxzBu",
        "outputId": "6955311c-2a48-499a-e5bb-3406cd0e34b3"
      },
      "source": [
        "#example\n",
        "print(s['2021-10-20':'2021-10-26'])"
      ],
      "execution_count": null,
      "outputs": [
        {
          "name": "stdout",
          "output_type": "stream",
          "text": [
            "2021-10-20    16\n",
            "2021-10-21    17\n",
            "2021-10-22    18\n",
            "2021-10-23    21\n",
            "2021-10-24    20\n",
            "2021-10-25    17\n",
            "2021-10-26    26\n",
            "Freq: D, Name: Edad de personas, dtype: int64\n"
          ]
        }
      ]
    },
    {
      "cell_type": "markdown",
      "metadata": {
        "id": "cWA3NCXEhCLB"
      },
      "source": [
        "Series[] provides us a very flexible way to index data. We can add any condition in the square brackets:"
      ]
    },
    {
      "cell_type": "code",
      "metadata": {
        "colab": {
          "base_uri": "https://localhost:8080/"
        },
        "id": "aawbrg2EO58n",
        "outputId": "eb0e1afc-4839-46b6-aa7b-a8f42d5a69ac"
      },
      "source": [
        "print(s[s < np.mean(s)] )\n",
        "print([(s > np.mean(s)) & (s < np.mean(s) + 1.64*np.std(s))])"
      ],
      "execution_count": null,
      "outputs": [
        {
          "name": "stdout",
          "output_type": "stream",
          "text": [
            "2017-01-01    143.73\n",
            "2017-01-03    143.68\n",
            "2017-01-05    143.50\n",
            "2017-01-06    142.62\n",
            "Name: Apple Price List, dtype: float64\n",
            "[2017-01-01    False\n",
            "2017-01-02    False\n",
            "2017-01-03    False\n",
            "2017-01-04     True\n",
            "2017-01-05    False\n",
            "2017-01-06    False\n",
            "Freq: D, Name: Apple Price List, dtype: bool]\n"
          ]
        }
      ]
    },
    {
      "cell_type": "code",
      "metadata": {
        "colab": {
          "base_uri": "https://localhost:8080/"
        },
        "id": "96_6jY1tyBkf",
        "outputId": "e7e2070a-46f4-4da1-c178-c2610c2bd0e3"
      },
      "source": [
        "#example\n",
        "print(s[s < np.mean(s)] )\n",
        "print([(s > np.mean(s)) & (s < np.mean(s) + 3.1416*np.std(s))])"
      ],
      "execution_count": null,
      "outputs": [
        {
          "name": "stdout",
          "output_type": "stream",
          "text": [
            "2021-10-20    16\n",
            "2021-10-21    17\n",
            "2021-10-22    18\n",
            "2021-10-25    17\n",
            "Name: Edad de personas, dtype: int64\n",
            "[2021-10-20    False\n",
            "2021-10-21    False\n",
            "2021-10-22    False\n",
            "2021-10-23     True\n",
            "2021-10-24     True\n",
            "2021-10-25    False\n",
            "2021-10-26     True\n",
            "Freq: D, Name: Edad de personas, dtype: bool]\n"
          ]
        }
      ]
    },
    {
      "cell_type": "markdown",
      "metadata": {
        "id": "jAByChIwhEuI"
      },
      "source": [
        "As demonstrated, we can use logical operators like & (and), | (or) and ~ (not) to group multiple conditions.\n",
        "\n",
        "# Summary\n",
        "Here we have introduced NumPy and Pandas for scientific computing in Python. In the next chapter, we will dive into Pandas to learn resampling and manipulating Pandas DataFrame, which are commonly used in financial data analysis."
      ]
    },
    {
      "cell_type": "markdown",
      "metadata": {
        "id": "OtjOpw6oJp6z"
      },
      "source": [
        "# **TUTORIAL 5**\n",
        "\n",
        "# 05 Pandas-Resampling and DataFrame\n",
        "\n",
        "# Introduction\n",
        "In the last chapter we had a glimpse of Pandas. In this chapter we will learn about resampling methods and the DataFrame object, which is a powerful tool for financial data analysis.\n",
        "\n",
        "# Fetching Data\n",
        "Here we use the Yahoo Finance to retrieve data.\n"
      ]
    },
    {
      "cell_type": "code",
      "metadata": {
        "colab": {
          "base_uri": "https://localhost:8080/"
        },
        "id": "luU8mZTsHW9x",
        "outputId": "c54c5eef-4573-4d21-81e4-b80fbc86f7a4"
      },
      "source": [
        "!pip install yfinance"
      ],
      "execution_count": 1,
      "outputs": [
        {
          "output_type": "stream",
          "name": "stdout",
          "text": [
            "Collecting yfinance\n",
            "  Downloading yfinance-0.1.64.tar.gz (26 kB)\n",
            "Requirement already satisfied: pandas>=0.24 in /usr/local/lib/python3.7/dist-packages (from yfinance) (1.1.5)\n",
            "Requirement already satisfied: numpy>=1.15 in /usr/local/lib/python3.7/dist-packages (from yfinance) (1.19.5)\n",
            "Requirement already satisfied: requests>=2.20 in /usr/local/lib/python3.7/dist-packages (from yfinance) (2.23.0)\n",
            "Requirement already satisfied: multitasking>=0.0.7 in /usr/local/lib/python3.7/dist-packages (from yfinance) (0.0.9)\n",
            "Collecting lxml>=4.5.1\n",
            "  Downloading lxml-4.6.3-cp37-cp37m-manylinux2014_x86_64.whl (6.3 MB)\n",
            "\u001b[K     |████████████████████████████████| 6.3 MB 7.5 MB/s \n",
            "\u001b[?25hRequirement already satisfied: python-dateutil>=2.7.3 in /usr/local/lib/python3.7/dist-packages (from pandas>=0.24->yfinance) (2.8.2)\n",
            "Requirement already satisfied: pytz>=2017.2 in /usr/local/lib/python3.7/dist-packages (from pandas>=0.24->yfinance) (2018.9)\n",
            "Requirement already satisfied: six>=1.5 in /usr/local/lib/python3.7/dist-packages (from python-dateutil>=2.7.3->pandas>=0.24->yfinance) (1.15.0)\n",
            "Requirement already satisfied: chardet<4,>=3.0.2 in /usr/local/lib/python3.7/dist-packages (from requests>=2.20->yfinance) (3.0.4)\n",
            "Requirement already satisfied: idna<3,>=2.5 in /usr/local/lib/python3.7/dist-packages (from requests>=2.20->yfinance) (2.10)\n",
            "Requirement already satisfied: certifi>=2017.4.17 in /usr/local/lib/python3.7/dist-packages (from requests>=2.20->yfinance) (2021.5.30)\n",
            "Requirement already satisfied: urllib3!=1.25.0,!=1.25.1,<1.26,>=1.21.1 in /usr/local/lib/python3.7/dist-packages (from requests>=2.20->yfinance) (1.24.3)\n",
            "Building wheels for collected packages: yfinance\n",
            "  Building wheel for yfinance (setup.py) ... \u001b[?25l\u001b[?25hdone\n",
            "  Created wheel for yfinance: filename=yfinance-0.1.64-py2.py3-none-any.whl size=24109 sha256=65716e3beb059b5b3863fb187674c226d128df2570657d1f3b62c7a85876a8f2\n",
            "  Stored in directory: /root/.cache/pip/wheels/86/fe/9b/a4d3d78796b699e37065e5b6c27b75cff448ddb8b24943c288\n",
            "Successfully built yfinance\n",
            "Installing collected packages: lxml, yfinance\n",
            "  Attempting uninstall: lxml\n",
            "    Found existing installation: lxml 4.2.6\n",
            "    Uninstalling lxml-4.2.6:\n",
            "      Successfully uninstalled lxml-4.2.6\n",
            "Successfully installed lxml-4.6.3 yfinance-0.1.64\n"
          ]
        }
      ]
    },
    {
      "cell_type": "code",
      "metadata": {
        "colab": {
          "base_uri": "https://localhost:8080/",
          "height": 487
        },
        "id": "mWZ-nirTZHrE",
        "outputId": "7c41dcfc-73cb-4a29-8436-a936eb446979"
      },
      "source": [
        "import yfinance as yf\n",
        "\n",
        "aapl = yf.Ticker(\"AAPL\")\n",
        "\n",
        "# get stock info\n",
        "print(aapl.info)\n",
        "\n",
        "# get historical market data\n",
        "aapl_table = aapl.history(start=\"2016-01-01\",  end=\"2017-12-31\")\n",
        "aapl_table"
      ],
      "execution_count": 3,
      "outputs": [
        {
          "output_type": "stream",
          "name": "stdout",
          "text": [
            "{'zip': '95014', 'sector': 'Technology', 'fullTimeEmployees': 147000, 'longBusinessSummary': 'Apple Inc. designs, manufactures, and markets smartphones, personal computers, tablets, wearables, and accessories worldwide. It also sells various related services. The company offers iPhone, a line of smartphones; Mac, a line of personal computers; iPad, a line of multi-purpose tablets; and wearables, home, and accessories comprising AirPods, Apple TV, Apple Watch, Beats products, HomePod, iPod touch, and other Apple-branded and third-party accessories. It also provides AppleCare support services; cloud services store services; and operates various platforms, including the App Store, that allow customers to discover and download applications and digital content, such as books, music, video, games, and podcasts. In addition, the company offers various services, such as Apple Arcade, a game subscription service; Apple Music, which offers users a curated listening experience with on-demand radio stations; Apple News+, a subscription news and magazine service; Apple TV+, which offers exclusive original content; Apple Card, a co-branded credit card; and Apple Pay, a cashless payment service, as well as licenses its intellectual property. The company serves consumers, and small and mid-sized businesses; and the education, enterprise, and government markets. It sells and delivers third-party applications for its products through the App Store. The company also sells its products through its retail and online stores, and direct sales force; and third-party cellular network carriers, wholesalers, retailers, and resellers. Apple Inc. was founded in 1977 and is headquartered in Cupertino, California.', 'city': 'Cupertino', 'phone': '408-996-1010', 'state': 'CA', 'country': 'United States', 'companyOfficers': [], 'website': 'http://www.apple.com', 'maxAge': 1, 'address1': 'One Apple Park Way', 'industry': 'Consumer Electronics', 'ebitdaMargins': 0.31955, 'profitMargins': 0.25004, 'grossMargins': 0.41005, 'operatingCashflow': 104414003200, 'revenueGrowth': 0.364, 'operatingMargins': 0.28788, 'ebitda': 110934999040, 'targetLowPrice': 132, 'recommendationKey': 'buy', 'grossProfits': 104956000000, 'freeCashflow': 80625876992, 'targetMedianPrice': 170, 'currentPrice': 149.26, 'earningsGrowth': 1, 'currentRatio': 1.062, 'returnOnAssets': 0.19302, 'numberOfAnalystOpinions': 41, 'targetMeanPrice': 168.35, 'debtToEquity': 210.782, 'returnOnEquity': 1.27125, 'targetHighPrice': 190, 'totalCash': 61696000000, 'totalDebt': 135491002368, 'totalRevenue': 347155005440, 'totalCashPerShare': 3.732, 'financialCurrency': 'USD', 'revenuePerShare': 20.61, 'quickRatio': 0.887, 'recommendationMean': 1.9, 'exchange': 'NMS', 'shortName': 'Apple Inc.', 'longName': 'Apple Inc.', 'exchangeTimezoneName': 'America/New_York', 'exchangeTimezoneShortName': 'EDT', 'isEsgPopulated': False, 'gmtOffSetMilliseconds': '-14400000', 'quoteType': 'EQUITY', 'symbol': 'AAPL', 'messageBoardId': 'finmb_24937', 'market': 'us_market', 'annualHoldingsTurnover': None, 'enterpriseToRevenue': 7.296, 'beta3Year': None, 'enterpriseToEbitda': 22.832, '52WeekChange': 0.28518355, 'morningStarRiskRating': None, 'forwardEps': 5.67, 'revenueQuarterlyGrowth': None, 'sharesOutstanding': 16530199552, 'fundInceptionDate': None, 'annualReportExpenseRatio': None, 'totalAssets': None, 'bookValue': 3.882, 'sharesShort': 101107412, 'sharesPercentSharesOut': 0.0061000003, 'fundFamily': None, 'lastFiscalYearEnd': 1601078400, 'heldPercentInstitutions': 0.58676, 'netIncomeToCommon': 86801997824, 'trailingEps': 5.108, 'lastDividendValue': 0.22, 'SandP52WeekChange': 0.3087138, 'priceToBook': 38.449253, 'heldPercentInsiders': 0.00072999997, 'nextFiscalYearEnd': 1664150400, 'yield': None, 'mostRecentQuarter': 1624665600, 'shortRatio': 1.18, 'sharesShortPreviousMonthDate': 1630368000, 'floatShares': 16512974627, 'beta': 1.222222, 'enterpriseValue': 2532822482944, 'priceHint': 2, 'threeYearAverageReturn': None, 'lastSplitDate': 1598832000, 'lastSplitFactor': '4:1', 'legalType': None, 'lastDividendDate': 1628208000, 'morningStarOverallRating': None, 'earningsQuarterlyGrowth': 0.932, 'priceToSalesTrailing12Months': 7.1071925, 'dateShortInterest': 1632960000, 'pegRatio': 1.38, 'ytdReturn': None, 'forwardPE': 26.324514, 'lastCapGain': None, 'shortPercentOfFloat': 0.0061000003, 'sharesShortPriorMonth': 96838699, 'impliedSharesOutstanding': None, 'category': None, 'fiveYearAverageReturn': None, 'previousClose': 148.76, 'regularMarketOpen': 148.7, 'twoHundredDayAverage': 139.00964, 'trailingAnnualDividendYield': 0.005613068, 'payoutRatio': 0.16309999, 'volume24Hr': None, 'regularMarketDayHigh': 149.7522, 'navPrice': None, 'averageDailyVolume10Day': 73715885, 'regularMarketPreviousClose': 148.76, 'fiftyDayAverage': 146.31352, 'trailingAnnualDividendRate': 0.835, 'open': 148.7, 'toCurrency': None, 'averageVolume10days': 73715885, 'expireDate': None, 'algorithm': None, 'dividendRate': 0.88, 'exDividendDate': 1628208000, 'circulatingSupply': None, 'startDate': None, 'regularMarketDayLow': 148.12, 'currency': 'USD', 'trailingPE': 29.22083, 'regularMarketVolume': 58418788, 'lastMarket': None, 'maxSupply': None, 'openInterest': None, 'marketCap': 2467297492992, 'volumeAllCurrencies': None, 'strikePrice': None, 'averageVolume': 76543137, 'dayLow': 148.12, 'ask': 148.95, 'askSize': 2200, 'volume': 58418788, 'fiftyTwoWeekHigh': 157.26, 'fromCurrency': None, 'fiveYearAvgDividendYield': 1.24, 'fiftyTwoWeekLow': 107.32, 'bid': 148.85, 'tradeable': False, 'dividendYield': 0.0058999998, 'bidSize': 900, 'dayHigh': 149.7522, 'regularMarketPrice': 149.26, 'preMarketPrice': 148.7, 'logo_url': 'https://logo.clearbit.com/apple.com'}\n"
          ]
        },
        {
          "output_type": "execute_result",
          "data": {
            "text/html": [
              "<div>\n",
              "<style scoped>\n",
              "    .dataframe tbody tr th:only-of-type {\n",
              "        vertical-align: middle;\n",
              "    }\n",
              "\n",
              "    .dataframe tbody tr th {\n",
              "        vertical-align: top;\n",
              "    }\n",
              "\n",
              "    .dataframe thead th {\n",
              "        text-align: right;\n",
              "    }\n",
              "</style>\n",
              "<table border=\"1\" class=\"dataframe\">\n",
              "  <thead>\n",
              "    <tr style=\"text-align: right;\">\n",
              "      <th></th>\n",
              "      <th>Open</th>\n",
              "      <th>High</th>\n",
              "      <th>Low</th>\n",
              "      <th>Close</th>\n",
              "      <th>Volume</th>\n",
              "      <th>Dividends</th>\n",
              "      <th>Stock Splits</th>\n",
              "    </tr>\n",
              "    <tr>\n",
              "      <th>Date</th>\n",
              "      <th></th>\n",
              "      <th></th>\n",
              "      <th></th>\n",
              "      <th></th>\n",
              "      <th></th>\n",
              "      <th></th>\n",
              "      <th></th>\n",
              "    </tr>\n",
              "  </thead>\n",
              "  <tbody>\n",
              "    <tr>\n",
              "      <th>2016-01-04</th>\n",
              "      <td>23.655166</td>\n",
              "      <td>24.291443</td>\n",
              "      <td>23.514540</td>\n",
              "      <td>24.286831</td>\n",
              "      <td>270597600</td>\n",
              "      <td>0.0</td>\n",
              "      <td>0</td>\n",
              "    </tr>\n",
              "    <tr>\n",
              "      <th>2016-01-05</th>\n",
              "      <td>24.379041</td>\n",
              "      <td>24.402094</td>\n",
              "      <td>23.609056</td>\n",
              "      <td>23.678215</td>\n",
              "      <td>223164000</td>\n",
              "      <td>0.0</td>\n",
              "      <td>0</td>\n",
              "    </tr>\n",
              "    <tr>\n",
              "      <th>2016-01-06</th>\n",
              "      <td>23.182565</td>\n",
              "      <td>23.599834</td>\n",
              "      <td>23.023498</td>\n",
              "      <td>23.214840</td>\n",
              "      <td>273829600</td>\n",
              "      <td>0.0</td>\n",
              "      <td>0</td>\n",
              "    </tr>\n",
              "    <tr>\n",
              "      <th>2016-01-07</th>\n",
              "      <td>22.749166</td>\n",
              "      <td>23.083441</td>\n",
              "      <td>22.230463</td>\n",
              "      <td>22.235073</td>\n",
              "      <td>324377600</td>\n",
              "      <td>0.0</td>\n",
              "      <td>0</td>\n",
              "    </tr>\n",
              "    <tr>\n",
              "      <th>2016-01-08</th>\n",
              "      <td>22.719191</td>\n",
              "      <td>22.848290</td>\n",
              "      <td>22.306534</td>\n",
              "      <td>22.352640</td>\n",
              "      <td>283192000</td>\n",
              "      <td>0.0</td>\n",
              "      <td>0</td>\n",
              "    </tr>\n",
              "    <tr>\n",
              "      <th>...</th>\n",
              "      <td>...</td>\n",
              "      <td>...</td>\n",
              "      <td>...</td>\n",
              "      <td>...</td>\n",
              "      <td>...</td>\n",
              "      <td>...</td>\n",
              "      <td>...</td>\n",
              "    </tr>\n",
              "    <tr>\n",
              "      <th>2017-12-22</th>\n",
              "      <td>41.827749</td>\n",
              "      <td>42.004946</td>\n",
              "      <td>41.784649</td>\n",
              "      <td>41.906769</td>\n",
              "      <td>65397600</td>\n",
              "      <td>0.0</td>\n",
              "      <td>0</td>\n",
              "    </tr>\n",
              "    <tr>\n",
              "      <th>2017-12-26</th>\n",
              "      <td>40.898678</td>\n",
              "      <td>41.059112</td>\n",
              "      <td>40.630488</td>\n",
              "      <td>40.843605</td>\n",
              "      <td>132742000</td>\n",
              "      <td>0.0</td>\n",
              "      <td>0</td>\n",
              "    </tr>\n",
              "    <tr>\n",
              "      <th>2017-12-27</th>\n",
              "      <td>40.731058</td>\n",
              "      <td>40.893884</td>\n",
              "      <td>40.637671</td>\n",
              "      <td>40.850784</td>\n",
              "      <td>85992800</td>\n",
              "      <td>0.0</td>\n",
              "      <td>0</td>\n",
              "    </tr>\n",
              "    <tr>\n",
              "      <th>2017-12-28</th>\n",
              "      <td>40.946564</td>\n",
              "      <td>41.150101</td>\n",
              "      <td>40.822048</td>\n",
              "      <td>40.965721</td>\n",
              "      <td>65920800</td>\n",
              "      <td>0.0</td>\n",
              "      <td>0</td>\n",
              "    </tr>\n",
              "    <tr>\n",
              "      <th>2017-12-29</th>\n",
              "      <td>40.831629</td>\n",
              "      <td>40.848389</td>\n",
              "      <td>40.520339</td>\n",
              "      <td>40.522732</td>\n",
              "      <td>103999600</td>\n",
              "      <td>0.0</td>\n",
              "      <td>0</td>\n",
              "    </tr>\n",
              "  </tbody>\n",
              "</table>\n",
              "<p>503 rows × 7 columns</p>\n",
              "</div>"
            ],
            "text/plain": [
              "                 Open       High        Low  ...     Volume  Dividends  Stock Splits\n",
              "Date                                         ...                                    \n",
              "2016-01-04  23.655166  24.291443  23.514540  ...  270597600        0.0             0\n",
              "2016-01-05  24.379041  24.402094  23.609056  ...  223164000        0.0             0\n",
              "2016-01-06  23.182565  23.599834  23.023498  ...  273829600        0.0             0\n",
              "2016-01-07  22.749166  23.083441  22.230463  ...  324377600        0.0             0\n",
              "2016-01-08  22.719191  22.848290  22.306534  ...  283192000        0.0             0\n",
              "...               ...        ...        ...  ...        ...        ...           ...\n",
              "2017-12-22  41.827749  42.004946  41.784649  ...   65397600        0.0             0\n",
              "2017-12-26  40.898678  41.059112  40.630488  ...  132742000        0.0             0\n",
              "2017-12-27  40.731058  40.893884  40.637671  ...   85992800        0.0             0\n",
              "2017-12-28  40.946564  41.150101  40.822048  ...   65920800        0.0             0\n",
              "2017-12-29  40.831629  40.848389  40.520339  ...  103999600        0.0             0\n",
              "\n",
              "[503 rows x 7 columns]"
            ]
          },
          "metadata": {},
          "execution_count": 3
        }
      ]
    },
    {
      "cell_type": "markdown",
      "metadata": {
        "id": "NkFztSYhJyVA"
      },
      "source": [
        "We will create a Series named \"aapl\" whose values are Apple's daily closing prices, which are of course indexed by dates:"
      ]
    },
    {
      "cell_type": "code",
      "metadata": {
        "id": "QDJbOpCeHW91"
      },
      "source": [
        "aapl = aapl_table['Close']['2017']"
      ],
      "execution_count": 4,
      "outputs": []
    },
    {
      "cell_type": "code",
      "metadata": {
        "colab": {
          "base_uri": "https://localhost:8080/"
        },
        "id": "SXfgCQJOHW91",
        "outputId": "5dc2e117-14d7-4f38-daf3-b35fb6c5ff99"
      },
      "source": [
        "print(aapl)"
      ],
      "execution_count": 5,
      "outputs": [
        {
          "output_type": "stream",
          "name": "stdout",
          "text": [
            "Date\n",
            "2017-01-03    27.372358\n",
            "2017-01-04    27.341724\n",
            "2017-01-05    27.480768\n",
            "2017-01-06    27.787132\n",
            "2017-01-09    28.041645\n",
            "                ...    \n",
            "2017-12-22    41.906769\n",
            "2017-12-26    40.843605\n",
            "2017-12-27    40.850784\n",
            "2017-12-28    40.965721\n",
            "2017-12-29    40.522732\n",
            "Name: Close, Length: 251, dtype: float64\n"
          ]
        }
      ]
    },
    {
      "cell_type": "markdown",
      "metadata": {
        "id": "waUEgBhzKEcA"
      },
      "source": [
        "Recall that we can fetch a specific data point using series['yyyy-mm-dd']. We can also fetch the data in a specific month using series['yyyy-mm']."
      ]
    },
    {
      "cell_type": "code",
      "metadata": {
        "colab": {
          "base_uri": "https://localhost:8080/"
        },
        "id": "2gS50G0zHW92",
        "outputId": "fb537fc1-2400-4c7d-bd6f-ddc0a88e59b5"
      },
      "source": [
        "print(aapl['2017-3'])"
      ],
      "execution_count": 6,
      "outputs": [
        {
          "output_type": "stream",
          "name": "stdout",
          "text": [
            "Date\n",
            "2017-03-01    33.086285\n",
            "2017-03-02    32.889839\n",
            "2017-03-03    33.083916\n",
            "2017-03-06    32.979786\n",
            "2017-03-07    33.022381\n",
            "2017-03-08    32.899300\n",
            "2017-03-09    32.823559\n",
            "2017-03-10    32.932434\n",
            "2017-03-13    32.946640\n",
            "2017-03-14    32.896927\n",
            "2017-03-15    33.244865\n",
            "2017-03-16    33.299294\n",
            "2017-03-17    33.133629\n",
            "2017-03-20    33.481556\n",
            "2017-03-21    33.098114\n",
            "2017-03-22    33.472080\n",
            "2017-03-23    33.353745\n",
            "2017-03-24    33.287472\n",
            "2017-03-27    33.344273\n",
            "2017-03-28    34.035400\n",
            "2017-03-29    34.111137\n",
            "2017-03-30    34.066166\n",
            "2017-03-31    34.002254\n",
            "Name: Close, dtype: float64\n"
          ]
        }
      ]
    },
    {
      "cell_type": "code",
      "metadata": {
        "colab": {
          "base_uri": "https://localhost:8080/"
        },
        "id": "8STa4ntzrHH1",
        "outputId": "3cc4a3d0-ef69-4b23-da0c-2c42536ad4aa"
      },
      "source": [
        "#example\n",
        "print(aapl['2017-6'])"
      ],
      "execution_count": 7,
      "outputs": [
        {
          "output_type": "stream",
          "name": "stdout",
          "text": [
            "Date\n",
            "2017-06-01    36.405159\n",
            "2017-06-02    36.944653\n",
            "2017-06-05    36.583405\n",
            "2017-06-06    36.706985\n",
            "2017-06-07    36.925632\n",
            "2017-06-08    36.835327\n",
            "2017-06-09    35.406967\n",
            "2017-06-12    34.560886\n",
            "2017-06-13    34.838955\n",
            "2017-06-14    34.499096\n",
            "2017-06-15    34.292336\n",
            "2017-06-16    33.812260\n",
            "2017-06-19    34.779541\n",
            "2017-06-20    34.463451\n",
            "2017-06-21    34.667835\n",
            "2017-06-22    34.610802\n",
            "2017-06-23    34.765285\n",
            "2017-06-26    34.655956\n",
            "2017-06-27    34.159237\n",
            "2017-06-28    34.658340\n",
            "2017-06-29    34.147358\n",
            "2017-06-30    34.228161\n",
            "Name: Close, dtype: float64\n"
          ]
        }
      ]
    },
    {
      "cell_type": "code",
      "metadata": {
        "colab": {
          "base_uri": "https://localhost:8080/"
        },
        "id": "vpvxGwXtHW92",
        "outputId": "8f3d084f-eab0-48ff-fdb3-d22a55e809e2"
      },
      "source": [
        "aapl['2017-2':'2017-4']"
      ],
      "execution_count": 8,
      "outputs": [
        {
          "output_type": "execute_result",
          "data": {
            "text/plain": [
              "Date\n",
              "2017-02-01    30.341726\n",
              "2017-02-02    30.289877\n",
              "2017-02-03    30.419493\n",
              "2017-02-06    30.704647\n",
              "2017-02-07    30.996870\n",
              "                ...    \n",
              "2017-04-24    33.997520\n",
              "2017-04-25    34.208176\n",
              "2017-04-26    34.006992\n",
              "2017-04-27    34.033031\n",
              "2017-04-28    33.999889\n",
              "Name: Close, Length: 61, dtype: float64"
            ]
          },
          "metadata": {},
          "execution_count": 8
        }
      ]
    },
    {
      "cell_type": "code",
      "metadata": {
        "colab": {
          "base_uri": "https://localhost:8080/"
        },
        "id": "YDMEKIjerRBe",
        "outputId": "8c5429af-1daa-479b-b714-ad51c953b3b4"
      },
      "source": [
        "#example\n",
        "aapl['2017-3':'2017-8']"
      ],
      "execution_count": 9,
      "outputs": [
        {
          "output_type": "execute_result",
          "data": {
            "text/plain": [
              "Date\n",
              "2017-03-01    33.086285\n",
              "2017-03-02    32.889839\n",
              "2017-03-03    33.083916\n",
              "2017-03-06    32.979786\n",
              "2017-03-07    33.022381\n",
              "                ...    \n",
              "2017-08-25    38.141941\n",
              "2017-08-28    38.526077\n",
              "2017-08-29    38.869656\n",
              "2017-08-30    38.974644\n",
              "2017-08-31    39.129726\n",
              "Name: Close, Length: 129, dtype: float64"
            ]
          },
          "metadata": {},
          "execution_count": 9
        }
      ]
    },
    {
      "cell_type": "markdown",
      "metadata": {
        "id": "lWwoD39pKNKb"
      },
      "source": [
        ".head(N) and .tail(N) are methods for quickly accessing the first or last N elements."
      ]
    },
    {
      "cell_type": "code",
      "metadata": {
        "colab": {
          "base_uri": "https://localhost:8080/"
        },
        "id": "1eU218ALHW93",
        "outputId": "3571da05-223b-4187-a37a-e18bccb77c5c"
      },
      "source": [
        "print(aapl.head(5))\n",
        "print(aapl.tail(10))"
      ],
      "execution_count": null,
      "outputs": [
        {
          "name": "stdout",
          "output_type": "stream",
          "text": [
            "Date\n",
            "2017-01-03    27.372358\n",
            "2017-01-04    27.341724\n",
            "2017-01-05    27.480768\n",
            "2017-01-06    27.787128\n",
            "2017-01-09    28.041649\n",
            "Name: Close, dtype: float64\n",
            "Date\n",
            "2017-12-15    41.657734\n",
            "2017-12-18    42.244408\n",
            "2017-12-19    41.794231\n",
            "2017-12-20    41.748730\n",
            "2017-12-21    41.906776\n",
            "2017-12-22    41.906776\n",
            "2017-12-26    40.843605\n",
            "2017-12-27    40.850784\n",
            "2017-12-28    40.965721\n",
            "2017-12-29    40.522728\n",
            "Name: Close, dtype: float64\n"
          ]
        }
      ]
    },
    {
      "cell_type": "code",
      "metadata": {
        "colab": {
          "base_uri": "https://localhost:8080/"
        },
        "id": "EVA5m4E6rWnF",
        "outputId": "7cd277b1-bafb-4058-fe06-523bc49d8ef2"
      },
      "source": [
        "#example\n",
        "print(aapl.head(3))\n",
        "print(aapl.tail(8))"
      ],
      "execution_count": 10,
      "outputs": [
        {
          "output_type": "stream",
          "name": "stdout",
          "text": [
            "Date\n",
            "2017-01-03    27.372358\n",
            "2017-01-04    27.341724\n",
            "2017-01-05    27.480768\n",
            "Name: Close, dtype: float64\n",
            "Date\n",
            "2017-12-19    41.794231\n",
            "2017-12-20    41.748741\n",
            "2017-12-21    41.906769\n",
            "2017-12-22    41.906769\n",
            "2017-12-26    40.843605\n",
            "2017-12-27    40.850784\n",
            "2017-12-28    40.965721\n",
            "2017-12-29    40.522732\n",
            "Name: Close, dtype: float64\n"
          ]
        }
      ]
    },
    {
      "cell_type": "markdown",
      "metadata": {
        "id": "IxhKxtj-KQ66"
      },
      "source": [
        "# Resampling\n",
        "**_series.resample(freq)_** is a class called \"DatetimeIndexResampler\" which groups data in a Series object into regular time intervals. The argument \"freq\" determines the length of each interval.\n",
        "\n",
        "**_series.resample.mean()_** is a complete statement that groups data into intervals, and then compute the mean of each interval. For example, if we want to aggregate the daily data into monthly data by mean:"
      ]
    },
    {
      "cell_type": "code",
      "metadata": {
        "colab": {
          "base_uri": "https://localhost:8080/"
        },
        "id": "rAV8NkHkHW93",
        "outputId": "020bec6d-21b1-4597-bcf9-9ab96cb25894"
      },
      "source": [
        "by_month = aapl.resample('M').mean()\n",
        "print(by_month)"
      ],
      "execution_count": 12,
      "outputs": [
        {
          "output_type": "stream",
          "name": "stdout",
          "text": [
            "Date\n",
            "2017-01-31    28.178331\n",
            "2017-02-28    31.606277\n",
            "2017-03-31    33.282220\n",
            "2017-04-30    33.819262\n",
            "2017-05-31    36.125684\n",
            "2017-06-30    35.133983\n",
            "2017-07-31    35.245242\n",
            "2017-08-31    37.897229\n",
            "2017-09-30    37.604737\n",
            "2017-10-31    37.654551\n",
            "2017-11-30    41.233914\n",
            "2017-12-31    41.160036\n",
            "Freq: M, Name: Close, dtype: float64\n"
          ]
        }
      ]
    },
    {
      "cell_type": "code",
      "metadata": {
        "colab": {
          "base_uri": "https://localhost:8080/"
        },
        "id": "d8mfnAnxrmyn",
        "outputId": "49049fae-b16c-4599-965f-ca06b3adba55"
      },
      "source": [
        "#example\n",
        "by_month = aapl.resample('M').mean()\n",
        "print(by_month.tail())"
      ],
      "execution_count": 14,
      "outputs": [
        {
          "output_type": "stream",
          "name": "stdout",
          "text": [
            "Date\n",
            "2017-08-31    37.897229\n",
            "2017-09-30    37.604737\n",
            "2017-10-31    37.654551\n",
            "2017-11-30    41.233914\n",
            "2017-12-31    41.160036\n",
            "Freq: M, Name: Close, dtype: float64\n"
          ]
        }
      ]
    },
    {
      "cell_type": "markdown",
      "metadata": {
        "id": "QDPfVzBEKV6Q"
      },
      "source": [
        "We can also aggregate the data by week:"
      ]
    },
    {
      "cell_type": "code",
      "metadata": {
        "colab": {
          "base_uri": "https://localhost:8080/"
        },
        "id": "aAP3tKkBHW94",
        "outputId": "6510968e-c94b-4bd5-b31a-2441fb8814a0"
      },
      "source": [
        "by_week = aapl.resample('W').mean()\n",
        "print(by_week.head())"
      ],
      "execution_count": null,
      "outputs": [
        {
          "name": "stdout",
          "output_type": "stream",
          "text": [
            "Date\n",
            "2017-01-08    27.495495\n",
            "2017-01-15    28.097736\n",
            "2017-01-22    28.266116\n",
            "2017-01-29    28.553981\n",
            "2017-02-05    29.662543\n",
            "Freq: W-SUN, Name: Close, dtype: float64\n"
          ]
        }
      ]
    },
    {
      "cell_type": "code",
      "metadata": {
        "colab": {
          "base_uri": "https://localhost:8080/"
        },
        "id": "xQvBQeYQruXf",
        "outputId": "b25dd7dd-f887-4f4a-903a-49f6b204521e"
      },
      "source": [
        "#example\n",
        "by_week = aapl.resample('W').mean()\n",
        "print(by_week)"
      ],
      "execution_count": 15,
      "outputs": [
        {
          "output_type": "stream",
          "name": "stdout",
          "text": [
            "Date\n",
            "2017-01-08    27.495496\n",
            "2017-01-15    28.097735\n",
            "2017-01-22    28.266115\n",
            "2017-01-29    28.553979\n",
            "2017-02-05    29.662541\n",
            "2017-02-12    31.086281\n",
            "2017-02-19    31.947355\n",
            "2017-02-26    32.366763\n",
            "2017-03-05    32.778593\n",
            "2017-03-12    32.931492\n",
            "2017-03-19    33.104271\n",
            "2017-03-26    33.338593\n",
            "2017-04-02    33.911846\n",
            "2017-04-09    34.058586\n",
            "2017-04-16    33.588650\n",
            "2017-04-23    33.534568\n",
            "2017-04-30    34.049122\n",
            "2017-05-07    34.870419\n",
            "2017-05-14    36.524843\n",
            "2017-05-21    36.458391\n",
            "2017-05-28    36.533967\n",
            "2017-06-04    36.544188\n",
            "2017-06-11    36.491663\n",
            "2017-06-18    34.400706\n",
            "2017-06-25    34.657383\n",
            "2017-07-02    34.369810\n",
            "2017-07-09    34.134289\n",
            "2017-07-16    34.847991\n",
            "2017-07-23    35.709753\n",
            "2017-07-30    36.046281\n",
            "2017-08-06    36.499269\n",
            "2017-08-13    37.739791\n",
            "2017-08-20    38.068449\n",
            "2017-08-27    37.989234\n",
            "2017-09-03    38.928351\n",
            "2017-09-10    38.406775\n",
            "2017-09-17    38.183452\n",
            "2017-09-24    37.161304\n",
            "2017-10-01    36.520441\n",
            "2017-10-08    36.861152\n",
            "2017-10-15    37.282036\n",
            "2017-10-22    37.809812\n",
            "2017-10-29    37.704832\n",
            "2017-11-05    40.239671\n",
            "2017-11-12    41.824803\n",
            "2017-11-19    40.977215\n",
            "2017-11-26    41.488325\n",
            "2017-12-03    41.163988\n",
            "2017-12-10    40.570143\n",
            "2017-12-17    41.321546\n",
            "2017-12-24    41.920181\n",
            "2017-12-31    40.795711\n",
            "Freq: W-SUN, Name: Close, dtype: float64\n"
          ]
        }
      ]
    },
    {
      "cell_type": "markdown",
      "metadata": {
        "id": "o_MXSVsILoBS"
      },
      "source": [
        "We can also aggregate the data by month with max:"
      ]
    },
    {
      "cell_type": "code",
      "metadata": {
        "colab": {
          "base_uri": "https://localhost:8080/"
        },
        "id": "gn0wqXBTHW95",
        "outputId": "79cad8dd-67cf-4838-cd5d-3ff062583c4a"
      },
      "source": [
        "aapl.resample('M').max()"
      ],
      "execution_count": null,
      "outputs": [
        {
          "data": {
            "text/plain": [
              "Date\n",
              "2017-01-31    28.739210\n",
              "2017-02-28    32.451962\n",
              "2017-03-31    34.111137\n",
              "2017-04-30    34.264984\n",
              "2017-05-31    37.099129\n",
              "2017-06-30    36.944641\n",
              "2017-07-31    36.471695\n",
              "2017-08-31    39.129723\n",
              "2017-09-30    39.141659\n",
              "2017-10-31    40.332245\n",
              "2017-11-30    42.050140\n",
              "2017-12-31    42.244408\n",
              "Freq: M, Name: Close, dtype: float64"
            ]
          },
          "execution_count": 10,
          "metadata": {},
          "output_type": "execute_result"
        }
      ]
    },
    {
      "cell_type": "code",
      "metadata": {
        "colab": {
          "base_uri": "https://localhost:8080/"
        },
        "id": "uLT0iJd1r-qP",
        "outputId": "e9502d8c-0337-4bc4-b4be-8fe9baef6e20"
      },
      "source": [
        "#example\n",
        "aapl.resample('W').max()"
      ],
      "execution_count": 16,
      "outputs": [
        {
          "output_type": "execute_result",
          "data": {
            "text/plain": [
              "Date\n",
              "2017-01-08    27.787132\n",
              "2017-01-15    28.220753\n",
              "2017-01-22    28.279663\n",
              "2017-01-29    28.739208\n",
              "2017-02-05    30.419493\n",
              "2017-02-12    31.341917\n",
              "2017-02-19    32.122974\n",
              "2017-02-26    32.451973\n",
              "2017-03-05    33.086285\n",
              "2017-03-12    33.022381\n",
              "2017-03-19    33.299294\n",
              "2017-03-26    33.481556\n",
              "2017-04-02    34.111137\n",
              "2017-04-09    34.264977\n",
              "2017-04-16    33.886280\n",
              "2017-04-23    33.713501\n",
              "2017-04-30    34.208176\n",
              "2017-05-07    35.256695\n",
              "2017-05-14    37.099129\n",
              "2017-05-21    37.004063\n",
              "2017-05-28    36.597664\n",
              "2017-06-04    36.944653\n",
              "2017-06-11    36.925632\n",
              "2017-06-18    34.838955\n",
              "2017-06-25    34.779541\n",
              "2017-07-02    34.658340\n",
              "2017-07-09    34.266186\n",
              "2017-07-16    35.421230\n",
              "2017-07-23    35.891804\n",
              "2017-07-30    36.471699\n",
              "2017-08-06    37.346302\n",
              "2017-08-13    38.277931\n",
              "2017-08-20    38.557095\n",
              "2017-08-27    38.170563\n",
              "2017-09-03    39.141651\n",
              "2017-09-10    38.671612\n",
              "2017-09-17    38.533230\n",
              "2017-09-24    37.872322\n",
              "2017-10-01    36.798637\n",
              "2017-10-08    37.075413\n",
              "2017-10-15    37.457161\n",
              "2017-10-22    38.287479\n",
              "2017-10-29    38.903065\n",
              "2017-11-05    41.157784\n",
              "2017-11-12    42.050144\n",
              "2017-11-19    41.657742\n",
              "2017-11-26    41.897194\n",
              "2017-12-03    41.686470\n",
              "2017-12-10    40.659225\n",
              "2017-12-17    41.657742\n",
              "2017-12-24    42.244396\n",
              "2017-12-31    40.965721\n",
              "Freq: W-SUN, Name: Close, dtype: float64"
            ]
          },
          "metadata": {},
          "execution_count": 16
        }
      ]
    },
    {
      "cell_type": "markdown",
      "metadata": {
        "id": "Z8r46UFlLdAh"
      },
      "source": [
        "We can choose almost any frequency by using the format 'nf', where 'n' is an integer and 'f' is M for month, W for week and D for day."
      ]
    },
    {
      "cell_type": "code",
      "metadata": {
        "colab": {
          "base_uri": "https://localhost:8080/"
        },
        "id": "kdVB_-JFHW96",
        "outputId": "1a375315-b499-454c-e020-d29ed13820c6"
      },
      "source": [
        "three_day = aapl.resample('3D').mean()\n",
        "two_week = aapl.resample('2W').mean()\n",
        "two_month = aapl.resample('2M').mean()\n",
        "\n",
        "\n",
        "print(three_day)\n",
        "print(two_week)\n",
        "print(two_month )"
      ],
      "execution_count": null,
      "outputs": [
        {
          "name": "stdout",
          "output_type": "stream",
          "text": [
            "Date\n",
            "2017-01-03    27.398284\n",
            "2017-01-06    27.787128\n",
            "2017-01-09    28.110777\n",
            "2017-01-12    28.078175\n",
            "2017-01-15    28.279665\n",
            "                ...    \n",
            "2017-12-17    42.019320\n",
            "2017-12-20    41.854094\n",
            "2017-12-23          NaN\n",
            "2017-12-26    40.886703\n",
            "2017-12-29    40.522728\n",
            "Freq: 3D, Name: Close, Length: 121, dtype: float64\n",
            "Date\n",
            "2017-01-08    27.495495\n",
            "2017-01-22    28.172571\n",
            "2017-02-05    29.108262\n",
            "2017-02-19    31.516819\n",
            "2017-03-05    32.595556\n",
            "2017-03-19    33.017884\n",
            "2017-04-02    33.625220\n",
            "2017-04-16    33.849730\n",
            "2017-04-30    33.791846\n",
            "2017-05-14    35.697631\n",
            "2017-05-28    36.496177\n",
            "2017-06-11    36.515006\n",
            "2017-06-25    34.529045\n",
            "2017-07-09    34.265135\n",
            "2017-07-23    35.278871\n",
            "2017-08-06    36.272773\n",
            "2017-08-20    37.904119\n",
            "2017-09-03    38.458794\n",
            "2017-09-17    38.282706\n",
            "2017-10-01    36.840872\n",
            "2017-10-15    37.071597\n",
            "2017-10-29    37.757318\n",
            "2017-11-12    41.032238\n",
            "2017-11-26    41.204377\n",
            "2017-12-10    40.867066\n",
            "2017-12-24    41.620867\n",
            "2018-01-07    40.795710\n",
            "Freq: 2W-SUN, Name: Close, dtype: float64\n",
            "Date\n",
            "2017-01-31    28.178332\n",
            "2017-03-31    32.524056\n",
            "2017-05-31    35.056855\n",
            "2017-07-31    35.186963\n",
            "2017-09-30    37.761186\n",
            "2017-11-30    39.402612\n",
            "2018-01-31    41.160038\n",
            "Freq: 2M, Name: Close, dtype: float64\n"
          ]
        }
      ]
    },
    {
      "cell_type": "code",
      "metadata": {
        "colab": {
          "base_uri": "https://localhost:8080/"
        },
        "id": "31UWc0vuslkJ",
        "outputId": "1f02531c-def3-4ea2-aa40-ee0a225ab12e"
      },
      "source": [
        "#example\n",
        "nine_day = aapl.resample('9D').mean()\n",
        "five_week = aapl.resample('5W').mean()\n",
        "three_month = aapl.resample('3M').mean()\n",
        "\n",
        "\n",
        "print(nine_day)\n",
        "print(five_week)\n",
        "print(three_month )"
      ],
      "execution_count": 18,
      "outputs": [
        {
          "output_type": "stream",
          "name": "stdout",
          "text": [
            "Date\n",
            "2017-01-03    27.759187\n",
            "2017-01-12    28.203469\n",
            "2017-01-21    28.553979\n",
            "2017-01-30    30.002032\n",
            "2017-02-08    31.620527\n",
            "2017-02-17    32.318005\n",
            "2017-02-26    32.812126\n",
            "2017-03-07    32.966587\n",
            "2017-03-16    33.303698\n",
            "2017-03-25    33.911846\n",
            "2017-04-03    33.957285\n",
            "2017-04-12    33.491018\n",
            "2017-04-21    33.986479\n",
            "2017-04-30    35.094559\n",
            "2017-05-09    36.581602\n",
            "2017-05-18    36.471361\n",
            "2017-05-27    36.544188\n",
            "2017-06-05    35.979737\n",
            "2017-06-14    34.446474\n",
            "2017-06-23    34.435723\n",
            "2017-07-02    34.202499\n",
            "2017-07-11    35.267091\n",
            "2017-07-20    35.953593\n",
            "2017-07-29    36.499269\n",
            "2017-08-07    37.913657\n",
            "2017-08-16    37.921405\n",
            "2017-08-25    38.797283\n",
            "2017-09-03    38.432066\n",
            "2017-09-12    37.907431\n",
            "2017-09-21    36.491534\n",
            "2017-09-30    36.861152\n",
            "2017-10-09    37.549197\n",
            "2017-10-18    37.462280\n",
            "2017-10-27    40.016903\n",
            "2017-11-05    41.796960\n",
            "2017-11-14    41.040634\n",
            "2017-11-23    41.286189\n",
            "2017-12-02    40.570143\n",
            "2017-12-11    41.520908\n",
            "2017-12-20    41.370398\n",
            "2017-12-29    40.522732\n",
            "Freq: 9D, Name: Close, dtype: float64\n",
            "Date\n",
            "2017-01-08    27.495496\n",
            "2017-02-12    29.169464\n",
            "2017-03-19    32.636484\n",
            "2017-04-23    33.690524\n",
            "2017-05-28    35.687348\n",
            "2017-07-02    35.240607\n",
            "2017-08-06    35.502234\n",
            "2017-09-10    38.219009\n",
            "2017-10-15    37.201677\n",
            "2017-11-19    39.711266\n",
            "2017-12-24    41.284691\n",
            "2018-01-28    40.795711\n",
            "Freq: 5W-SUN, Name: Close, dtype: float64\n",
            "Date\n",
            "2017-01-31    28.178331\n",
            "2017-04-30    32.927480\n",
            "2017-07-31    35.509648\n",
            "2017-10-31    37.725094\n",
            "2018-01-31    41.197876\n",
            "Freq: 3M, Name: Close, dtype: float64\n"
          ]
        }
      ]
    },
    {
      "cell_type": "markdown",
      "metadata": {
        "id": "iy4RqsnwL-Bw"
      },
      "source": [
        "Besides the mean() method, other methods can also be used with the resampler:\n",
        "\n"
      ]
    },
    {
      "cell_type": "code",
      "metadata": {
        "colab": {
          "base_uri": "https://localhost:8080/"
        },
        "id": "DNT8Fx9dHW96",
        "outputId": "9aea3239-6ad2-4fa3-96d7-a5c83dde5ab9"
      },
      "source": [
        "std = aapl.resample('W').std()\n",
        "max = aapl.resample('W').max()\n",
        "min = aapl.resample('W').min()\n",
        "\n",
        "\n",
        "print(std)\n",
        "print(max)\n",
        "print(min)"
      ],
      "execution_count": 19,
      "outputs": [
        {
          "output_type": "stream",
          "name": "stdout",
          "text": [
            "Date\n",
            "2017-01-08    0.203369\n",
            "2017-01-15    0.072530\n",
            "2017-01-22    0.025552\n",
            "2017-01-29    0.245287\n",
            "2017-02-05    0.943260\n",
            "2017-02-12    0.252004\n",
            "2017-02-19    0.231389\n",
            "2017-02-26    0.059347\n",
            "2017-03-05    0.340091\n",
            "2017-03-12    0.076289\n",
            "2017-03-19    0.177835\n",
            "2017-03-26    0.157266\n",
            "2017-04-02    0.319809\n",
            "2017-04-09    0.128690\n",
            "2017-04-16    0.212475\n",
            "2017-04-23    0.174672\n",
            "2017-04-30    0.090026\n",
            "2017-05-07    0.235641\n",
            "2017-05-14    0.352980\n",
            "2017-05-21    0.536094\n",
            "2017-05-28    0.060392\n",
            "2017-06-04    0.281224\n",
            "2017-06-11    0.620036\n",
            "2017-06-18    0.382562\n",
            "2017-06-25    0.128893\n",
            "2017-07-02    0.264112\n",
            "2017-07-09    0.158891\n",
            "2017-07-16    0.404280\n",
            "2017-07-23    0.124988\n",
            "2017-07-30    0.384445\n",
            "2017-08-06    0.924394\n",
            "2017-08-13    0.467466\n",
            "2017-08-20    0.435250\n",
            "2017-08-27    0.275763\n",
            "2017-09-03    0.251725\n",
            "2017-09-10    0.381638\n",
            "2017-09-17    0.294140\n",
            "2017-09-24    0.735195\n",
            "2017-10-01    0.354844\n",
            "2017-10-08    0.204859\n",
            "2017-10-15    0.118731\n",
            "2017-10-22    0.516998\n",
            "2017-10-29    0.680457\n",
            "2017-11-05    0.560683\n",
            "2017-11-12    0.190975\n",
            "2017-11-19    0.436197\n",
            "2017-11-26    0.563043\n",
            "2017-12-03    0.427443\n",
            "2017-12-10    0.073130\n",
            "2017-12-17    0.205267\n",
            "2017-12-24    0.194120\n",
            "2017-12-31    0.190393\n",
            "Freq: W-SUN, Name: Close, dtype: float64\n",
            "Date\n",
            "2017-01-08    27.787132\n",
            "2017-01-15    28.220753\n",
            "2017-01-22    28.279663\n",
            "2017-01-29    28.739208\n",
            "2017-02-05    30.419493\n",
            "2017-02-12    31.341917\n",
            "2017-02-19    32.122974\n",
            "2017-02-26    32.451973\n",
            "2017-03-05    33.086285\n",
            "2017-03-12    33.022381\n",
            "2017-03-19    33.299294\n",
            "2017-03-26    33.481556\n",
            "2017-04-02    34.111137\n",
            "2017-04-09    34.264977\n",
            "2017-04-16    33.886280\n",
            "2017-04-23    33.713501\n",
            "2017-04-30    34.208176\n",
            "2017-05-07    35.256695\n",
            "2017-05-14    37.099129\n",
            "2017-05-21    37.004063\n",
            "2017-05-28    36.597664\n",
            "2017-06-04    36.944653\n",
            "2017-06-11    36.925632\n",
            "2017-06-18    34.838955\n",
            "2017-06-25    34.779541\n",
            "2017-07-02    34.658340\n",
            "2017-07-09    34.266186\n",
            "2017-07-16    35.421230\n",
            "2017-07-23    35.891804\n",
            "2017-07-30    36.471699\n",
            "2017-08-06    37.346302\n",
            "2017-08-13    38.277931\n",
            "2017-08-20    38.557095\n",
            "2017-08-27    38.170563\n",
            "2017-09-03    39.141651\n",
            "2017-09-10    38.671612\n",
            "2017-09-17    38.533230\n",
            "2017-09-24    37.872322\n",
            "2017-10-01    36.798637\n",
            "2017-10-08    37.075413\n",
            "2017-10-15    37.457161\n",
            "2017-10-22    38.287479\n",
            "2017-10-29    38.903065\n",
            "2017-11-05    41.157784\n",
            "2017-11-12    42.050144\n",
            "2017-11-19    41.657742\n",
            "2017-11-26    41.897194\n",
            "2017-12-03    41.686470\n",
            "2017-12-10    40.659225\n",
            "2017-12-17    41.657742\n",
            "2017-12-24    42.244396\n",
            "2017-12-31    40.965721\n",
            "Freq: W-SUN, Name: Close, dtype: float64\n",
            "Date\n",
            "2017-01-08    27.341724\n",
            "2017-01-15    28.041645\n",
            "2017-01-22    28.227823\n",
            "2017-01-29    28.272596\n",
            "2017-02-05    28.597811\n",
            "2017-02-12    30.704647\n",
            "2017-02-19    31.547836\n",
            "2017-02-26    32.314690\n",
            "2017-03-05    32.409363\n",
            "2017-03-12    32.823559\n",
            "2017-03-19    32.896927\n",
            "2017-03-26    33.098114\n",
            "2017-04-02    33.344273\n",
            "2017-04-09    33.926510\n",
            "2017-04-16    33.384510\n",
            "2017-04-23    33.296932\n",
            "2017-04-30    33.997520\n",
            "2017-05-07    34.681545\n",
            "2017-05-14    36.215263\n",
            "2017-05-21    35.708797\n",
            "2017-05-28    36.443180\n",
            "2017-06-04    36.305336\n",
            "2017-06-11    35.406967\n",
            "2017-06-18    33.812260\n",
            "2017-06-25    34.463451\n",
            "2017-07-02    34.147358\n",
            "2017-07-09    33.921577\n",
            "2017-07-16    34.475342\n",
            "2017-07-23    35.544819\n",
            "2017-07-30    35.530544\n",
            "2017-08-06    35.347549\n",
            "2017-08-13    37.058716\n",
            "2017-08-20    37.578854\n",
            "2017-08-27    37.509663\n",
            "2017-09-03    38.526077\n",
            "2017-09-10    37.848461\n",
            "2017-09-17    37.764950\n",
            "2017-09-24    36.240322\n",
            "2017-10-01    35.920612\n",
            "2017-10-08    36.619690\n",
            "2017-10-15    37.182781\n",
            "2017-10-22    37.216190\n",
            "2017-10-29    37.261520\n",
            "2017-11-05    39.778702\n",
            "2017-11-12    41.575325\n",
            "2017-11-19    40.486816\n",
            "2017-11-26    40.702324\n",
            "2017-12-03    40.582596\n",
            "2017-12-10    40.470051\n",
            "2017-12-17    41.114174\n",
            "2017-12-24    41.748741\n",
            "2017-12-31    40.522732\n",
            "Freq: W-SUN, Name: Close, dtype: float64\n"
          ]
        }
      ]
    },
    {
      "cell_type": "code",
      "metadata": {
        "colab": {
          "base_uri": "https://localhost:8080/"
        },
        "id": "T12cPnHps4aq",
        "outputId": "6ce6794b-f015-4806-ea36-daf74149a241"
      },
      "source": [
        "#example\n",
        "std = aapl.resample('M').std()\n",
        "max = aapl.resample('M').max()\n",
        "min = aapl.resample('M').min()\n",
        "\n",
        "\n",
        "print(std)\n",
        "print(max)\n",
        "print(min)"
      ],
      "execution_count": 20,
      "outputs": [
        {
          "output_type": "stream",
          "name": "stdout",
          "text": [
            "Date\n",
            "2017-01-31    0.425088\n",
            "2017-02-28    0.773848\n",
            "2017-03-31    0.407928\n",
            "2017-04-30    0.291040\n",
            "2017-05-31    0.760192\n",
            "2017-06-30    1.053872\n",
            "2017-07-31    0.774825\n",
            "2017-08-31    0.767476\n",
            "2017-09-30    0.943679\n",
            "2017-10-31    0.946221\n",
            "2017-11-30    0.638005\n",
            "2017-12-31    0.551569\n",
            "Freq: M, Name: Close, dtype: float64\n",
            "Date\n",
            "2017-01-31    28.739208\n",
            "2017-02-28    32.451973\n",
            "2017-03-31    34.111137\n",
            "2017-04-30    34.264977\n",
            "2017-05-31    37.099129\n",
            "2017-06-30    36.944653\n",
            "2017-07-31    36.471699\n",
            "2017-08-31    39.129726\n",
            "2017-09-30    39.141651\n",
            "2017-10-31    40.332253\n",
            "2017-11-30    42.050144\n",
            "2017-12-31    42.244396\n",
            "Freq: M, Name: Close, dtype: float64\n",
            "Date\n",
            "2017-01-31    27.341724\n",
            "2017-02-28    30.289877\n",
            "2017-03-31    32.823559\n",
            "2017-04-30    33.296932\n",
            "2017-05-31    34.681545\n",
            "2017-06-30    33.812260\n",
            "2017-07-31    33.921577\n",
            "2017-08-31    35.661270\n",
            "2017-09-30    35.920612\n",
            "2017-10-31    36.619690\n",
            "2017-11-30    39.819260\n",
            "2017-12-31    40.470051\n",
            "Freq: M, Name: Close, dtype: float64\n"
          ]
        }
      ]
    },
    {
      "cell_type": "markdown",
      "metadata": {
        "id": "uqln0s5DMI3I"
      },
      "source": [
        "Often we want to calculate monthly returns of a stock, based on prices on the last day of each month. To fetch those prices, we use the series.resample.agg() method:"
      ]
    },
    {
      "cell_type": "code",
      "metadata": {
        "colab": {
          "base_uri": "https://localhost:8080/"
        },
        "id": "A6FSYvqbHW97",
        "outputId": "65e15754-acab-4b3b-cf91-ff1679730f98"
      },
      "source": [
        "last_day = aapl.resample('M').agg(lambda x: x[-1])\n",
        "print(last_day)"
      ],
      "execution_count": null,
      "outputs": [
        {
          "name": "stdout",
          "output_type": "stream",
          "text": [
            "Date\n",
            "2017-01-31    28.597816\n",
            "2017-02-28    32.423576\n",
            "2017-03-31    34.002254\n",
            "2017-04-30    33.999889\n",
            "2017-05-31    36.305332\n",
            "2017-06-30    34.228161\n",
            "2017-07-31    35.347557\n",
            "2017-08-31    39.129723\n",
            "2017-09-30    36.772392\n",
            "2017-10-31    40.332245\n",
            "2017-11-30    41.150105\n",
            "2017-12-31    40.522728\n",
            "Freq: M, Name: Close, dtype: float64\n"
          ]
        }
      ]
    },
    {
      "cell_type": "code",
      "metadata": {
        "colab": {
          "base_uri": "https://localhost:8080/"
        },
        "id": "QHWKE11Lt49y",
        "outputId": "cae335f3-ec81-43b3-c0f9-71a38dbff30f"
      },
      "source": [
        "#example\n",
        "last_day_semestre = aapl.resample('6M').agg(lambda x: x[-1])\n",
        "print(last_day_semestre)"
      ],
      "execution_count": 21,
      "outputs": [
        {
          "output_type": "stream",
          "name": "stdout",
          "text": [
            "Date\n",
            "2017-01-31    28.597811\n",
            "2017-07-31    35.347549\n",
            "2018-01-31    40.522732\n",
            "Freq: 6M, Name: Close, dtype: float64\n"
          ]
        }
      ]
    },
    {
      "cell_type": "markdown",
      "metadata": {
        "id": "uwomY3aXMR46"
      },
      "source": [
        "Or directly calculate the monthly rates of return using the data for the first day and the last day:"
      ]
    },
    {
      "cell_type": "code",
      "metadata": {
        "colab": {
          "base_uri": "https://localhost:8080/"
        },
        "id": "qK2NMJrNHW96",
        "outputId": "588f5597-6965-4aff-ccd9-d370c7d1d51f"
      },
      "source": [
        "monthly_return = aapl.resample('M').agg(lambda x: x[-1]/x[0] - 1)\n",
        "print(monthly_return)"
      ],
      "execution_count": null,
      "outputs": [
        {
          "name": "stdout",
          "output_type": "stream",
          "text": [
            "Date\n",
            "2017-01-31    0.044770\n",
            "2017-02-28    0.068613\n",
            "2017-03-31    0.027684\n",
            "2017-04-30   -0.000348\n",
            "2017-05-31    0.046463\n",
            "2017-06-30   -0.059799\n",
            "2017-07-31    0.036446\n",
            "2017-08-31    0.097261\n",
            "2017-09-30   -0.060531\n",
            "2017-10-31    0.099019\n",
            "2017-11-30    0.033422\n",
            "2017-12-31   -0.010640\n",
            "Freq: M, Name: Close, dtype: float64\n"
          ]
        }
      ]
    },
    {
      "cell_type": "code",
      "metadata": {
        "colab": {
          "base_uri": "https://localhost:8080/"
        },
        "id": "a6gvHVeUuIUU",
        "outputId": "b0600fab-6997-4558-d405-7a5c7c92b9da"
      },
      "source": [
        "#example\n",
        "semestre_return = aapl.resample('6M').agg(lambda x: x[-1]/x[0] - 1)\n",
        "print(semestre_return)"
      ],
      "execution_count": 23,
      "outputs": [
        {
          "output_type": "stream",
          "name": "stdout",
          "text": [
            "Date\n",
            "2017-01-31    0.044770\n",
            "2017-07-31    0.164981\n",
            "2018-01-31    0.136323\n",
            "Freq: 6M, Name: Close, dtype: float64\n"
          ]
        }
      ]
    },
    {
      "cell_type": "markdown",
      "metadata": {
        "id": "_DYbMTFWMj8J"
      },
      "source": [
        "Series object also provides us some convenient methods to do some quick calculation."
      ]
    },
    {
      "cell_type": "code",
      "metadata": {
        "colab": {
          "base_uri": "https://localhost:8080/"
        },
        "id": "1Mxc0HwvHW98",
        "outputId": "f41c4183-033d-4346-a29b-7012ca2d2ac6"
      },
      "source": [
        "print(monthly_return.mean())\n",
        "print(monthly_return.std())\n",
        "print(monthly_return.max())"
      ],
      "execution_count": null,
      "outputs": [
        {
          "name": "stdout",
          "output_type": "stream",
          "text": [
            "0.026863264084197352\n",
            "0.05225865308159278\n",
            "0.09901852037224312\n"
          ]
        }
      ]
    },
    {
      "cell_type": "code",
      "metadata": {
        "colab": {
          "base_uri": "https://localhost:8080/"
        },
        "id": "OvxUq3DquUYA",
        "outputId": "031d8a48-e57e-4f10-a4c3-237fb5ce46b6"
      },
      "source": [
        "#example\n",
        "print(semestre_return.mean())\n",
        "print(semestre_return.std())\n",
        "print(semestre_return.max())"
      ],
      "execution_count": 24,
      "outputs": [
        {
          "output_type": "stream",
          "name": "stdout",
          "text": [
            "0.11535816069084033\n",
            "0.06278829969384592\n",
            "0.164981487387039\n"
          ]
        }
      ]
    },
    {
      "cell_type": "markdown",
      "metadata": {
        "id": "mn59J5dqMpqX"
      },
      "source": [
        "Another two methods frequently used on Series are .diff() and .pct_change(). The former calculates the difference between consecutive elements, and the latter calculates the percentage change."
      ]
    },
    {
      "cell_type": "code",
      "metadata": {
        "colab": {
          "base_uri": "https://localhost:8080/"
        },
        "id": "DupZTSqqHW99",
        "outputId": "6aa8c96d-642a-4dec-aa13-26a5b6e2eeb8"
      },
      "source": [
        "print(last_day.diff())\n",
        "print(last_day.pct_change())"
      ],
      "execution_count": null,
      "outputs": [
        {
          "name": "stdout",
          "output_type": "stream",
          "text": [
            "Date\n",
            "2017-01-31         NaN\n",
            "2017-02-28    3.825760\n",
            "2017-03-31    1.578678\n",
            "2017-04-30   -0.002365\n",
            "2017-05-31    2.305443\n",
            "2017-06-30   -2.077171\n",
            "2017-07-31    1.119396\n",
            "2017-08-31    3.782166\n",
            "2017-09-30   -2.357330\n",
            "2017-10-31    3.559853\n",
            "2017-11-30    0.817860\n",
            "2017-12-31   -0.627377\n",
            "Freq: M, Name: Close, dtype: float64\n",
            "Date\n",
            "2017-01-31         NaN\n",
            "2017-02-28    0.133778\n",
            "2017-03-31    0.048689\n",
            "2017-04-30   -0.000070\n",
            "2017-05-31    0.067807\n",
            "2017-06-30   -0.057214\n",
            "2017-07-31    0.032704\n",
            "2017-08-31    0.106999\n",
            "2017-09-30   -0.060244\n",
            "2017-10-31    0.096808\n",
            "2017-11-30    0.020278\n",
            "2017-12-31   -0.015246\n",
            "Freq: M, Name: Close, dtype: float64\n"
          ]
        }
      ]
    },
    {
      "cell_type": "code",
      "metadata": {
        "colab": {
          "base_uri": "https://localhost:8080/"
        },
        "id": "N2gglS4sufar",
        "outputId": "98314878-3d21-4c4d-deda-a3b8091caba6"
      },
      "source": [
        "#example\n",
        "print(last_day_semestre.diff())\n",
        "print(last_day_semestre.pct_change())"
      ],
      "execution_count": 25,
      "outputs": [
        {
          "output_type": "stream",
          "name": "stdout",
          "text": [
            "Date\n",
            "2017-01-31         NaN\n",
            "2017-07-31    6.749739\n",
            "2018-01-31    5.175182\n",
            "Freq: 6M, Name: Close, dtype: float64\n",
            "Date\n",
            "2017-01-31         NaN\n",
            "2017-07-31    0.236023\n",
            "2018-01-31    0.146409\n",
            "Freq: 6M, Name: Close, dtype: float64\n"
          ]
        }
      ]
    },
    {
      "cell_type": "markdown",
      "metadata": {
        "id": "RaMAOFepM6Io"
      },
      "source": [
        "Notice that we induced a NaN value while calculating percentage changes i.e. returns.\n",
        "\n",
        "When dealing with NaN values, we usually either removing the data point or fill it with a specific value. Here we fill it with 0:"
      ]
    },
    {
      "cell_type": "code",
      "metadata": {
        "colab": {
          "base_uri": "https://localhost:8080/"
        },
        "id": "-xyLb3A3HW99",
        "outputId": "383b7071-b32b-41a0-e27f-90be3dd6f659"
      },
      "source": [
        "daily_return = last_day.pct_change()\n",
        "print(daily_return.fillna(0))"
      ],
      "execution_count": null,
      "outputs": [
        {
          "name": "stdout",
          "output_type": "stream",
          "text": [
            "Date\n",
            "2017-01-31    0.000000\n",
            "2017-02-28    0.133778\n",
            "2017-03-31    0.048689\n",
            "2017-04-30   -0.000070\n",
            "2017-05-31    0.067807\n",
            "2017-06-30   -0.057214\n",
            "2017-07-31    0.032704\n",
            "2017-08-31    0.106999\n",
            "2017-09-30   -0.060244\n",
            "2017-10-31    0.096808\n",
            "2017-11-30    0.020278\n",
            "2017-12-31   -0.015246\n",
            "Freq: M, Name: Close, dtype: float64\n"
          ]
        }
      ]
    },
    {
      "cell_type": "code",
      "metadata": {
        "colab": {
          "base_uri": "https://localhost:8080/"
        },
        "id": "0Zbbl51kumsa",
        "outputId": "96c9c12e-f963-49ab-f590-677569e0506f"
      },
      "source": [
        "#example\n",
        "daily_return_semestre = last_day_semestre.pct_change()\n",
        "print(daily_return_semestre.fillna(0))"
      ],
      "execution_count": 26,
      "outputs": [
        {
          "output_type": "stream",
          "name": "stdout",
          "text": [
            "Date\n",
            "2017-01-31    0.000000\n",
            "2017-07-31    0.236023\n",
            "2018-01-31    0.146409\n",
            "Freq: 6M, Name: Close, dtype: float64\n"
          ]
        }
      ]
    },
    {
      "cell_type": "markdown",
      "metadata": {
        "id": "BYS10Om1NQVC"
      },
      "source": [
        "Alternatively, we can fill a NaN with the next fitted value. This is called 'backward fill', or 'bfill' in short:"
      ]
    },
    {
      "cell_type": "code",
      "metadata": {
        "colab": {
          "base_uri": "https://localhost:8080/"
        },
        "id": "J513kHeKHW9-",
        "outputId": "8bf4791b-70bb-44c5-b1db-cc40da5115a0"
      },
      "source": [
        "daily_return = last_day.pct_change()\n",
        "print(daily_return.fillna(method = 'bfill'))"
      ],
      "execution_count": null,
      "outputs": [
        {
          "name": "stdout",
          "output_type": "stream",
          "text": [
            "Date\n",
            "2017-01-31    0.133778\n",
            "2017-02-28    0.133778\n",
            "2017-03-31    0.048689\n",
            "2017-04-30   -0.000070\n",
            "2017-05-31    0.067807\n",
            "2017-06-30   -0.057214\n",
            "2017-07-31    0.032704\n",
            "2017-08-31    0.106999\n",
            "2017-09-30   -0.060244\n",
            "2017-10-31    0.096808\n",
            "2017-11-30    0.020278\n",
            "2017-12-31   -0.015246\n",
            "Freq: M, Name: Close, dtype: float64\n"
          ]
        }
      ]
    },
    {
      "cell_type": "code",
      "metadata": {
        "colab": {
          "base_uri": "https://localhost:8080/"
        },
        "id": "82aDwKDQuvNZ",
        "outputId": "0921ee50-3d72-4d2f-dab5-e11fde2b7f4b"
      },
      "source": [
        "#example\n",
        "daily_return_semestre = last_day_semestre.pct_change()\n",
        "print(daily_return_semestre.fillna(method = 'bfill'))"
      ],
      "execution_count": 27,
      "outputs": [
        {
          "output_type": "stream",
          "name": "stdout",
          "text": [
            "Date\n",
            "2017-01-31    0.236023\n",
            "2017-07-31    0.236023\n",
            "2018-01-31    0.146409\n",
            "Freq: 6M, Name: Close, dtype: float64\n"
          ]
        }
      ]
    },
    {
      "cell_type": "markdown",
      "metadata": {
        "id": "bj8QUSgdNepf"
      },
      "source": [
        "As expected, since there is a 'backward fill' method, there must be a 'forward fill' method, or 'ffill' in short. However we can't use it here because the NaN is the first value.\n",
        "\n",
        "We can also simply remove NaN values by **_.dropna()_**"
      ]
    },
    {
      "cell_type": "code",
      "metadata": {
        "colab": {
          "base_uri": "https://localhost:8080/"
        },
        "id": "WG5ux1lqHW9-",
        "outputId": "40f6df81-ec0d-4eae-e89e-42f9f73c55c7"
      },
      "source": [
        "daily_return = last_day.pct_change()\n",
        "daily_return.dropna()"
      ],
      "execution_count": null,
      "outputs": [
        {
          "data": {
            "text/plain": [
              "Date\n",
              "2017-02-28    0.133778\n",
              "2017-03-31    0.048689\n",
              "2017-04-30   -0.000070\n",
              "2017-05-31    0.067807\n",
              "2017-06-30   -0.057214\n",
              "2017-07-31    0.032704\n",
              "2017-08-31    0.106999\n",
              "2017-09-30   -0.060244\n",
              "2017-10-31    0.096808\n",
              "2017-11-30    0.020278\n",
              "2017-12-31   -0.015246\n",
              "Freq: M, Name: Close, dtype: float64"
            ]
          },
          "execution_count": 19,
          "metadata": {},
          "output_type": "execute_result"
        }
      ]
    },
    {
      "cell_type": "code",
      "metadata": {
        "colab": {
          "base_uri": "https://localhost:8080/"
        },
        "id": "zHFg46bUu3Nn",
        "outputId": "2b4d8d6e-ac51-4618-d10e-487435e44889"
      },
      "source": [
        "#example\n",
        "daily_return_semestre = last_day_semestre.pct_change()\n",
        "daily_return_semestre.dropna()"
      ],
      "execution_count": 28,
      "outputs": [
        {
          "output_type": "execute_result",
          "data": {
            "text/plain": [
              "Date\n",
              "2017-07-31    0.236023\n",
              "2018-01-31    0.146409\n",
              "Freq: 6M, Name: Close, dtype: float64"
            ]
          },
          "metadata": {},
          "execution_count": 28
        }
      ]
    },
    {
      "cell_type": "markdown",
      "metadata": {
        "id": "nQH2eBWkNjdC"
      },
      "source": [
        "# DataFrame\n",
        "The **DataFrame** is the most commonly used data structure in Pandas. It is essentially a table, just like an Excel spreadsheet.\n",
        "\n",
        "More precisely, a DataFrame is a collection of Series objects, each of which may contain different data types. A DataFrame can be created from various data types: dictionary, 2-D numpy.ndarray, a Series or another DataFrame.\n",
        "\n",
        "## Create DataFrames\n",
        "The most common method of creating a DataFrame is passing a dictionary:"
      ]
    },
    {
      "cell_type": "code",
      "metadata": {
        "colab": {
          "base_uri": "https://localhost:8080/"
        },
        "id": "vd5Wf1ohHW9-",
        "outputId": "d9b4d02a-42f6-4e83-947f-ba47abcf6611"
      },
      "source": [
        "import pandas as pd\n",
        "\n",
        "dict = {'AAPL': [143.5, 144.09, 142.73, 144.18, 143.77],'GOOG':[898.7, 911.71, 906.69, 918.59, 926.99],\n",
        "        'IBM':[155.58, 153.67, 152.36, 152.94, 153.49]}\n",
        "data_index = pd.date_range('2017-07-03',periods = 5, freq = 'D')\n",
        "df = pd.DataFrame(dict, index = data_index)\n",
        "print(df)"
      ],
      "execution_count": 72,
      "outputs": [
        {
          "output_type": "stream",
          "name": "stdout",
          "text": [
            "              AAPL    GOOG     IBM\n",
            "2017-07-03  143.50  898.70  155.58\n",
            "2017-07-04  144.09  911.71  153.67\n",
            "2017-07-05  142.73  906.69  152.36\n",
            "2017-07-06  144.18  918.59  152.94\n",
            "2017-07-07  143.77  926.99  153.49\n"
          ]
        }
      ]
    },
    {
      "cell_type": "code",
      "metadata": {
        "colab": {
          "base_uri": "https://localhost:8080/"
        },
        "id": "ID3QuDNNvELy",
        "outputId": "2e226ab3-aff0-4ef9-cbbc-e01c280a3c7d"
      },
      "source": [
        "#example\n",
        "import pandas as pd\n",
        "\n",
        "dict2 = {'TWTR': [143.5, 144.09, 142.73, 144.18, 143.77],'FB':[898.7, 911.71, 906.69, 918.59, 926.99],\n",
        "        'NVDA':[155.58, 153.67, 152.36, 152.94, 153.49]}\n",
        "data_index = pd.date_range('2017-07-03',periods = 5, freq = 'D')\n",
        "df = pd.DataFrame(dict2, index = data_index)\n",
        "print(df)"
      ],
      "execution_count": 77,
      "outputs": [
        {
          "output_type": "stream",
          "name": "stdout",
          "text": [
            "              TWTR      FB    NVDA\n",
            "2017-07-03  143.50  898.70  155.58\n",
            "2017-07-04  144.09  911.71  153.67\n",
            "2017-07-05  142.73  906.69  152.36\n",
            "2017-07-06  144.18  918.59  152.94\n",
            "2017-07-07  143.77  926.99  153.49\n"
          ]
        }
      ]
    },
    {
      "cell_type": "markdown",
      "metadata": {
        "id": "0uYmLQTgOPnX"
      },
      "source": [
        "## Manipulating DataFrames\n",
        "We can fetch values in a DataFrame by columns and index. Each column in a DataFrame is essentially a Pandas Series. We can fetch a column by square brackets: **df['column_name']**\n",
        "\n",
        "If a column name contains no spaces, then we can also use df.column_name to fetch a column:"
      ]
    },
    {
      "cell_type": "code",
      "metadata": {
        "colab": {
          "base_uri": "https://localhost:8080/"
        },
        "id": "2pB2f7lBHW9_",
        "outputId": "9e63b845-08a9-4544-810d-6733902a423c"
      },
      "source": [
        "df = aapl_table\n",
        "print(df.Close.tail(5))\n",
        "print(df['Volume'].tail(5))"
      ],
      "execution_count": 85,
      "outputs": [
        {
          "output_type": "stream",
          "name": "stdout",
          "text": [
            "Date\n",
            "2017-12-22    41.906769\n",
            "2017-12-26    40.843605\n",
            "2017-12-27    40.850784\n",
            "2017-12-28    40.965721\n",
            "2017-12-29    40.522732\n",
            "Name: Close, dtype: float64\n",
            "Date\n",
            "2017-12-22     65397600\n",
            "2017-12-26    132742000\n",
            "2017-12-27     85992800\n",
            "2017-12-28     65920800\n",
            "2017-12-29    103999600\n",
            "Name: Volume, dtype: int64\n"
          ]
        }
      ]
    },
    {
      "cell_type": "code",
      "metadata": {
        "colab": {
          "base_uri": "https://localhost:8080/"
        },
        "id": "MaPRiX2Xv_Ow",
        "outputId": "fb1c5c92-9d27-470a-c892-da20c7585a5d"
      },
      "source": [
        "#example\n",
        "df = aapl_table\n",
        "print(df.Close.tail(3))\n",
        "print(df['Volume'].tail(3))"
      ],
      "execution_count": 64,
      "outputs": [
        {
          "output_type": "stream",
          "name": "stdout",
          "text": [
            "Date\n",
            "2017-12-27    40.850784\n",
            "2017-12-28    40.965721\n",
            "2017-12-29    40.522732\n",
            "Name: Close, dtype: float64\n",
            "Date\n",
            "2017-12-27     85992800\n",
            "2017-12-28     65920800\n",
            "2017-12-29    103999600\n",
            "Name: Volume, dtype: int64\n"
          ]
        }
      ]
    },
    {
      "cell_type": "markdown",
      "metadata": {
        "id": "z0ugOel9O4-P"
      },
      "source": [
        "All the methods we applied to a Series index such as iloc[], loc[] and resampling methods, can also be applied to a DataFrame:"
      ]
    },
    {
      "cell_type": "code",
      "metadata": {
        "colab": {
          "base_uri": "https://localhost:8080/"
        },
        "id": "_8dfjkedHW9_",
        "outputId": "99124eaa-5974-4ca2-e16a-5fb36676ebda"
      },
      "source": [
        "aapl_2016 = df['2016']\n",
        "aapl_month = aapl_2016.resample('M').agg(lambda x: x[-1])\n",
        "print(aapl_month)"
      ],
      "execution_count": 86,
      "outputs": [
        {
          "output_type": "stream",
          "name": "stdout",
          "text": [
            "                 Open       High        Low  ...     Volume  Dividends  Stock Splits\n",
            "Date                                         ...                                    \n",
            "2016-01-31  21.852390  22.440252  21.750954  ...  257666000        0.0             0\n",
            "2016-02-29  22.450753  22.768300  22.402079  ...  140865200        0.0             0\n",
            "2016-03-31  25.431522  25.473243  25.236821  ...  103553600        0.0             0\n",
            "2016-04-30  21.785533  21.954737  21.442491  ...  274126000        0.0             0\n",
            "2016-05-31  23.226407  23.412965  23.044514  ...  169228800        0.0             0\n",
            "2016-06-30  22.023112  22.333262  21.990464  ...  143345600        0.0             0\n",
            "2016-07-31  24.296782  24.380733  24.177851  ...  110934800        0.0             0\n",
            "2016-08-31  24.773056  24.986413  24.768365  ...  118649600        0.0             0\n",
            "2016-09-30  26.367388  26.580747  26.212645  ...  145516400        0.0             0\n",
            "2016-10-31  26.646394  26.782382  26.540886  ...  105677600        0.0             0\n",
            "2016-11-30  26.300092  26.441490  25.986658  ...  144649200        0.0             0\n",
            "2016-12-31  27.490197  27.619811  27.202687  ...  122345200        0.0             0\n",
            "\n",
            "[12 rows x 7 columns]\n"
          ]
        }
      ]
    },
    {
      "cell_type": "code",
      "metadata": {
        "colab": {
          "base_uri": "https://localhost:8080/"
        },
        "id": "LvsdssDqw5gd",
        "outputId": "3f267458-8617-4f0f-9d00-748604725010"
      },
      "source": [
        "#example\n",
        "aapl_2017 = df['2017']\n",
        "aapl_month = aapl_2017.resample('M').agg(lambda x: x[-1])\n",
        "print(aapl_month)"
      ],
      "execution_count": 66,
      "outputs": [
        {
          "output_type": "stream",
          "name": "stdout",
          "text": [
            "                 Open       High        Low  ...     Volume  Dividends  Stock Splits\n",
            "Date                                         ...                                    \n",
            "2017-01-31  28.550679  28.607238  28.425777  ...  196804000        0.0             0\n",
            "2017-02-28  32.444866  32.530073  32.354924  ...   93931600        0.0             0\n",
            "2017-03-31  34.016455  34.146633  33.848407  ...   78646800        0.0             0\n",
            "2017-04-30  34.104032  34.153737  33.909951  ...   83441600        0.0             0\n",
            "2017-05-31  36.592909  36.640441  36.215027  ...   97804800        0.0             0\n",
            "2017-06-30  34.330354  34.451564  34.171121  ...   92096400        0.0             0\n",
            "2017-07-31  35.625614  35.727811  35.204954  ...   79383600        0.0             0\n",
            "2017-08-31  39.043832  39.253797  39.005656  ...  107140400        0.0             0\n",
            "2017-09-30  36.555280  36.774788  36.266578  ...  105199200        0.0             0\n",
            "2017-10-31  40.060253  40.477796  39.831203  ...  144187200        0.0             0\n",
            "2017-11-30  40.810073  41.219541  40.333563  ...  166108800        0.0             0\n",
            "2017-12-31  40.831629  40.848389  40.520339  ...  103999600        0.0             0\n",
            "\n",
            "[12 rows x 7 columns]\n"
          ]
        }
      ]
    },
    {
      "cell_type": "markdown",
      "metadata": {
        "id": "CqrbrbFZPTJe"
      },
      "source": [
        "We may select certain columns of a DataFrame using their names:"
      ]
    },
    {
      "cell_type": "code",
      "metadata": {
        "colab": {
          "base_uri": "https://localhost:8080/"
        },
        "id": "7bQGeyCAHW9_",
        "outputId": "210d17db-8634-4da8-8a02-e12bd3764616"
      },
      "source": [
        "aapl_bar = aapl_month[['Open', 'High', 'Low', 'Close']]\n",
        "print(aapl_bar)"
      ],
      "execution_count": 87,
      "outputs": [
        {
          "output_type": "stream",
          "name": "stdout",
          "text": [
            "                 Open       High        Low      Close\n",
            "Date                                                  \n",
            "2016-01-31  21.852390  22.440252  21.750954  22.440252\n",
            "2016-02-29  22.450753  22.768300  22.402079  22.411350\n",
            "2016-03-31  25.431522  25.473243  25.236821  25.262318\n",
            "2016-04-30  21.785533  21.954737  21.442491  21.727587\n",
            "2016-05-31  23.226407  23.412965  23.044514  23.287039\n",
            "2016-06-30  22.023112  22.333262  21.990464  22.293619\n",
            "2016-07-31  24.296782  24.380733  24.177851  24.301445\n",
            "2016-08-31  24.773056  24.986413  24.768365  24.876217\n",
            "2016-09-30  26.367388  26.580747  26.212645  26.505720\n",
            "2016-10-31  26.646394  26.782382  26.540886  26.620604\n",
            "2016-11-30  26.300092  26.441490  25.986658  26.045574\n",
            "2016-12-31  27.490197  27.619811  27.202687  27.294596\n"
          ]
        }
      ]
    },
    {
      "cell_type": "code",
      "metadata": {
        "colab": {
          "base_uri": "https://localhost:8080/"
        },
        "id": "wJxvHMz3xRf_",
        "outputId": "2956ae7a-8262-4e66-e825-fa7ce3b39d0d"
      },
      "source": [
        "#example\n",
        "aapl_bar = aapl_month[['Volume','Dividends', 'Stock Splits']]\n",
        "print(aapl_bar)"
      ],
      "execution_count": 68,
      "outputs": [
        {
          "output_type": "stream",
          "name": "stdout",
          "text": [
            "               Volume  Dividends  Stock Splits\n",
            "Date                                          \n",
            "2017-01-31  196804000        0.0             0\n",
            "2017-02-28   93931600        0.0             0\n",
            "2017-03-31   78646800        0.0             0\n",
            "2017-04-30   83441600        0.0             0\n",
            "2017-05-31   97804800        0.0             0\n",
            "2017-06-30   92096400        0.0             0\n",
            "2017-07-31   79383600        0.0             0\n",
            "2017-08-31  107140400        0.0             0\n",
            "2017-09-30  105199200        0.0             0\n",
            "2017-10-31  144187200        0.0             0\n",
            "2017-11-30  166108800        0.0             0\n",
            "2017-12-31  103999600        0.0             0\n"
          ]
        }
      ]
    },
    {
      "cell_type": "markdown",
      "metadata": {
        "id": "8CQaZCAQP68O"
      },
      "source": [
        "We can even specify both rows and columns using loc[]. The row indices and column names are separated by a comma:"
      ]
    },
    {
      "cell_type": "code",
      "metadata": {
        "colab": {
          "base_uri": "https://localhost:8080/"
        },
        "id": "YjWWiHVpHW-A",
        "outputId": "36b3e385-6585-4156-a26d-808dbf185c18"
      },
      "source": [
        "print(aapl_month.loc['2016-03':'2016-06',['Open', 'High', 'Low', 'Close']])"
      ],
      "execution_count": 88,
      "outputs": [
        {
          "output_type": "stream",
          "name": "stdout",
          "text": [
            "                 Open       High        Low      Close\n",
            "Date                                                  \n",
            "2016-03-31  25.431522  25.473243  25.236821  25.262318\n",
            "2016-04-30  21.785533  21.954737  21.442491  21.727587\n",
            "2016-05-31  23.226407  23.412965  23.044514  23.287039\n",
            "2016-06-30  22.023112  22.333262  21.990464  22.293619\n"
          ]
        }
      ]
    },
    {
      "cell_type": "code",
      "metadata": {
        "colab": {
          "base_uri": "https://localhost:8080/"
        },
        "id": "YxkQPB2sxpUv",
        "outputId": "3db8cdbd-7300-4565-ebd8-7015ea6fc995"
      },
      "source": [
        "#example\n",
        "print(aapl_month.loc['2017-05':'2017-10',['Volume','Dividends', 'Stock Splits']])"
      ],
      "execution_count": 49,
      "outputs": [
        {
          "output_type": "stream",
          "name": "stdout",
          "text": [
            "               Volume  Dividends  Stock Splits\n",
            "Date                                          \n",
            "2017-05-31   97804800        0.0             0\n",
            "2017-06-30   92096400        0.0             0\n",
            "2017-07-31   79383600        0.0             0\n",
            "2017-08-31  107140400        0.0             0\n",
            "2017-09-30  105199200        0.0             0\n",
            "2017-10-31  144187200        0.0             0\n"
          ]
        }
      ]
    },
    {
      "cell_type": "markdown",
      "metadata": {
        "id": "Xcn_pHNLQBEH"
      },
      "source": [
        "The subset methods in DataFrame is quite useful. By writing logical statements in square brackets, we can make customized subsets:"
      ]
    },
    {
      "cell_type": "code",
      "metadata": {
        "colab": {
          "base_uri": "https://localhost:8080/"
        },
        "id": "RxKg4dObHW-A",
        "outputId": "a02747a9-1d15-4ad0-ffff-a1d00179e90a"
      },
      "source": [
        "import numpy as np\n",
        "\n",
        "above = aapl_bar[aapl_bar.Close > np.mean(aapl_bar.Close)]\n",
        "print(above)"
      ],
      "execution_count": 89,
      "outputs": [
        {
          "output_type": "stream",
          "name": "stdout",
          "text": [
            "                 Open       High        Low      Close\n",
            "Date                                                  \n",
            "2016-03-31  25.431522  25.473243  25.236821  25.262318\n",
            "2016-08-31  24.773056  24.986413  24.768365  24.876217\n",
            "2016-09-30  26.367388  26.580747  26.212645  26.505720\n",
            "2016-10-31  26.646394  26.782382  26.540886  26.620604\n",
            "2016-11-30  26.300092  26.441490  25.986658  26.045574\n",
            "2016-12-31  27.490197  27.619811  27.202687  27.294596\n"
          ]
        }
      ]
    },
    {
      "cell_type": "markdown",
      "metadata": {
        "id": "wcm_UadkQLL5"
      },
      "source": [
        "## Data Validation\n",
        "As mentioned, all methods that apply to a Series can also be applied to a DataFrame. Here we add a new column to an existing DataFrame:"
      ]
    },
    {
      "cell_type": "code",
      "metadata": {
        "colab": {
          "base_uri": "https://localhost:8080/"
        },
        "id": "jZXFdOVFHW-A",
        "outputId": "41cc9d54-c3a5-4bb2-b37e-9f1dde79e3d7"
      },
      "source": [
        "aapl_bar['rate_return'] = aapl_bar.Close.pct_change()\n",
        "print(aapl_bar)"
      ],
      "execution_count": 90,
      "outputs": [
        {
          "output_type": "stream",
          "name": "stdout",
          "text": [
            "                 Open       High        Low      Close  rate_return\n",
            "Date                                                               \n",
            "2016-01-31  21.852390  22.440252  21.750954  22.440252          NaN\n",
            "2016-02-29  22.450753  22.768300  22.402079  22.411350    -0.001288\n",
            "2016-03-31  25.431522  25.473243  25.236821  25.262318     0.127211\n",
            "2016-04-30  21.785533  21.954737  21.442491  21.727587    -0.139921\n",
            "2016-05-31  23.226407  23.412965  23.044514  23.287039     0.071773\n",
            "2016-06-30  22.023112  22.333262  21.990464  22.293619    -0.042660\n",
            "2016-07-31  24.296782  24.380733  24.177851  24.301445     0.090063\n",
            "2016-08-31  24.773056  24.986413  24.768365  24.876217     0.023652\n",
            "2016-09-30  26.367388  26.580747  26.212645  26.505720     0.065504\n",
            "2016-10-31  26.646394  26.782382  26.540886  26.620604     0.004334\n",
            "2016-11-30  26.300092  26.441490  25.986658  26.045574    -0.021601\n",
            "2016-12-31  27.490197  27.619811  27.202687  27.294596     0.047955\n"
          ]
        },
        {
          "output_type": "stream",
          "name": "stderr",
          "text": [
            "/usr/local/lib/python3.7/dist-packages/ipykernel_launcher.py:1: SettingWithCopyWarning: \n",
            "A value is trying to be set on a copy of a slice from a DataFrame.\n",
            "Try using .loc[row_indexer,col_indexer] = value instead\n",
            "\n",
            "See the caveats in the documentation: https://pandas.pydata.org/pandas-docs/stable/user_guide/indexing.html#returning-a-view-versus-a-copy\n",
            "  \"\"\"Entry point for launching an IPython kernel.\n"
          ]
        }
      ]
    },
    {
      "cell_type": "markdown",
      "metadata": {
        "id": "_or6n5-LQUa-"
      },
      "source": [
        "Here the calculation introduced a NaN value. If the DataFrame is large, we would not be able to observe it. **isnull()** provides a convenient way to check abnormal values."
      ]
    },
    {
      "cell_type": "code",
      "metadata": {
        "colab": {
          "base_uri": "https://localhost:8080/"
        },
        "id": "V5wgmhIPHW-B",
        "outputId": "cc399cb0-8d12-4b71-f765-23ec2af96a85"
      },
      "source": [
        "missing = aapl_bar.isnull()\n",
        "print(missing)\n",
        "print('---------------------------------------------')\n",
        "print(missing.describe())"
      ],
      "execution_count": 91,
      "outputs": [
        {
          "output_type": "stream",
          "name": "stdout",
          "text": [
            "             Open   High    Low  Close  rate_return\n",
            "Date                                               \n",
            "2016-01-31  False  False  False  False         True\n",
            "2016-02-29  False  False  False  False        False\n",
            "2016-03-31  False  False  False  False        False\n",
            "2016-04-30  False  False  False  False        False\n",
            "2016-05-31  False  False  False  False        False\n",
            "2016-06-30  False  False  False  False        False\n",
            "2016-07-31  False  False  False  False        False\n",
            "2016-08-31  False  False  False  False        False\n",
            "2016-09-30  False  False  False  False        False\n",
            "2016-10-31  False  False  False  False        False\n",
            "2016-11-30  False  False  False  False        False\n",
            "2016-12-31  False  False  False  False        False\n",
            "---------------------------------------------\n",
            "         Open   High    Low  Close rate_return\n",
            "count      12     12     12     12          12\n",
            "unique      1      1      1      1           2\n",
            "top     False  False  False  False       False\n",
            "freq       12     12     12     12          11\n"
          ]
        }
      ]
    },
    {
      "cell_type": "markdown",
      "metadata": {
        "id": "d6KFV4i0QfLW"
      },
      "source": [
        "The row labelled \"unique\" indicates the number of unique values in each column. Since the \"rate_return\" column has 2 unique values, it has at least one missing value.\n",
        "\n",
        "We can deduce the number of missing values by comparing \"count\" with \"freq\". There are 12 counts and 11 False values, so there is one True value which corresponds to the missing value.\n",
        "\n",
        "We can also find the rows with missing values easily:"
      ]
    },
    {
      "cell_type": "code",
      "metadata": {
        "colab": {
          "base_uri": "https://localhost:8080/"
        },
        "id": "Eo0ZAhCsHW-B",
        "outputId": "2097975e-3faa-4313-f817-8e482f52b01c"
      },
      "source": [
        "print(missing[missing.rate_return == True])"
      ],
      "execution_count": 94,
      "outputs": [
        {
          "output_type": "stream",
          "name": "stdout",
          "text": [
            "             Open   High    Low  Close  rate_return\n",
            "Date                                               \n",
            "2016-01-31  False  False  False  False         True\n"
          ]
        }
      ]
    },
    {
      "cell_type": "code",
      "metadata": {
        "colab": {
          "base_uri": "https://localhost:8080/"
        },
        "id": "EoxabJ7czOr8",
        "outputId": "476f2eec-3d14-4ad1-c043-93f394673ed3"
      },
      "source": [
        "#example\n",
        "print(missing[missing.rate_return == False])"
      ],
      "execution_count": 93,
      "outputs": [
        {
          "output_type": "stream",
          "name": "stdout",
          "text": [
            "             Open   High    Low  Close  rate_return\n",
            "Date                                               \n",
            "2016-02-29  False  False  False  False        False\n",
            "2016-03-31  False  False  False  False        False\n",
            "2016-04-30  False  False  False  False        False\n",
            "2016-05-31  False  False  False  False        False\n",
            "2016-06-30  False  False  False  False        False\n",
            "2016-07-31  False  False  False  False        False\n",
            "2016-08-31  False  False  False  False        False\n",
            "2016-09-30  False  False  False  False        False\n",
            "2016-10-31  False  False  False  False        False\n",
            "2016-11-30  False  False  False  False        False\n",
            "2016-12-31  False  False  False  False        False\n"
          ]
        }
      ]
    },
    {
      "cell_type": "markdown",
      "metadata": {
        "id": "qgggpD8OQkZX"
      },
      "source": [
        "Usually when dealing with missing data, we either delete the whole row or fill it with some value. As we introduced in the Series chapter, the same method **dropna()** and **fillna()** can be applied to a DataFrame."
      ]
    },
    {
      "cell_type": "code",
      "metadata": {
        "colab": {
          "base_uri": "https://localhost:8080/"
        },
        "id": "j8PaIokjHW-B",
        "outputId": "b6323fa4-65b9-415d-f25a-7183737edb17"
      },
      "source": [
        "drop = aapl_bar.dropna()\n",
        "print(drop)\n",
        "print('\\n--------------------------------------------------\\n')\n",
        "fill = aapl_bar.fillna(0)\n",
        "print(fill)"
      ],
      "execution_count": null,
      "outputs": [
        {
          "name": "stdout",
          "output_type": "stream",
          "text": [
            "                 Open       High        Low      Close  rate_return\n",
            "Date                                                               \n",
            "2016-02-29  22.450753  22.768300  22.402079  22.411350    -0.001288\n",
            "2016-03-31  25.431520  25.473242  25.236819  25.262316     0.127211\n",
            "2016-04-30  21.785531  21.954736  21.442489  21.727585    -0.139921\n",
            "2016-05-31  23.226411  23.412969  23.044518  23.287043     0.071773\n",
            "2016-06-30  22.023115  22.333266  21.990468  22.293623    -0.042660\n",
            "2016-07-31  24.296776  24.380727  24.177845  24.301439     0.090062\n",
            "2016-08-31  24.773059  24.986417  24.768369  24.876221     0.023652\n",
            "2016-09-30  26.367386  26.580745  26.212643  26.505718     0.065504\n",
            "2016-10-31  26.646394  26.782382  26.540886  26.620604     0.004334\n",
            "2016-11-30  26.300092  26.441490  25.986658  26.045574    -0.021601\n",
            "2016-12-31  27.490191  27.619805  27.202681  27.294590     0.047955\n",
            "\n",
            "--------------------------------------------------\n",
            "\n",
            "                 Open       High        Low      Close  rate_return\n",
            "Date                                                               \n",
            "2016-01-31  21.852388  22.440250  21.750952  22.440250     0.000000\n",
            "2016-02-29  22.450753  22.768300  22.402079  22.411350    -0.001288\n",
            "2016-03-31  25.431520  25.473242  25.236819  25.262316     0.127211\n",
            "2016-04-30  21.785531  21.954736  21.442489  21.727585    -0.139921\n",
            "2016-05-31  23.226411  23.412969  23.044518  23.287043     0.071773\n",
            "2016-06-30  22.023115  22.333266  21.990468  22.293623    -0.042660\n",
            "2016-07-31  24.296776  24.380727  24.177845  24.301439     0.090062\n",
            "2016-08-31  24.773059  24.986417  24.768369  24.876221     0.023652\n",
            "2016-09-30  26.367386  26.580745  26.212643  26.505718     0.065504\n",
            "2016-10-31  26.646394  26.782382  26.540886  26.620604     0.004334\n",
            "2016-11-30  26.300092  26.441490  25.986658  26.045574    -0.021601\n",
            "2016-12-31  27.490191  27.619805  27.202681  27.294590     0.047955\n"
          ]
        }
      ]
    },
    {
      "cell_type": "markdown",
      "metadata": {
        "id": "0tvoFlKWQxYG"
      },
      "source": [
        "## DataFrame Concat\n",
        "We have seen how to extract a Series from a dataFrame. Now we need to consider how to merge a Series or a DataFrame into another one.\n",
        "\n",
        "In Pandas, the function **concat()** allows us to merge multiple Series into a DataFrame:"
      ]
    },
    {
      "cell_type": "code",
      "metadata": {
        "colab": {
          "base_uri": "https://localhost:8080/"
        },
        "id": "uQrmLIWKHW-C",
        "outputId": "ac2523af-86f0-42cc-8b4a-6bf234cc694c"
      },
      "source": [
        "s1 = pd.Series([143.5, 144.09, 142.73, 144.18, 143.77], name = 'AAPL')\n",
        "s2 = pd.Series([898.7, 911.71, 906.69, 918.59, 926.99], name = 'GOOG')\n",
        "data_frame = pd.concat([s1,s2], axis = 1)\n",
        "print(data_frame)"
      ],
      "execution_count": null,
      "outputs": [
        {
          "name": "stdout",
          "output_type": "stream",
          "text": [
            "     AAPL    GOOG\n",
            "0  143.50  898.70\n",
            "1  144.09  911.71\n",
            "2  142.73  906.69\n",
            "3  144.18  918.59\n",
            "4  143.77  926.99\n"
          ]
        }
      ]
    },
    {
      "cell_type": "code",
      "metadata": {
        "colab": {
          "base_uri": "https://localhost:8080/"
        },
        "id": "P7Oc5pwG1RzW",
        "outputId": "481f5648-9b5a-4c23-b66a-6f66fe6e412c"
      },
      "source": [
        "#example\n",
        "s1 = pd.Series([143.5, 144.09, 142.73, 144.18, 143.77], name = 'TWTR')\n",
        "s2 = pd.Series([898.7, 911.71, 906.69, 918.59, 926.99], name = 'FB')\n",
        "data_frame = pd.concat([s1,s2], axis = 1)\n",
        "print(data_frame)"
      ],
      "execution_count": 95,
      "outputs": [
        {
          "output_type": "stream",
          "name": "stdout",
          "text": [
            "     TWTR      FB\n",
            "0  143.50  898.70\n",
            "1  144.09  911.71\n",
            "2  142.73  906.69\n",
            "3  144.18  918.59\n",
            "4  143.77  926.99\n"
          ]
        }
      ]
    },
    {
      "cell_type": "markdown",
      "metadata": {
        "id": "3ojbNYJLR2vv"
      },
      "source": [
        "The \"axis = 1\" parameter will join two DataFrames by columns:"
      ]
    },
    {
      "cell_type": "code",
      "metadata": {
        "colab": {
          "base_uri": "https://localhost:8080/"
        },
        "id": "DJsaLd-cRoIm",
        "outputId": "5f5a9072-4ea1-461b-ba84-0678d699468e"
      },
      "source": [
        "log_price = np.log(aapl_bar.Close)\n",
        "log_price.name = 'log_price'\n",
        "print(log_price)\n",
        "print('\\n---------------------- separate line--------------------\\n')\n",
        "concat = pd.concat([aapl_bar, log_price], axis = 1)\n",
        "print(concat)"
      ],
      "execution_count": 96,
      "outputs": [
        {
          "output_type": "stream",
          "name": "stdout",
          "text": [
            "Date\n",
            "2016-01-31    3.110856\n",
            "2016-02-29    3.109568\n",
            "2016-03-31    3.229314\n",
            "2016-04-30    3.078583\n",
            "2016-05-31    3.147897\n",
            "2016-06-30    3.104301\n",
            "2016-07-31    3.190536\n",
            "2016-08-31    3.213912\n",
            "2016-09-30    3.277361\n",
            "2016-10-31    3.281685\n",
            "2016-11-30    3.259848\n",
            "2016-12-31    3.306689\n",
            "Freq: M, Name: log_price, dtype: float64\n",
            "\n",
            "---------------------- separate line--------------------\n",
            "\n",
            "                 Open       High        Low      Close  rate_return  log_price\n",
            "Date                                                                          \n",
            "2016-01-31  21.852390  22.440252  21.750954  22.440252          NaN   3.110856\n",
            "2016-02-29  22.450753  22.768300  22.402079  22.411350    -0.001288   3.109568\n",
            "2016-03-31  25.431522  25.473243  25.236821  25.262318     0.127211   3.229314\n",
            "2016-04-30  21.785533  21.954737  21.442491  21.727587    -0.139921   3.078583\n",
            "2016-05-31  23.226407  23.412965  23.044514  23.287039     0.071773   3.147897\n",
            "2016-06-30  22.023112  22.333262  21.990464  22.293619    -0.042660   3.104301\n",
            "2016-07-31  24.296782  24.380733  24.177851  24.301445     0.090063   3.190536\n",
            "2016-08-31  24.773056  24.986413  24.768365  24.876217     0.023652   3.213912\n",
            "2016-09-30  26.367388  26.580747  26.212645  26.505720     0.065504   3.277361\n",
            "2016-10-31  26.646394  26.782382  26.540886  26.620604     0.004334   3.281685\n",
            "2016-11-30  26.300092  26.441490  25.986658  26.045574    -0.021601   3.259848\n",
            "2016-12-31  27.490197  27.619811  27.202687  27.294596     0.047955   3.306689\n"
          ]
        }
      ]
    },
    {
      "cell_type": "markdown",
      "metadata": {
        "id": "mIZz-FUyR_62"
      },
      "source": [
        "We can also join two DataFrames by rows. Consider these two DataFrames:"
      ]
    },
    {
      "cell_type": "code",
      "metadata": {
        "colab": {
          "base_uri": "https://localhost:8080/"
        },
        "id": "W7uXZptLHW-C",
        "outputId": "4f41d9a1-4f8a-4007-b92c-f21ec267a8ba"
      },
      "source": [
        "df_volume = aapl_table.loc['2016-10':'2017-04',['Volume', 'Stock Splits']].resample('M').agg(lambda x: x[-1])\n",
        "print(df_volume)\n",
        "print('\\n---------------------- separate line--------------------\\n')\n",
        "df_2017 = aapl_table.loc['2016-10':'2017-04',['Open', 'High', 'Low', 'Close']].resample('M').agg(lambda x: x[-1])\n",
        "print(df_2017)"
      ],
      "execution_count": 104,
      "outputs": [
        {
          "output_type": "stream",
          "name": "stdout",
          "text": [
            "               Volume  Stock Splits\n",
            "Date                               \n",
            "2016-10-31  105677600             0\n",
            "2016-11-30  144649200             0\n",
            "2016-12-31  122345200             0\n",
            "2017-01-31  196804000             0\n",
            "2017-02-28   93931600             0\n",
            "2017-03-31   78646800             0\n",
            "2017-04-30   83441600             0\n",
            "\n",
            "---------------------- separate line--------------------\n",
            "\n",
            "                 Open       High        Low      Close\n",
            "Date                                                  \n",
            "2016-10-31  26.646394  26.782382  26.540886  26.620604\n",
            "2016-11-30  26.300092  26.441490  25.986658  26.045574\n",
            "2016-12-31  27.490197  27.619811  27.202687  27.294596\n",
            "2017-01-31  28.550679  28.607238  28.425777  28.597811\n",
            "2017-02-28  32.444866  32.530073  32.354924  32.423565\n",
            "2017-03-31  34.016455  34.146633  33.848407  34.002254\n",
            "2017-04-30  34.104032  34.153737  33.909951  33.999889\n"
          ]
        }
      ]
    },
    {
      "cell_type": "code",
      "metadata": {
        "colab": {
          "base_uri": "https://localhost:8080/"
        },
        "id": "GWcV9vew1eg6",
        "outputId": "b2566626-e942-4a50-efc6-8826cd938322"
      },
      "source": [
        "#example\n",
        "df_volume = aapl_table.loc['2016-03':'2017-10',['Volume', 'Stock Splits']].resample('M').agg(lambda x: x[-1])\n",
        "print(df_volume)\n",
        "print('\\n---------------------- separate line--------------------\\n')\n",
        "df_2017 = aapl_table.loc['2016-03':'2017-10',['Open', 'High', 'Low', 'Close']].resample('M').agg(lambda x: x[-1])\n",
        "print(df_2017)"
      ],
      "execution_count": 97,
      "outputs": [
        {
          "output_type": "stream",
          "name": "stdout",
          "text": [
            "               Volume  Stock Splits\n",
            "Date                               \n",
            "2016-03-31  103553600             0\n",
            "2016-04-30  274126000             0\n",
            "2016-05-31  169228800             0\n",
            "2016-06-30  143345600             0\n",
            "2016-07-31  110934800             0\n",
            "2016-08-31  118649600             0\n",
            "2016-09-30  145516400             0\n",
            "2016-10-31  105677600             0\n",
            "2016-11-30  144649200             0\n",
            "2016-12-31  122345200             0\n",
            "2017-01-31  196804000             0\n",
            "2017-02-28   93931600             0\n",
            "2017-03-31   78646800             0\n",
            "2017-04-30   83441600             0\n",
            "2017-05-31   97804800             0\n",
            "2017-06-30   92096400             0\n",
            "2017-07-31   79383600             0\n",
            "2017-08-31  107140400             0\n",
            "2017-09-30  105199200             0\n",
            "2017-10-31  144187200             0\n",
            "\n",
            "---------------------- separate line--------------------\n",
            "\n",
            "                 Open       High        Low      Close\n",
            "Date                                                  \n",
            "2016-03-31  25.431522  25.473243  25.236821  25.262318\n",
            "2016-04-30  21.785533  21.954737  21.442491  21.727587\n",
            "2016-05-31  23.226407  23.412965  23.044514  23.287039\n",
            "2016-06-30  22.023112  22.333262  21.990464  22.293619\n",
            "2016-07-31  24.296782  24.380733  24.177851  24.301445\n",
            "2016-08-31  24.773056  24.986413  24.768365  24.876217\n",
            "2016-09-30  26.367388  26.580747  26.212645  26.505720\n",
            "2016-10-31  26.646394  26.782382  26.540886  26.620604\n",
            "2016-11-30  26.300092  26.441490  25.986658  26.045574\n",
            "2016-12-31  27.490197  27.619811  27.202687  27.294596\n",
            "2017-01-31  28.550679  28.607238  28.425777  28.597811\n",
            "2017-02-28  32.444866  32.530073  32.354924  32.423565\n",
            "2017-03-31  34.016455  34.146633  33.848407  34.002254\n",
            "2017-04-30  34.104032  34.153737  33.909951  33.999889\n",
            "2017-05-31  36.592909  36.640441  36.215027  36.305336\n",
            "2017-06-30  34.330354  34.451564  34.171121  34.228161\n",
            "2017-07-31  35.625614  35.727811  35.204954  35.347549\n",
            "2017-08-31  39.043832  39.253797  39.005656  39.129726\n",
            "2017-09-30  36.555280  36.774788  36.266578  36.772400\n",
            "2017-10-31  40.060253  40.477796  39.831203  40.332253\n"
          ]
        }
      ]
    },
    {
      "cell_type": "markdown",
      "metadata": {
        "id": "iZk_C9aSSLeP"
      },
      "source": [
        "Now we merge the DataFrames with our DataFrame 'aapl_bar'"
      ]
    },
    {
      "cell_type": "code",
      "metadata": {
        "colab": {
          "base_uri": "https://localhost:8080/"
        },
        "id": "aFqmjokOHW-C",
        "outputId": "cf7a58e0-3f3e-4a5e-ff95-8ddeaff0f33f"
      },
      "source": [
        "concat = pd.concat([aapl_bar, df_volume], axis = 1)\n",
        "print(concat)"
      ],
      "execution_count": 105,
      "outputs": [
        {
          "output_type": "stream",
          "name": "stdout",
          "text": [
            "                 Open       High  ...       Volume  Stock Splits\n",
            "Date                              ...                           \n",
            "2016-01-31  21.852390  22.440252  ...          NaN           NaN\n",
            "2016-02-29  22.450753  22.768300  ...          NaN           NaN\n",
            "2016-03-31  25.431522  25.473243  ...          NaN           NaN\n",
            "2016-04-30  21.785533  21.954737  ...          NaN           NaN\n",
            "2016-05-31  23.226407  23.412965  ...          NaN           NaN\n",
            "2016-06-30  22.023112  22.333262  ...          NaN           NaN\n",
            "2016-07-31  24.296782  24.380733  ...          NaN           NaN\n",
            "2016-08-31  24.773056  24.986413  ...          NaN           NaN\n",
            "2016-09-30  26.367388  26.580747  ...          NaN           NaN\n",
            "2016-10-31  26.646394  26.782382  ...  105677600.0           0.0\n",
            "2016-11-30  26.300092  26.441490  ...  144649200.0           0.0\n",
            "2016-12-31  27.490197  27.619811  ...  122345200.0           0.0\n",
            "2017-01-31        NaN        NaN  ...  196804000.0           0.0\n",
            "2017-02-28        NaN        NaN  ...   93931600.0           0.0\n",
            "2017-03-31        NaN        NaN  ...   78646800.0           0.0\n",
            "2017-04-30        NaN        NaN  ...   83441600.0           0.0\n",
            "\n",
            "[16 rows x 7 columns]\n"
          ]
        }
      ]
    },
    {
      "cell_type": "markdown",
      "metadata": {
        "id": "7yI3tgB4SR4O"
      },
      "source": [
        "By default the DataFrame are joined with all of the data. This default options results in zero information loss. We can also merge them by intersection, this is called 'inner join"
      ]
    },
    {
      "cell_type": "code",
      "metadata": {
        "colab": {
          "base_uri": "https://localhost:8080/"
        },
        "id": "31QGLyijHW-C",
        "outputId": "d7e20d12-bde3-4308-d837-470ae0115d85"
      },
      "source": [
        "concat = pd.concat([aapl_bar,df_volume],axis = 1, join = 'inner')\n",
        "print(concat)"
      ],
      "execution_count": 106,
      "outputs": [
        {
          "output_type": "stream",
          "name": "stdout",
          "text": [
            "                 Open       High  ...     Volume  Stock Splits\n",
            "Date                              ...                         \n",
            "2016-10-31  26.646394  26.782382  ...  105677600             0\n",
            "2016-11-30  26.300092  26.441490  ...  144649200             0\n",
            "2016-12-31  27.490197  27.619811  ...  122345200             0\n",
            "\n",
            "[3 rows x 7 columns]\n"
          ]
        }
      ]
    },
    {
      "cell_type": "code",
      "metadata": {
        "colab": {
          "base_uri": "https://localhost:8080/"
        },
        "id": "CUob-Z331nhV",
        "outputId": "0a0a9193-70b1-4aaf-bfef-5c3baf6fa22a"
      },
      "source": [
        "#example\n",
        "concat = pd.concat([aapl_bar,df_volume],axis = 0, join = 'inner')\n",
        "print(concat)"
      ],
      "execution_count": 107,
      "outputs": [
        {
          "output_type": "stream",
          "name": "stdout",
          "text": [
            "Empty DataFrame\n",
            "Columns: []\n",
            "Index: [2016-01-31 00:00:00, 2016-02-29 00:00:00, 2016-03-31 00:00:00, 2016-04-30 00:00:00, 2016-05-31 00:00:00, 2016-06-30 00:00:00, 2016-07-31 00:00:00, 2016-08-31 00:00:00, 2016-09-30 00:00:00, 2016-10-31 00:00:00, 2016-11-30 00:00:00, 2016-12-31 00:00:00, 2016-10-31 00:00:00, 2016-11-30 00:00:00, 2016-12-31 00:00:00, 2017-01-31 00:00:00, 2017-02-28 00:00:00, 2017-03-31 00:00:00, 2017-04-30 00:00:00]\n"
          ]
        }
      ]
    },
    {
      "cell_type": "markdown",
      "metadata": {
        "id": "oudcWMm5Sd0u"
      },
      "source": [
        "Only the intersection part was left if use 'inner join' method. Now let's try to append a DataFrame to another one:"
      ]
    },
    {
      "cell_type": "code",
      "metadata": {
        "colab": {
          "base_uri": "https://localhost:8080/"
        },
        "id": "lgw0qaOsHW-D",
        "outputId": "3aee329f-386e-4131-ef58-af4e34d6940a"
      },
      "source": [
        "append = aapl_bar.append(df_2017)\n",
        "print(append)"
      ],
      "execution_count": 108,
      "outputs": [
        {
          "output_type": "stream",
          "name": "stdout",
          "text": [
            "                 Open       High        Low      Close  rate_return\n",
            "Date                                                               \n",
            "2016-01-31  21.852390  22.440252  21.750954  22.440252          NaN\n",
            "2016-02-29  22.450753  22.768300  22.402079  22.411350    -0.001288\n",
            "2016-03-31  25.431522  25.473243  25.236821  25.262318     0.127211\n",
            "2016-04-30  21.785533  21.954737  21.442491  21.727587    -0.139921\n",
            "2016-05-31  23.226407  23.412965  23.044514  23.287039     0.071773\n",
            "2016-06-30  22.023112  22.333262  21.990464  22.293619    -0.042660\n",
            "2016-07-31  24.296782  24.380733  24.177851  24.301445     0.090063\n",
            "2016-08-31  24.773056  24.986413  24.768365  24.876217     0.023652\n",
            "2016-09-30  26.367388  26.580747  26.212645  26.505720     0.065504\n",
            "2016-10-31  26.646394  26.782382  26.540886  26.620604     0.004334\n",
            "2016-11-30  26.300092  26.441490  25.986658  26.045574    -0.021601\n",
            "2016-12-31  27.490197  27.619811  27.202687  27.294596     0.047955\n",
            "2016-10-31  26.646394  26.782382  26.540886  26.620604          NaN\n",
            "2016-11-30  26.300092  26.441490  25.986658  26.045574          NaN\n",
            "2016-12-31  27.490197  27.619811  27.202687  27.294596          NaN\n",
            "2017-01-31  28.550679  28.607238  28.425777  28.597811          NaN\n",
            "2017-02-28  32.444866  32.530073  32.354924  32.423565          NaN\n",
            "2017-03-31  34.016455  34.146633  33.848407  34.002254          NaN\n",
            "2017-04-30  34.104032  34.153737  33.909951  33.999889          NaN\n"
          ]
        }
      ]
    },
    {
      "cell_type": "markdown",
      "metadata": {
        "id": "zXT6cMquSq_P"
      },
      "source": [
        "'Append' is essentially to concat two DataFrames by axis = 0, thus here is an alternative way to append:"
      ]
    },
    {
      "cell_type": "code",
      "metadata": {
        "colab": {
          "base_uri": "https://localhost:8080/"
        },
        "id": "2EuSaFO9HW-D",
        "outputId": "3dd5009f-ac77-4ab8-ec3d-d972726c0293"
      },
      "source": [
        "concat = pd.concat([aapl_bar, df_2017], axis = 0)\n",
        "print(concat)"
      ],
      "execution_count": null,
      "outputs": [
        {
          "name": "stdout",
          "output_type": "stream",
          "text": [
            "                 Open       High        Low      Close  rate_return\n",
            "Date                                                               \n",
            "2016-01-31  21.852388  22.440250  21.750952  22.440250          NaN\n",
            "2016-02-29  22.450753  22.768300  22.402079  22.411350    -0.001288\n",
            "2016-03-31  25.431520  25.473242  25.236819  25.262316     0.127211\n",
            "2016-04-30  21.785531  21.954736  21.442489  21.727585    -0.139921\n",
            "2016-05-31  23.226411  23.412969  23.044518  23.287043     0.071773\n",
            "2016-06-30  22.023115  22.333266  21.990468  22.293623    -0.042660\n",
            "2016-07-31  24.296776  24.380727  24.177845  24.301439     0.090062\n",
            "2016-08-31  24.773059  24.986417  24.768369  24.876221     0.023652\n",
            "2016-09-30  26.367386  26.580745  26.212643  26.505718     0.065504\n",
            "2016-10-31  26.646394  26.782382  26.540886  26.620604     0.004334\n",
            "2016-11-30  26.300092  26.441490  25.986658  26.045574    -0.021601\n",
            "2016-12-31  27.490191  27.619805  27.202681  27.294590     0.047955\n",
            "2016-10-31  26.646394  26.782382  26.540886  26.620604          NaN\n",
            "2016-11-30  26.300092  26.441490  25.986658  26.045574          NaN\n",
            "2016-12-31  27.490191  27.619805  27.202681  27.294590          NaN\n",
            "2017-01-31  28.550684  28.607243  28.425783  28.597816          NaN\n",
            "2017-02-28  32.444877  32.530084  32.354935  32.423576          NaN\n",
            "2017-03-31  34.016455  34.146633  33.848407  34.002254          NaN\n",
            "2017-04-30  34.104032  34.153737  33.909951  33.999889          NaN\n"
          ]
        }
      ]
    },
    {
      "cell_type": "code",
      "metadata": {
        "colab": {
          "base_uri": "https://localhost:8080/"
        },
        "id": "UQYUAqhJ2VKq",
        "outputId": "e1e061af-cd7c-4baa-dab5-000cc97d3c3c"
      },
      "source": [
        "#example\n",
        "concat = pd.concat([aapl_bar, df_2017], axis = 1)\n",
        "print(concat)"
      ],
      "execution_count": 111,
      "outputs": [
        {
          "output_type": "stream",
          "name": "stdout",
          "text": [
            "                 Open       High        Low  ...       High        Low      Close\n",
            "Date                                         ...                                 \n",
            "2016-01-31  21.852390  22.440252  21.750954  ...        NaN        NaN        NaN\n",
            "2016-02-29  22.450753  22.768300  22.402079  ...        NaN        NaN        NaN\n",
            "2016-03-31  25.431522  25.473243  25.236821  ...        NaN        NaN        NaN\n",
            "2016-04-30  21.785533  21.954737  21.442491  ...        NaN        NaN        NaN\n",
            "2016-05-31  23.226407  23.412965  23.044514  ...        NaN        NaN        NaN\n",
            "2016-06-30  22.023112  22.333262  21.990464  ...        NaN        NaN        NaN\n",
            "2016-07-31  24.296782  24.380733  24.177851  ...        NaN        NaN        NaN\n",
            "2016-08-31  24.773056  24.986413  24.768365  ...        NaN        NaN        NaN\n",
            "2016-09-30  26.367388  26.580747  26.212645  ...        NaN        NaN        NaN\n",
            "2016-10-31  26.646394  26.782382  26.540886  ...  26.782382  26.540886  26.620604\n",
            "2016-11-30  26.300092  26.441490  25.986658  ...  26.441490  25.986658  26.045574\n",
            "2016-12-31  27.490197  27.619811  27.202687  ...  27.619811  27.202687  27.294596\n",
            "2017-01-31        NaN        NaN        NaN  ...  28.607238  28.425777  28.597811\n",
            "2017-02-28        NaN        NaN        NaN  ...  32.530073  32.354924  32.423565\n",
            "2017-03-31        NaN        NaN        NaN  ...  34.146633  33.848407  34.002254\n",
            "2017-04-30        NaN        NaN        NaN  ...  34.153737  33.909951  33.999889\n",
            "\n",
            "[16 rows x 9 columns]\n"
          ]
        }
      ]
    },
    {
      "cell_type": "markdown",
      "metadata": {
        "id": "-YXL7V9ASst9"
      },
      "source": [
        "Please note that if the two DataFrame have some columns with the same column names, these columns are considered to be the same and will be merged. It's very important to have the right column names. If we change a column names here:"
      ]
    },
    {
      "cell_type": "code",
      "metadata": {
        "colab": {
          "base_uri": "https://localhost:8080/"
        },
        "id": "aT1eoa8mHW-D",
        "outputId": "278e6551-26ec-4984-dfcd-e4e3d22f349c"
      },
      "source": [
        "df_2017.columns = ['Change', 'High','Low','Close']\n",
        "concat = pd.concat([aapl_bar, df_2017], axis = 1)\n",
        "print(concat)"
      ],
      "execution_count": 116,
      "outputs": [
        {
          "output_type": "stream",
          "name": "stdout",
          "text": [
            "                 Open       High        Low  ...       High        Low      Close\n",
            "Date                                         ...                                 \n",
            "2016-01-31  21.852390  22.440252  21.750954  ...        NaN        NaN        NaN\n",
            "2016-02-29  22.450753  22.768300  22.402079  ...        NaN        NaN        NaN\n",
            "2016-03-31  25.431522  25.473243  25.236821  ...        NaN        NaN        NaN\n",
            "2016-04-30  21.785533  21.954737  21.442491  ...        NaN        NaN        NaN\n",
            "2016-05-31  23.226407  23.412965  23.044514  ...        NaN        NaN        NaN\n",
            "2016-06-30  22.023112  22.333262  21.990464  ...        NaN        NaN        NaN\n",
            "2016-07-31  24.296782  24.380733  24.177851  ...        NaN        NaN        NaN\n",
            "2016-08-31  24.773056  24.986413  24.768365  ...        NaN        NaN        NaN\n",
            "2016-09-30  26.367388  26.580747  26.212645  ...        NaN        NaN        NaN\n",
            "2016-10-31  26.646394  26.782382  26.540886  ...  26.782382  26.540886  26.620604\n",
            "2016-11-30  26.300092  26.441490  25.986658  ...  26.441490  25.986658  26.045574\n",
            "2016-12-31  27.490197  27.619811  27.202687  ...  27.619811  27.202687  27.294596\n",
            "2017-01-31        NaN        NaN        NaN  ...  28.607238  28.425777  28.597811\n",
            "2017-02-28        NaN        NaN        NaN  ...  32.530073  32.354924  32.423565\n",
            "2017-03-31        NaN        NaN        NaN  ...  34.146633  33.848407  34.002254\n",
            "2017-04-30        NaN        NaN        NaN  ...  34.153737  33.909951  33.999889\n",
            "\n",
            "[16 rows x 9 columns]\n"
          ]
        }
      ]
    },
    {
      "cell_type": "code",
      "metadata": {
        "colab": {
          "base_uri": "https://localhost:8080/"
        },
        "id": "_D0kNNKG2YWU",
        "outputId": "e7bca704-6294-4566-c391-9cfbeb7cdeb2"
      },
      "source": [
        "#example\n",
        "df_2017.columns = ['Change', 'High','Low','Close']\n",
        "concat = pd.concat([aapl_bar, df_2017], axis = 0)\n",
        "print(concat)"
      ],
      "execution_count": 117,
      "outputs": [
        {
          "output_type": "stream",
          "name": "stdout",
          "text": [
            "                 Open       High        Low      Close  rate_return     Change\n",
            "Date                                                                          \n",
            "2016-01-31  21.852390  22.440252  21.750954  22.440252          NaN        NaN\n",
            "2016-02-29  22.450753  22.768300  22.402079  22.411350    -0.001288        NaN\n",
            "2016-03-31  25.431522  25.473243  25.236821  25.262318     0.127211        NaN\n",
            "2016-04-30  21.785533  21.954737  21.442491  21.727587    -0.139921        NaN\n",
            "2016-05-31  23.226407  23.412965  23.044514  23.287039     0.071773        NaN\n",
            "2016-06-30  22.023112  22.333262  21.990464  22.293619    -0.042660        NaN\n",
            "2016-07-31  24.296782  24.380733  24.177851  24.301445     0.090063        NaN\n",
            "2016-08-31  24.773056  24.986413  24.768365  24.876217     0.023652        NaN\n",
            "2016-09-30  26.367388  26.580747  26.212645  26.505720     0.065504        NaN\n",
            "2016-10-31  26.646394  26.782382  26.540886  26.620604     0.004334        NaN\n",
            "2016-11-30  26.300092  26.441490  25.986658  26.045574    -0.021601        NaN\n",
            "2016-12-31  27.490197  27.619811  27.202687  27.294596     0.047955        NaN\n",
            "2016-10-31        NaN  26.782382  26.540886  26.620604          NaN  26.646394\n",
            "2016-11-30        NaN  26.441490  25.986658  26.045574          NaN  26.300092\n",
            "2016-12-31        NaN  27.619811  27.202687  27.294596          NaN  27.490197\n",
            "2017-01-31        NaN  28.607238  28.425777  28.597811          NaN  28.550679\n",
            "2017-02-28        NaN  32.530073  32.354924  32.423565          NaN  32.444866\n",
            "2017-03-31        NaN  34.146633  33.848407  34.002254          NaN  34.016455\n",
            "2017-04-30        NaN  34.153737  33.909951  33.999889          NaN  34.104032\n"
          ]
        }
      ]
    },
    {
      "cell_type": "markdown",
      "metadata": {
        "id": "shbpOFyyS6uV"
      },
      "source": [
        "Since the column name of 'Open' has been changed, the new DataFrame has an new column named 'Change'.\n",
        "\n",
        "# Summary\n",
        "\n",
        "Hereby we introduced the most import part of python: resampling and DataFrame manipulation. We only introduced the most commonly used method in Financial data analysis. There are also many methods used in data mining, which are also beneficial. You can always check the [Pandas](https://pandas.pydata.org/pandas-docs/stable/index.html) official documentations for help."
      ]
    }
  ]
}
